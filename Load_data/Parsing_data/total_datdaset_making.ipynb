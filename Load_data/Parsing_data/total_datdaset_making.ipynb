{
 "cells": [
  {
   "cell_type": "code",
   "execution_count": 44,
   "id": "1ffa111f-5bee-434a-b7f3-a6eeb6c2afa4",
   "metadata": {},
   "outputs": [],
   "source": [
    "import pandas as pd\n",
    "import numpy as np\n",
    "from tqdm import tqdm"
   ]
  },
  {
   "cell_type": "markdown",
   "id": "a149b0af-58e2-4885-8e1a-8e5583c237fa",
   "metadata": {},
   "source": [
    "# Load data"
   ]
  },
  {
   "cell_type": "code",
   "execution_count": 2,
   "id": "00b34fa8-dfb5-4344-a2f9-5107f69cf17d",
   "metadata": {},
   "outputs": [],
   "source": [
    "def concat_df(prefix=None):\n",
    "    path = Path('.')\n",
    "    files = list(path.glob(f'/{prefix}_*.csv'))\n",
    "\n",
    "    dfs = [pd.read_csv(file) for file in files]\n",
    "    total_df = pd.concat(dfs, ignore_index=True)\n",
    "\n",
    "    return total_df"
   ]
  },
  {
   "cell_type": "code",
   "execution_count": 3,
   "id": "2a0875d8-29f8-4f32-8c20-36b308417196",
   "metadata": {},
   "outputs": [],
   "source": [
    "# resumes_df = concat_df('resumes')\n",
    "# vacancies_df = concat_df('vacancies')"
   ]
  },
  {
   "cell_type": "code",
   "execution_count": 4,
   "id": "c30c48cd-6228-445d-9ba6-de79979171c7",
   "metadata": {},
   "outputs": [],
   "source": [
    "resumes_df = pd.read_csv(r'Total_dataset/total_resumes.csv')\n",
    "vacancies_df = pd.read_csv(r'Total_dataset/total_vacancies.csv')\n",
    "matches_df = pd.read_csv(r'Total_dataset/matches.csv')"
   ]
  },
  {
   "cell_type": "markdown",
   "id": "60a03f8e-6b91-457a-955a-948e1697edcf",
   "metadata": {},
   "source": [
    "# Preprocessing"
   ]
  },
  {
   "cell_type": "markdown",
   "id": "7881ba68-d750-4384-999b-526036db3241",
   "metadata": {},
   "source": [
    "## matches_df"
   ]
  },
  {
   "cell_type": "code",
   "execution_count": 5,
   "id": "1cda4815-7665-4c22-8760-59900b930413",
   "metadata": {},
   "outputs": [],
   "source": [
    "matches_df['resume_ids'] = matches_df['resume_ids'].apply(lambda x: eval(x))"
   ]
  },
  {
   "cell_type": "code",
   "execution_count": 6,
   "id": "b09b2e9e-c28b-4fbb-8fa0-a9c48701267b",
   "metadata": {},
   "outputs": [],
   "source": [
    "matches_df = matches_df.explode('resume_ids')"
   ]
  },
  {
   "cell_type": "code",
   "execution_count": 7,
   "id": "4a5c6ba3-2779-45ef-ac77-1184fa886988",
   "metadata": {},
   "outputs": [],
   "source": [
    "matches_df = matches_df.rename(columns={'resume_ids': 'resume_id'})"
   ]
  },
  {
   "cell_type": "code",
   "execution_count": 8,
   "id": "9ae98872-81eb-40dd-bf05-678c8b936f9d",
   "metadata": {},
   "outputs": [
    {
     "data": {
      "text/plain": [
       "np.int64(13935)"
      ]
     },
     "execution_count": 8,
     "metadata": {},
     "output_type": "execute_result"
    }
   ],
   "source": [
    "matches_df.duplicated().sum()"
   ]
  },
  {
   "cell_type": "code",
   "execution_count": 9,
   "id": "4717d67e-c265-47ff-8a8e-b3aa0ae84de9",
   "metadata": {},
   "outputs": [],
   "source": [
    "matches_df = matches_df.drop_duplicates()"
   ]
  },
  {
   "cell_type": "code",
   "execution_count": 10,
   "id": "937d4a8b-7458-4820-9544-75ab049c5905",
   "metadata": {},
   "outputs": [],
   "source": [
    "matches_df.loc[:,'resume_id'] = matches_df['resume_id'].astype(int)"
   ]
  },
  {
   "cell_type": "code",
   "execution_count": 11,
   "id": "dfd6741f-0833-4ac3-aac0-c4e8808a5995",
   "metadata": {},
   "outputs": [
    {
     "name": "stdout",
     "output_type": "stream",
     "text": [
      "<class 'pandas.core.frame.DataFrame'>\n",
      "Index: 25525 entries, 0 to 3945\n",
      "Data columns (total 2 columns):\n",
      " #   Column      Non-Null Count  Dtype \n",
      "---  ------      --------------  ----- \n",
      " 0   vacancy_id  25525 non-null  int64 \n",
      " 1   resume_id   25525 non-null  object\n",
      "dtypes: int64(1), object(1)\n",
      "memory usage: 598.2+ KB\n"
     ]
    }
   ],
   "source": [
    "matches_df.info()"
   ]
  },
  {
   "cell_type": "code",
   "execution_count": 12,
   "id": "f61cb45a-d37f-401f-9d05-46a3bec22329",
   "metadata": {},
   "outputs": [
    {
     "data": {
      "text/html": [
       "<div>\n",
       "<style scoped>\n",
       "    .dataframe tbody tr th:only-of-type {\n",
       "        vertical-align: middle;\n",
       "    }\n",
       "\n",
       "    .dataframe tbody tr th {\n",
       "        vertical-align: top;\n",
       "    }\n",
       "\n",
       "    .dataframe thead th {\n",
       "        text-align: right;\n",
       "    }\n",
       "</style>\n",
       "<table border=\"1\" class=\"dataframe\">\n",
       "  <thead>\n",
       "    <tr style=\"text-align: right;\">\n",
       "      <th></th>\n",
       "      <th>vacancy_id</th>\n",
       "      <th>resume_id</th>\n",
       "    </tr>\n",
       "  </thead>\n",
       "  <tbody>\n",
       "    <tr>\n",
       "      <th>0</th>\n",
       "      <td>126167948</td>\n",
       "      <td>6969174</td>\n",
       "    </tr>\n",
       "    <tr>\n",
       "      <th>0</th>\n",
       "      <td>126167948</td>\n",
       "      <td>9100077</td>\n",
       "    </tr>\n",
       "    <tr>\n",
       "      <th>0</th>\n",
       "      <td>126167948</td>\n",
       "      <td>32644957</td>\n",
       "    </tr>\n",
       "    <tr>\n",
       "      <th>0</th>\n",
       "      <td>126167948</td>\n",
       "      <td>27220466</td>\n",
       "    </tr>\n",
       "    <tr>\n",
       "      <th>0</th>\n",
       "      <td>126167948</td>\n",
       "      <td>7532708</td>\n",
       "    </tr>\n",
       "  </tbody>\n",
       "</table>\n",
       "</div>"
      ],
      "text/plain": [
       "   vacancy_id resume_id\n",
       "0   126167948   6969174\n",
       "0   126167948   9100077\n",
       "0   126167948  32644957\n",
       "0   126167948  27220466\n",
       "0   126167948   7532708"
      ]
     },
     "execution_count": 12,
     "metadata": {},
     "output_type": "execute_result"
    }
   ],
   "source": [
    "matches_df.head()"
   ]
  },
  {
   "cell_type": "markdown",
   "id": "f1cd6172-2534-4ab1-a906-360f2ec1e914",
   "metadata": {},
   "source": [
    "## resumes_df"
   ]
  },
  {
   "cell_type": "code",
   "execution_count": 13,
   "id": "1c8ffa04-c0f6-4335-981d-e3f45bd3d236",
   "metadata": {},
   "outputs": [
    {
     "name": "stdout",
     "output_type": "stream",
     "text": [
      "<class 'pandas.core.frame.DataFrame'>\n",
      "RangeIndex: 25229 entries, 0 to 25228\n",
      "Data columns (total 19 columns):\n",
      " #   Column                          Non-Null Count  Dtype  \n",
      "---  ------                          --------------  -----  \n",
      " 0   id                              25229 non-null  int64  \n",
      " 1   title                           25096 non-null  object \n",
      " 2   url                             25229 non-null  object \n",
      " 3   specialization                  25091 non-null  object \n",
      " 4   last_company                    24594 non-null  object \n",
      " 5   last_position                   24603 non-null  object \n",
      " 6   last_experience_description     24589 non-null  object \n",
      " 7   last_company_experience_period  24604 non-null  object \n",
      " 8   skills                          17028 non-null  object \n",
      " 9   education                       24760 non-null  object \n",
      " 10  courses                         10607 non-null  object \n",
      " 11  salary                          14481 non-null  object \n",
      " 12  age                             23844 non-null  float64\n",
      " 13  total_experience                24741 non-null  object \n",
      " 14  experience_months               24741 non-null  float64\n",
      " 15  location                        25091 non-null  object \n",
      " 16  gender                          25091 non-null  object \n",
      " 17  applicant_status                6000 non-null   object \n",
      " 18  parsed_date                     25229 non-null  object \n",
      "dtypes: float64(2), int64(1), object(16)\n",
      "memory usage: 3.7+ MB\n"
     ]
    }
   ],
   "source": [
    "resumes_df.info()"
   ]
  },
  {
   "cell_type": "code",
   "execution_count": 14,
   "id": "a5f54628-5ebe-4c53-adf6-1757ca6829fe",
   "metadata": {},
   "outputs": [],
   "source": [
    "resumes_df = resumes_df.sort_values('id')"
   ]
  },
  {
   "cell_type": "markdown",
   "id": "a4d58a1f-63f5-4f2c-8e77-616b79225a43",
   "metadata": {},
   "source": [
    "Проверим наличие дубликатов по всем столбцам и только по id"
   ]
  },
  {
   "cell_type": "code",
   "execution_count": 15,
   "id": "d2655602-3dd1-4984-835f-e81821efa560",
   "metadata": {},
   "outputs": [
    {
     "data": {
      "text/plain": [
       "3"
      ]
     },
     "execution_count": 15,
     "metadata": {},
     "output_type": "execute_result"
    }
   ],
   "source": [
    "resumes_df.duplicated().sum().item()"
   ]
  },
  {
   "cell_type": "code",
   "execution_count": 16,
   "id": "d628c110-6815-48cc-86ea-faf2c437c0a4",
   "metadata": {},
   "outputs": [
    {
     "data": {
      "text/plain": [
       "4318"
      ]
     },
     "execution_count": 16,
     "metadata": {},
     "output_type": "execute_result"
    }
   ],
   "source": [
    "resumes_df['id'].duplicated().sum().item()"
   ]
  },
  {
   "cell_type": "markdown",
   "id": "6fb53d2d-64dd-4524-a373-ea90ebf51cff",
   "metadata": {},
   "source": [
    "Т.к. резюме скачиваются по разным профессиям и в разное время, могут скачиваться одни и те же резюме. Оставим только последнюю скаченную версию."
   ]
  },
  {
   "cell_type": "code",
   "execution_count": 17,
   "id": "9a34250a-bda4-49b6-9115-364b3ecf6c88",
   "metadata": {},
   "outputs": [],
   "source": [
    "resumes_df['rank'] = resumes_df.groupby('id')['parsed_date'].rank(ascending=False)\n",
    "resumes_df = resumes_df[resumes_df['rank'] == 1]"
   ]
  },
  {
   "cell_type": "markdown",
   "id": "f86c801b-83ae-4f85-9ec4-7244f37c94c1",
   "metadata": {},
   "source": [
    "Оставим только необходимые для обучения колонки."
   ]
  },
  {
   "cell_type": "code",
   "execution_count": 18,
   "id": "d521c212-41c9-4648-8ccb-ebb4c3c0101f",
   "metadata": {},
   "outputs": [],
   "source": [
    "old_resume_col = ['id', 'title', 'specialization', 'last_position', 'last_experience_description', 'last_company_experience_period', \n",
    "                  'skills', 'education', 'courses', 'salary', 'age', 'total_experience', 'experience_months', 'location', 'gender', 'applicant_status']\n",
    "new_resume_col = ['resume_' + col for col in old_resume_col]\n",
    "new_resume_col_dict = {old_col: new_col for old_col, new_col in zip(old_resume_col, new_resume_col)}\n",
    "resumes_df = resumes_df[old_resume_col].rename(columns=new_resume_col_dict)"
   ]
  },
  {
   "cell_type": "code",
   "execution_count": 19,
   "id": "b2a7cf53-e85d-4251-a756-576552d76b65",
   "metadata": {},
   "outputs": [
    {
     "data": {
      "text/html": [
       "<div>\n",
       "<style scoped>\n",
       "    .dataframe tbody tr th:only-of-type {\n",
       "        vertical-align: middle;\n",
       "    }\n",
       "\n",
       "    .dataframe tbody tr th {\n",
       "        vertical-align: top;\n",
       "    }\n",
       "\n",
       "    .dataframe thead th {\n",
       "        text-align: right;\n",
       "    }\n",
       "</style>\n",
       "<table border=\"1\" class=\"dataframe\">\n",
       "  <thead>\n",
       "    <tr style=\"text-align: right;\">\n",
       "      <th></th>\n",
       "      <th>resume_id</th>\n",
       "      <th>resume_title</th>\n",
       "      <th>resume_specialization</th>\n",
       "      <th>resume_last_position</th>\n",
       "      <th>resume_last_experience_description</th>\n",
       "      <th>resume_last_company_experience_period</th>\n",
       "      <th>resume_skills</th>\n",
       "      <th>resume_education</th>\n",
       "      <th>resume_courses</th>\n",
       "      <th>resume_salary</th>\n",
       "      <th>resume_age</th>\n",
       "      <th>resume_total_experience</th>\n",
       "      <th>resume_experience_months</th>\n",
       "      <th>resume_location</th>\n",
       "      <th>resume_gender</th>\n",
       "      <th>resume_applicant_status</th>\n",
       "    </tr>\n",
       "  </thead>\n",
       "  <tbody>\n",
       "    <tr>\n",
       "      <th>15067</th>\n",
       "      <td>201</td>\n",
       "      <td>Finance director</td>\n",
       "      <td>['Финансовый аналитик, инвестиционный аналитик...</td>\n",
       "      <td>Production Financial controller</td>\n",
       "      <td>•\\tOverall financial control of multipurpose p...</td>\n",
       "      <td>4 года 5 месяцев</td>\n",
       "      <td>['Budgeting', 'IFRS', 'SAP', 'Risk management'...</td>\n",
       "      <td>['London Guildhall Metropolitan University', '...</td>\n",
       "      <td>['Japanese Educational Centre, Master', 'Mosco...</td>\n",
       "      <td>400 000 ₽ на руки</td>\n",
       "      <td>NaN</td>\n",
       "      <td>27 лет 10 месяцев</td>\n",
       "      <td>334.0</td>\n",
       "      <td>Москва</td>\n",
       "      <td>Мужчина</td>\n",
       "      <td>Активно ищет работу</td>\n",
       "    </tr>\n",
       "    <tr>\n",
       "      <th>22849</th>\n",
       "      <td>349</td>\n",
       "      <td>Специалист по Информационным технологиям</td>\n",
       "      <td>['Специалист технической поддержки']</td>\n",
       "      <td>Автомеханик</td>\n",
       "      <td>Ремонт VW, BMW, Ford, Mitsubishi, Opel, Toyota...</td>\n",
       "      <td>24 года 5 месяцев</td>\n",
       "      <td>NaN</td>\n",
       "      <td>['Московский государственный институт    радио...</td>\n",
       "      <td>['Школа юного менеджера при РЭА имени Г.В. Пле...</td>\n",
       "      <td>700 $ на руки</td>\n",
       "      <td>48.0</td>\n",
       "      <td>26 лет 2 месяца</td>\n",
       "      <td>314.0</td>\n",
       "      <td>Москва</td>\n",
       "      <td>Мужчина</td>\n",
       "      <td>NaN</td>\n",
       "    </tr>\n",
       "    <tr>\n",
       "      <th>12826</th>\n",
       "      <td>738</td>\n",
       "      <td>Менеджер</td>\n",
       "      <td>['Менеджер по продажам, менеджер по работе с к...</td>\n",
       "      <td>индивидуальный предприниматель</td>\n",
       "      <td>Персональные компьютеры, сотовая и радиосвязь,...</td>\n",
       "      <td>29 лет 5 месяцев</td>\n",
       "      <td>NaN</td>\n",
       "      <td>['Мос. Электротехнический Институт Связи', 'Мо...</td>\n",
       "      <td>NaN</td>\n",
       "      <td>1 000 $ на руки</td>\n",
       "      <td>78.0</td>\n",
       "      <td>55 лет 10 месяцев</td>\n",
       "      <td>670.0</td>\n",
       "      <td>Москва</td>\n",
       "      <td>Мужчина</td>\n",
       "      <td>NaN</td>\n",
       "    </tr>\n",
       "    <tr>\n",
       "      <th>12827</th>\n",
       "      <td>940</td>\n",
       "      <td>Технический директор</td>\n",
       "      <td>['Начальник производства']</td>\n",
       "      <td>Head of production department</td>\n",
       "      <td>Руководсво полным циклом производства:выбор пр...</td>\n",
       "      <td>24 года 11 месяцев</td>\n",
       "      <td>NaN</td>\n",
       "      <td>['Московский Физико-технический институт']</td>\n",
       "      <td>NaN</td>\n",
       "      <td>1 500 $ на руки</td>\n",
       "      <td>56.0</td>\n",
       "      <td>30 лет 6 месяцев</td>\n",
       "      <td>366.0</td>\n",
       "      <td>Москва</td>\n",
       "      <td>Мужчина</td>\n",
       "      <td>NaN</td>\n",
       "    </tr>\n",
       "    <tr>\n",
       "      <th>21517</th>\n",
       "      <td>1079</td>\n",
       "      <td>Программист</td>\n",
       "      <td>['Программист, разработчик']</td>\n",
       "      <td>Ведущий разработчик</td>\n",
       "      <td>Создал микросервисы на Python для загрузки зад...</td>\n",
       "      <td>3 года 7 месяцев</td>\n",
       "      <td>['ORACLE', 'MS SQL', 'MySQL', 'PostgreSQL', 'J...</td>\n",
       "      <td>['Московский государственный инженерно-физичес...</td>\n",
       "      <td>['OTUS, NLP / Natural Language Processing', 'G...</td>\n",
       "      <td>400 000 ₽ на руки</td>\n",
       "      <td>53.0</td>\n",
       "      <td>31 год 1 месяц</td>\n",
       "      <td>373.0</td>\n",
       "      <td>Москва</td>\n",
       "      <td>Мужчина</td>\n",
       "      <td>Активно ищет работу</td>\n",
       "    </tr>\n",
       "  </tbody>\n",
       "</table>\n",
       "</div>"
      ],
      "text/plain": [
       "       resume_id                              resume_title  \\\n",
       "15067        201                          Finance director   \n",
       "22849        349  Специалист по Информационным технологиям   \n",
       "12826        738                                  Менеджер   \n",
       "12827        940                      Технический директор   \n",
       "21517       1079                               Программист   \n",
       "\n",
       "                                   resume_specialization  \\\n",
       "15067  ['Финансовый аналитик, инвестиционный аналитик...   \n",
       "22849               ['Специалист технической поддержки']   \n",
       "12826  ['Менеджер по продажам, менеджер по работе с к...   \n",
       "12827                         ['Начальник производства']   \n",
       "21517                       ['Программист, разработчик']   \n",
       "\n",
       "                  resume_last_position  \\\n",
       "15067  Production Financial controller   \n",
       "22849                      Автомеханик   \n",
       "12826   индивидуальный предприниматель   \n",
       "12827    Head of production department   \n",
       "21517              Ведущий разработчик   \n",
       "\n",
       "                      resume_last_experience_description  \\\n",
       "15067  •\\tOverall financial control of multipurpose p...   \n",
       "22849  Ремонт VW, BMW, Ford, Mitsubishi, Opel, Toyota...   \n",
       "12826  Персональные компьютеры, сотовая и радиосвязь,...   \n",
       "12827  Руководсво полным циклом производства:выбор пр...   \n",
       "21517  Создал микросервисы на Python для загрузки зад...   \n",
       "\n",
       "      resume_last_company_experience_period  \\\n",
       "15067                      4 года 5 месяцев   \n",
       "22849                     24 года 5 месяцев   \n",
       "12826                      29 лет 5 месяцев   \n",
       "12827                    24 года 11 месяцев   \n",
       "21517                      3 года 7 месяцев   \n",
       "\n",
       "                                           resume_skills  \\\n",
       "15067  ['Budgeting', 'IFRS', 'SAP', 'Risk management'...   \n",
       "22849                                                NaN   \n",
       "12826                                                NaN   \n",
       "12827                                                NaN   \n",
       "21517  ['ORACLE', 'MS SQL', 'MySQL', 'PostgreSQL', 'J...   \n",
       "\n",
       "                                        resume_education  \\\n",
       "15067  ['London Guildhall Metropolitan University', '...   \n",
       "22849  ['Московский государственный институт    радио...   \n",
       "12826  ['Мос. Электротехнический Институт Связи', 'Мо...   \n",
       "12827         ['Московский Физико-технический институт']   \n",
       "21517  ['Московский государственный инженерно-физичес...   \n",
       "\n",
       "                                          resume_courses      resume_salary  \\\n",
       "15067  ['Japanese Educational Centre, Master', 'Mosco...  400 000 ₽ на руки   \n",
       "22849  ['Школа юного менеджера при РЭА имени Г.В. Пле...      700 $ на руки   \n",
       "12826                                                NaN    1 000 $ на руки   \n",
       "12827                                                NaN    1 500 $ на руки   \n",
       "21517  ['OTUS, NLP / Natural Language Processing', 'G...  400 000 ₽ на руки   \n",
       "\n",
       "       resume_age resume_total_experience  resume_experience_months  \\\n",
       "15067         NaN       27 лет 10 месяцев                     334.0   \n",
       "22849        48.0         26 лет 2 месяца                     314.0   \n",
       "12826        78.0       55 лет 10 месяцев                     670.0   \n",
       "12827        56.0        30 лет 6 месяцев                     366.0   \n",
       "21517        53.0          31 год 1 месяц                     373.0   \n",
       "\n",
       "      resume_location resume_gender resume_applicant_status  \n",
       "15067          Москва       Мужчина     Активно ищет работу  \n",
       "22849          Москва       Мужчина                     NaN  \n",
       "12826          Москва       Мужчина                     NaN  \n",
       "12827          Москва       Мужчина                     NaN  \n",
       "21517          Москва       Мужчина     Активно ищет работу  "
      ]
     },
     "execution_count": 19,
     "metadata": {},
     "output_type": "execute_result"
    }
   ],
   "source": [
    "resumes_df.head()"
   ]
  },
  {
   "cell_type": "markdown",
   "id": "fc9a25bf-ea68-4020-a37a-3dc220a8c2f5",
   "metadata": {},
   "source": [
    "## vacancies_df"
   ]
  },
  {
   "cell_type": "code",
   "execution_count": 20,
   "id": "ec1ed637-c8d2-498d-a050-5234626714ba",
   "metadata": {},
   "outputs": [
    {
     "data": {
      "text/plain": [
       "2"
      ]
     },
     "execution_count": 20,
     "metadata": {},
     "output_type": "execute_result"
    }
   ],
   "source": [
    "vacancies_df.duplicated().sum().item()"
   ]
  },
  {
   "cell_type": "code",
   "execution_count": 21,
   "id": "6a8a3cf2-e71c-4324-8f57-ad58be763848",
   "metadata": {},
   "outputs": [
    {
     "data": {
      "text/plain": [
       "536"
      ]
     },
     "execution_count": 21,
     "metadata": {},
     "output_type": "execute_result"
    }
   ],
   "source": [
    "vacancies_df['id'].duplicated().sum().item()"
   ]
  },
  {
   "cell_type": "code",
   "execution_count": 22,
   "id": "e23eb13f-0a99-4b3b-874f-918eb8fcdb4e",
   "metadata": {},
   "outputs": [],
   "source": [
    "vacancies_df['rank'] = vacancies_df.groupby('id')['parsed_date'].rank(ascending=False)\n",
    "vacancies_df = vacancies_df[vacancies_df['rank'] == 1]"
   ]
  },
  {
   "cell_type": "code",
   "execution_count": 23,
   "id": "10ce8c0f-4dd5-45a5-8a02-8a9ce7a77f12",
   "metadata": {},
   "outputs": [],
   "source": [
    "old_vacancy_col = ['id', 'name', 'area', 'experience', 'employment', 'schedule', 'salary_from', 'salary_to', 'salary_currency', 'salary_gross', 'description']\n",
    "new_vacancy_col = ['vacancy_' + col for col in old_vacancy_col]\n",
    "new_vacancy_col_dict = {old_col: new_col for old_col, new_col in zip(old_vacancy_col, new_vacancy_col)}\n",
    "vacancies_df = vacancies_df[old_vacancy_col].rename(columns=new_vacancy_col_dict)"
   ]
  },
  {
   "cell_type": "code",
   "execution_count": 24,
   "id": "fc274d27-ce3f-4d53-9d68-154c570c3cc7",
   "metadata": {},
   "outputs": [
    {
     "data": {
      "text/html": [
       "<div>\n",
       "<style scoped>\n",
       "    .dataframe tbody tr th:only-of-type {\n",
       "        vertical-align: middle;\n",
       "    }\n",
       "\n",
       "    .dataframe tbody tr th {\n",
       "        vertical-align: top;\n",
       "    }\n",
       "\n",
       "    .dataframe thead th {\n",
       "        text-align: right;\n",
       "    }\n",
       "</style>\n",
       "<table border=\"1\" class=\"dataframe\">\n",
       "  <thead>\n",
       "    <tr style=\"text-align: right;\">\n",
       "      <th></th>\n",
       "      <th>vacancy_id</th>\n",
       "      <th>vacancy_name</th>\n",
       "      <th>vacancy_area</th>\n",
       "      <th>vacancy_experience</th>\n",
       "      <th>vacancy_employment</th>\n",
       "      <th>vacancy_schedule</th>\n",
       "      <th>vacancy_salary_from</th>\n",
       "      <th>vacancy_salary_to</th>\n",
       "      <th>vacancy_salary_currency</th>\n",
       "      <th>vacancy_salary_gross</th>\n",
       "      <th>vacancy_description</th>\n",
       "    </tr>\n",
       "  </thead>\n",
       "  <tbody>\n",
       "    <tr>\n",
       "      <th>0</th>\n",
       "      <td>126167948</td>\n",
       "      <td>Разработчик SAP ABAP</td>\n",
       "      <td>Москва</td>\n",
       "      <td>Более 6 лет</td>\n",
       "      <td>Полная занятость</td>\n",
       "      <td>Удаленная работа</td>\n",
       "      <td>300000.0</td>\n",
       "      <td>NaN</td>\n",
       "      <td>RUR</td>\n",
       "      <td>False</td>\n",
       "      <td>Привет!.redev — технологическая компания, созд...</td>\n",
       "    </tr>\n",
       "    <tr>\n",
       "      <th>1</th>\n",
       "      <td>126211419</td>\n",
       "      <td>Старший разработчик ABAP</td>\n",
       "      <td>Москва</td>\n",
       "      <td>От 3 до 6 лет</td>\n",
       "      <td>Полная занятость</td>\n",
       "      <td>Удаленная работа</td>\n",
       "      <td>NaN</td>\n",
       "      <td>NaN</td>\n",
       "      <td>NaN</td>\n",
       "      <td>NaN</td>\n",
       "      <td>Лента — федеральный продуктовый ритейлер Росси...</td>\n",
       "    </tr>\n",
       "    <tr>\n",
       "      <th>2</th>\n",
       "      <td>123101841</td>\n",
       "      <td>Старший разработчик SAP ABAP (Clean Core) (Чер...</td>\n",
       "      <td>Москва</td>\n",
       "      <td>От 3 до 6 лет</td>\n",
       "      <td>Полная занятость</td>\n",
       "      <td>Полный день</td>\n",
       "      <td>NaN</td>\n",
       "      <td>NaN</td>\n",
       "      <td>NaN</td>\n",
       "      <td>NaN</td>\n",
       "      <td>Наша вакансия подразумевает релокацию в Черног...</td>\n",
       "    </tr>\n",
       "    <tr>\n",
       "      <th>3</th>\n",
       "      <td>125903052</td>\n",
       "      <td>ABAP-разработчик</td>\n",
       "      <td>Москва</td>\n",
       "      <td>Более 6 лет</td>\n",
       "      <td>Полная занятость</td>\n",
       "      <td>Удаленная работа</td>\n",
       "      <td>NaN</td>\n",
       "      <td>NaN</td>\n",
       "      <td>NaN</td>\n",
       "      <td>NaN</td>\n",
       "      <td>ТерраЛинк - многопрофильный интегратор с 30-ле...</td>\n",
       "    </tr>\n",
       "    <tr>\n",
       "      <th>4</th>\n",
       "      <td>121722062</td>\n",
       "      <td>Консультант-эксперт SAP BW/BI</td>\n",
       "      <td>Москва</td>\n",
       "      <td>От 3 до 6 лет</td>\n",
       "      <td>Полная занятость</td>\n",
       "      <td>Удаленная работа</td>\n",
       "      <td>NaN</td>\n",
       "      <td>NaN</td>\n",
       "      <td>NaN</td>\n",
       "      <td>NaN</td>\n",
       "      <td>Компания СИБИНТЕК-СОФТ приглашает на вакансию ...</td>\n",
       "    </tr>\n",
       "  </tbody>\n",
       "</table>\n",
       "</div>"
      ],
      "text/plain": [
       "   vacancy_id                                       vacancy_name vacancy_area  \\\n",
       "0   126167948                               Разработчик SAP ABAP       Москва   \n",
       "1   126211419                           Старший разработчик ABAP       Москва   \n",
       "2   123101841  Старший разработчик SAP ABAP (Clean Core) (Чер...       Москва   \n",
       "3   125903052                                   ABAP-разработчик       Москва   \n",
       "4   121722062                      Консультант-эксперт SAP BW/BI       Москва   \n",
       "\n",
       "  vacancy_experience vacancy_employment  vacancy_schedule  \\\n",
       "0        Более 6 лет   Полная занятость  Удаленная работа   \n",
       "1      От 3 до 6 лет   Полная занятость  Удаленная работа   \n",
       "2      От 3 до 6 лет   Полная занятость       Полный день   \n",
       "3        Более 6 лет   Полная занятость  Удаленная работа   \n",
       "4      От 3 до 6 лет   Полная занятость  Удаленная работа   \n",
       "\n",
       "   vacancy_salary_from  vacancy_salary_to vacancy_salary_currency  \\\n",
       "0             300000.0                NaN                     RUR   \n",
       "1                  NaN                NaN                     NaN   \n",
       "2                  NaN                NaN                     NaN   \n",
       "3                  NaN                NaN                     NaN   \n",
       "4                  NaN                NaN                     NaN   \n",
       "\n",
       "  vacancy_salary_gross                                vacancy_description  \n",
       "0                False  Привет!.redev — технологическая компания, созд...  \n",
       "1                  NaN  Лента — федеральный продуктовый ритейлер Росси...  \n",
       "2                  NaN  Наша вакансия подразумевает релокацию в Черног...  \n",
       "3                  NaN  ТерраЛинк - многопрофильный интегратор с 30-ле...  \n",
       "4                  NaN  Компания СИБИНТЕК-СОФТ приглашает на вакансию ...  "
      ]
     },
     "execution_count": 24,
     "metadata": {},
     "output_type": "execute_result"
    }
   ],
   "source": [
    "vacancies_df.head()"
   ]
  },
  {
   "cell_type": "code",
   "execution_count": 25,
   "id": "c8ba5b72-15a3-4253-a103-809a20d2a9d7",
   "metadata": {},
   "outputs": [
    {
     "data": {
      "text/plain": [
       "vacancy_id                 0.000000\n",
       "vacancy_name               0.000000\n",
       "vacancy_area               0.000000\n",
       "vacancy_experience         0.000000\n",
       "vacancy_employment         0.000000\n",
       "vacancy_schedule           0.000000\n",
       "vacancy_salary_from        0.768554\n",
       "vacancy_salary_to          0.813435\n",
       "vacancy_salary_currency    0.709006\n",
       "vacancy_salary_gross       0.709006\n",
       "vacancy_description        0.000000\n",
       "dtype: float64"
      ]
     },
     "execution_count": 25,
     "metadata": {},
     "output_type": "execute_result"
    }
   ],
   "source": [
    "vacancies_df.isna().sum() / len(vacancies_df)"
   ]
  },
  {
   "cell_type": "code",
   "execution_count": 26,
   "id": "310b3198-4bcd-4671-b577-55022f1f834b",
   "metadata": {},
   "outputs": [
    {
     "data": {
      "text/plain": [
       "(3409, 11)"
      ]
     },
     "execution_count": 26,
     "metadata": {},
     "output_type": "execute_result"
    }
   ],
   "source": [
    "vacancies_df.shape"
   ]
  },
  {
   "cell_type": "markdown",
   "id": "a31668b9-e3d8-4f91-b210-fa05c56bd061",
   "metadata": {},
   "source": [
    "# Merging"
   ]
  },
  {
   "cell_type": "code",
   "execution_count": 27,
   "id": "36272f34-c362-43e7-86b0-199e7db0c7e9",
   "metadata": {},
   "outputs": [],
   "source": [
    "total_df = vacancies_df.merge(matches_df, how='left')"
   ]
  },
  {
   "cell_type": "code",
   "execution_count": 28,
   "id": "342472f3-ff08-4172-b962-efd21e24d0ad",
   "metadata": {},
   "outputs": [],
   "source": [
    "total_df = total_df.merge(resumes_df, how='left')"
   ]
  },
  {
   "cell_type": "code",
   "execution_count": 46,
   "id": "d567573b-277b-4f5c-9a07-fd30d3ce62f3",
   "metadata": {},
   "outputs": [],
   "source": [
    "total_df['target'] = 1"
   ]
  },
  {
   "cell_type": "markdown",
   "id": "a82a5c75-68b6-4d76-8d1a-46aa14b53815",
   "metadata": {},
   "source": [
    "Добавляем неподходящие к вакансии резюме для обучения"
   ]
  },
  {
   "cell_type": "code",
   "execution_count": 47,
   "id": "371f3ce8-d40c-4942-b0b3-c7f16bb7c754",
   "metadata": {
    "scrolled": true
   },
   "outputs": [
    {
     "name": "stderr",
     "output_type": "stream",
     "text": [
      "100%|█████████████████████████████████████████████████████████████████████████████████████████████████████████████████████████████████████████████████████████████████████████████████| 3409/3409 [00:14<00:00, 233.66it/s]\n"
     ]
    }
   ],
   "source": [
    "target_zero_list = []\n",
    "for vacancy in tqdm(vacancies_df['vacancy_id'].unique()):\n",
    "    resume_match_list = matches_df.loc[matches_df['vacancy_id'] == vacancy, 'resume_id'].tolist()\n",
    "    df_target_zero = vacancies_df[vacancies_df['vacancy_id'] == vacancy].merge(resumes_df[~resumes_df['resume_id'].isin(resume_match_list)].sample(10), how='cross')\n",
    "    target_zero_list.append(df_target_zero)"
   ]
  },
  {
   "cell_type": "code",
   "execution_count": 49,
   "id": "cf47aeb8-6f67-4204-8859-f62e5ea42f8b",
   "metadata": {},
   "outputs": [],
   "source": [
    "df_target_zero = pd.concat(target_zero_list, axis=0)"
   ]
  },
  {
   "cell_type": "code",
   "execution_count": 52,
   "id": "889bf2e7-33f9-4598-b64e-12cf7b5f6d2a",
   "metadata": {},
   "outputs": [],
   "source": [
    "df_target_zero['target'] = 0"
   ]
  },
  {
   "cell_type": "markdown",
   "id": "5738d49a-261b-42c7-bcae-e4b225b9969d",
   "metadata": {},
   "source": [
    "Соединяем обе части в единый датафрейм"
   ]
  },
  {
   "cell_type": "code",
   "execution_count": 53,
   "id": "e42348c4-1f07-45bf-8034-5b5b0e16d5bc",
   "metadata": {},
   "outputs": [],
   "source": [
    "total_df = pd.concat([total_df, df_target_zero], axis=0)"
   ]
  },
  {
   "cell_type": "code",
   "execution_count": 55,
   "id": "f3de00b6-b057-4ecb-b9e8-9c3753b39159",
   "metadata": {},
   "outputs": [],
   "source": [
    "total_df.to_csv(r'Total_dataset/total_df.csv', index=False)"
   ]
  },
  {
   "cell_type": "code",
   "execution_count": null,
   "id": "bce2bf52-c36f-44ef-ba98-a67746639373",
   "metadata": {},
   "outputs": [],
   "source": []
  },
  {
   "cell_type": "code",
   "execution_count": null,
   "id": "92c35be6-942b-45d1-9415-71b73ef6ce0c",
   "metadata": {},
   "outputs": [],
   "source": []
  }
 ],
 "metadata": {
  "kernelspec": {
   "display_name": "Python 3 (ipykernel)",
   "language": "python",
   "name": "python3"
  },
  "language_info": {
   "codemirror_mode": {
    "name": "ipython",
    "version": 3
   },
   "file_extension": ".py",
   "mimetype": "text/x-python",
   "name": "python",
   "nbconvert_exporter": "python",
   "pygments_lexer": "ipython3",
   "version": "3.13.7"
  }
 },
 "nbformat": 4,
 "nbformat_minor": 5
}
