{
 "cells": [
  {
   "cell_type": "code",
   "execution_count": 1,
   "id": "1ed28d64-fead-4016-a284-3b8d20a513db",
   "metadata": {},
   "outputs": [],
   "source": [
    "from hh_resume_parser import HHResumeParser\n",
    "from hh_vacancy_parser import HHVacancyParser"
   ]
  },
  {
   "cell_type": "code",
   "execution_count": 2,
   "id": "11aa121c-7264-4f81-85f6-82dd4e555af7",
   "metadata": {},
   "outputs": [
    {
     "name": "stderr",
     "output_type": "stream",
     "text": [
      "2025-10-10 11:56:21,056 - HHResumeParser - INFO - Парсер инициализирован: timeout=60s, max_retries=5\n",
      "2025-10-10 11:56:21,057 - HHVacancyParser - INFO - Парсер инициализирован: timeout=60s, max_retries=5\n"
     ]
    }
   ],
   "source": [
    "resume_parser = HHResumeParser(timeout=60, max_retries=5)\n",
    "vacancy_parser = HHVacancyParser(timeout=60, max_retries=5)"
   ]
  },
  {
   "cell_type": "code",
   "execution_count": null,
   "id": "aa7e9d52-0e3e-4510-aba0-0f5fda340ebc",
   "metadata": {
    "scrolled": true
   },
   "outputs": [
    {
     "name": "stderr",
     "output_type": "stream",
     "text": [
      "2025-10-10 11:56:21,060 - HHResumeParser - INFO - Поиск по запросу: 'Аналитик данных'\n",
      "2025-10-10 11:56:21,060 - HHResumeParser - INFO - Страница 1/50\n",
      "2025-10-10 11:56:21,061 - HHResumeParser - INFO - Запрос поиска резюме: https://hh.ru/search/resume\n",
      "2025-10-10 11:56:21,686 - HHResumeParser - INFO - Страница поиска резюме успешно загружена\n",
      "2025-10-10 11:56:21,759 - HHResumeParser - INFO - Найдено элементов резюме по data-qa: 20\n",
      "2025-10-10 11:56:21,760 - HHResumeParser - INFO - Загрузка детальной страницы (попытка 1): https://hh.ru/resume/ee9aeada0003fe5f9d0039ed1f79326741334d?query=%D0%90%D0%BD%D0%B0%D0%BB%D0%B8%D1%82%D0%B8%D0%BA+%D0%B4%D0%B0%D0%BD%D0%BD%D1%8B%D1%85&searchRid=17600865811483edf2e57913c9a53026&hhtmFrom=resume_search_result\n",
      "2025-10-10 11:56:22,115 - HHResumeParser - INFO - Успешно собрано деталей: 10\n",
      "2025-10-10 11:56:23,121 - HHResumeParser - INFO - Загрузка детальной страницы (попытка 1): https://hh.ru/resume/c0d0ac9b0002b4446d0039ed1f733567487971?query=%D0%90%D0%BD%D0%B0%D0%BB%D0%B8%D1%82%D0%B8%D0%BA+%D0%B4%D0%B0%D0%BD%D0%BD%D1%8B%D1%85&searchRid=17600865811483edf2e57913c9a53026&hhtmFrom=resume_search_result\n",
      "2025-10-10 11:56:23,483 - HHResumeParser - INFO - Успешно собрано деталей: 10\n",
      "2025-10-10 11:56:24,490 - HHResumeParser - INFO - Загрузка детальной страницы (попытка 1): https://hh.ru/resume/de814d800000f2618c0039ed1f6f3630454553?query=%D0%90%D0%BD%D0%B0%D0%BB%D0%B8%D1%82%D0%B8%D0%BA+%D0%B4%D0%B0%D0%BD%D0%BD%D1%8B%D1%85&searchRid=17600865811483edf2e57913c9a53026&hhtmFrom=resume_search_result\n",
      "2025-10-10 11:56:24,902 - HHResumeParser - INFO - Успешно собрано деталей: 10\n",
      "2025-10-10 11:56:25,909 - HHResumeParser - INFO - Загрузка детальной страницы (попытка 1): https://hh.ru/resume/e48c2e0800070fd1170039ed1f37394d425053?query=%D0%90%D0%BD%D0%B0%D0%BB%D0%B8%D1%82%D0%B8%D0%BA+%D0%B4%D0%B0%D0%BD%D0%BD%D1%8B%D1%85&searchRid=17600865811483edf2e57913c9a53026&hhtmFrom=resume_search_result\n",
      "2025-10-10 11:56:26,489 - HHResumeParser - INFO - Успешно собрано деталей: 10\n",
      "2025-10-10 11:56:27,495 - HHResumeParser - INFO - Загрузка детальной страницы (попытка 1): https://hh.ru/resume/989115340003c2cb260039ed1f535850773033?query=%D0%90%D0%BD%D0%B0%D0%BB%D0%B8%D1%82%D0%B8%D0%BA+%D0%B4%D0%B0%D0%BD%D0%BD%D1%8B%D1%85&searchRid=17600865811483edf2e57913c9a53026&hhtmFrom=resume_search_result\n",
      "2025-10-10 11:56:27,836 - HHResumeParser - INFO - Успешно собрано деталей: 10\n",
      "2025-10-10 11:56:28,843 - HHResumeParser - INFO - Загрузка детальной страницы (попытка 1): https://hh.ru/resume/c0746c110005fbe3340039ed1f567234614258?query=%D0%90%D0%BD%D0%B0%D0%BB%D0%B8%D1%82%D0%B8%D0%BA+%D0%B4%D0%B0%D0%BD%D0%BD%D1%8B%D1%85&searchRid=17600865811483edf2e57913c9a53026&hhtmFrom=resume_search_result\n",
      "2025-10-10 11:56:29,306 - HHResumeParser - INFO - Успешно собрано деталей: 10\n",
      "2025-10-10 11:56:30,312 - HHResumeParser - INFO - Загрузка детальной страницы (попытка 1): https://hh.ru/resume/91ec547d00074de1f50039ed1f77335a57334f?query=%D0%90%D0%BD%D0%B0%D0%BB%D0%B8%D1%82%D0%B8%D0%BA+%D0%B4%D0%B0%D0%BD%D0%BD%D1%8B%D1%85&searchRid=17600865811483edf2e57913c9a53026&hhtmFrom=resume_search_result\n",
      "2025-10-10 11:56:30,648 - HHResumeParser - INFO - Успешно собрано деталей: 10\n",
      "2025-10-10 11:56:31,652 - HHResumeParser - INFO - Загрузка детальной страницы (попытка 1): https://hh.ru/resume/f21b8f550008efd59b0039ed1f7a6756386c61?query=%D0%90%D0%BD%D0%B0%D0%BB%D0%B8%D1%82%D0%B8%D0%BA+%D0%B4%D0%B0%D0%BD%D0%BD%D1%8B%D1%85&searchRid=17600865811483edf2e57913c9a53026&hhtmFrom=resume_search_result\n",
      "2025-10-10 11:56:32,637 - HHResumeParser - INFO - Успешно собрано деталей: 9\n",
      "2025-10-10 11:56:33,643 - HHResumeParser - INFO - Загрузка детальной страницы (попытка 1): https://hh.ru/resume/37bd4223000884ee7a0039ed1f654634456a57?query=%D0%90%D0%BD%D0%B0%D0%BB%D0%B8%D1%82%D0%B8%D0%BA+%D0%B4%D0%B0%D0%BD%D0%BD%D1%8B%D1%85&searchRid=17600865811483edf2e57913c9a53026&hhtmFrom=resume_search_result\n",
      "2025-10-10 11:56:33,982 - HHResumeParser - INFO - Успешно собрано деталей: 10\n",
      "2025-10-10 11:56:34,989 - HHResumeParser - INFO - Загрузка детальной страницы (попытка 1): https://hh.ru/resume/a021a8a400086706830039ed1f484345515262?query=%D0%90%D0%BD%D0%B0%D0%BB%D0%B8%D1%82%D0%B8%D0%BA+%D0%B4%D0%B0%D0%BD%D0%BD%D1%8B%D1%85&searchRid=17600865811483edf2e57913c9a53026&hhtmFrom=resume_search_result\n",
      "2025-10-10 11:56:35,295 - HHResumeParser - INFO - Успешно собрано деталей: 10\n",
      "2025-10-10 11:56:36,301 - HHResumeParser - INFO - Загрузка детальной страницы (попытка 1): https://hh.ru/resume/586f79d20007d035f40039ed1f49317672477a?query=%D0%90%D0%BD%D0%B0%D0%BB%D0%B8%D1%82%D0%B8%D0%BA+%D0%B4%D0%B0%D0%BD%D0%BD%D1%8B%D1%85&searchRid=17600865811483edf2e57913c9a53026&hhtmFrom=resume_search_result\n",
      "2025-10-10 11:56:36,888 - HHResumeParser - INFO - Успешно собрано деталей: 10\n",
      "2025-10-10 11:56:37,895 - HHResumeParser - INFO - Загрузка детальной страницы (попытка 1): https://hh.ru/resume/419a75cb0008bc7b290039ed1f4e70694f4948?query=%D0%90%D0%BD%D0%B0%D0%BB%D0%B8%D1%82%D0%B8%D0%BA+%D0%B4%D0%B0%D0%BD%D0%BD%D1%8B%D1%85&searchRid=17600865811483edf2e57913c9a53026&hhtmFrom=resume_search_result\n",
      "2025-10-10 11:56:38,630 - HHResumeParser - INFO - Успешно собрано деталей: 11\n",
      "2025-10-10 11:56:39,637 - HHResumeParser - INFO - Загрузка детальной страницы (попытка 1): https://hh.ru/resume/aa08594000047f7d6b0039ed1f49324b334447?query=%D0%90%D0%BD%D0%B0%D0%BB%D0%B8%D1%82%D0%B8%D0%BA+%D0%B4%D0%B0%D0%BD%D0%BD%D1%8B%D1%85&searchRid=17600865811483edf2e57913c9a53026&hhtmFrom=resume_search_result\n",
      "2025-10-10 11:56:39,965 - HHResumeParser - INFO - Успешно собрано деталей: 10\n",
      "2025-10-10 11:56:40,972 - HHResumeParser - INFO - Загрузка детальной страницы (попытка 1): https://hh.ru/resume/b84cd4c500086192910039ed1f4b354465536a?query=%D0%90%D0%BD%D0%B0%D0%BB%D0%B8%D1%82%D0%B8%D0%BA+%D0%B4%D0%B0%D0%BD%D0%BD%D1%8B%D1%85&searchRid=17600865811483edf2e57913c9a53026&hhtmFrom=resume_search_result\n",
      "2025-10-10 11:56:41,417 - HHResumeParser - INFO - Успешно собрано деталей: 10\n",
      "2025-10-10 11:56:42,423 - HHResumeParser - INFO - Загрузка детальной страницы (попытка 1): https://hh.ru/resume/4d2751eb0007e909400039ed1f366136487442?query=%D0%90%D0%BD%D0%B0%D0%BB%D0%B8%D1%82%D0%B8%D0%BA+%D0%B4%D0%B0%D0%BD%D0%BD%D1%8B%D1%85&searchRid=17600865811483edf2e57913c9a53026&hhtmFrom=resume_search_result\n",
      "2025-10-10 11:56:42,838 - HHResumeParser - INFO - Успешно собрано деталей: 10\n",
      "2025-10-10 11:56:43,844 - HHResumeParser - INFO - Загрузка детальной страницы (попытка 1): https://hh.ru/resume/3ce3f3dc0002ef4a250039ed1f57304e6f5869?query=%D0%90%D0%BD%D0%B0%D0%BB%D0%B8%D1%82%D0%B8%D0%BA+%D0%B4%D0%B0%D0%BD%D0%BD%D1%8B%D1%85&searchRid=17600865811483edf2e57913c9a53026&hhtmFrom=resume_search_result\n",
      "2025-10-10 11:56:44,378 - HHResumeParser - INFO - Успешно собрано деталей: 10\n",
      "2025-10-10 11:56:45,384 - HHResumeParser - INFO - Загрузка детальной страницы (попытка 1): https://hh.ru/resume/15f9dbf600005300800039ed1f736563726574?query=%D0%90%D0%BD%D0%B0%D0%BB%D0%B8%D1%82%D0%B8%D0%BA+%D0%B4%D0%B0%D0%BD%D0%BD%D1%8B%D1%85&searchRid=17600865811483edf2e57913c9a53026&hhtmFrom=resume_search_result\n",
      "2025-10-10 11:56:45,836 - HHResumeParser - INFO - Успешно собрано деталей: 9\n",
      "2025-10-10 11:56:46,842 - HHResumeParser - INFO - Загрузка детальной страницы (попытка 1): https://hh.ru/resume/e832efa5000073132e0039ed1f736563726574?query=%D0%90%D0%BD%D0%B0%D0%BB%D0%B8%D1%82%D0%B8%D0%BA+%D0%B4%D0%B0%D0%BD%D0%BD%D1%8B%D1%85&searchRid=17600865811483edf2e57913c9a53026&hhtmFrom=resume_search_result\n",
      "2025-10-10 11:56:47,215 - HHResumeParser - INFO - Успешно собрано деталей: 10\n",
      "2025-10-10 11:56:48,222 - HHResumeParser - INFO - Загрузка детальной страницы (попытка 1): https://hh.ru/resume/f224f93800069233770039ed1f775a32725466?query=%D0%90%D0%BD%D0%B0%D0%BB%D0%B8%D1%82%D0%B8%D0%BA+%D0%B4%D0%B0%D0%BD%D0%BD%D1%8B%D1%85&searchRid=17600865811483edf2e57913c9a53026&hhtmFrom=resume_search_result\n",
      "2025-10-10 11:56:48,808 - HHResumeParser - INFO - Успешно собрано деталей: 10\n",
      "2025-10-10 11:56:49,815 - HHResumeParser - INFO - Загрузка детальной страницы (попытка 1): https://hh.ru/resume/caba16530008574f170039ed1f4a7653634e39?query=%D0%90%D0%BD%D0%B0%D0%BB%D0%B8%D1%82%D0%B8%D0%BA+%D0%B4%D0%B0%D0%BD%D0%BD%D1%8B%D1%85&searchRid=17600865811483edf2e57913c9a53026&hhtmFrom=resume_search_result\n",
      "2025-10-10 11:56:50,314 - HHResumeParser - INFO - Успешно собрано деталей: 11\n",
      "2025-10-10 11:56:51,320 - HHResumeParser - INFO - Всего обработано резюме: 20\n",
      "2025-10-10 11:56:51,322 - HHResumeParser - INFO - Найдено резюме для 'Аналитик данных': 20\n",
      "2025-10-10 11:56:53,328 - HHResumeParser - INFO - Страница 2/50\n",
      "2025-10-10 11:56:53,330 - HHResumeParser - INFO - Запрос поиска резюме: https://hh.ru/search/resume\n",
      "2025-10-10 11:56:54,024 - HHResumeParser - INFO - Страница поиска резюме успешно загружена\n",
      "2025-10-10 11:56:54,096 - HHResumeParser - INFO - Найдено элементов резюме по data-qa: 20\n",
      "2025-10-10 11:56:54,096 - HHResumeParser - INFO - Загрузка детальной страницы (попытка 1): https://hh.ru/resume/b37c37a500073cdb400039ed1f4e6962487055?query=%D0%90%D0%BD%D0%B0%D0%BB%D0%B8%D1%82%D0%B8%D0%BA+%D0%B4%D0%B0%D0%BD%D0%BD%D1%8B%D1%85&searchRid=1760086613391f12e8c22106e8cff028&hhtmFrom=resume_search_result\n",
      "2025-10-10 11:56:54,507 - HHResumeParser - INFO - Успешно собрано деталей: 10\n",
      "2025-10-10 11:56:55,514 - HHResumeParser - INFO - Загрузка детальной страницы (попытка 1): https://hh.ru/resume/38a8182800021041ba0039ed1f73564e563835?query=%D0%90%D0%BD%D0%B0%D0%BB%D0%B8%D1%82%D0%B8%D0%BA+%D0%B4%D0%B0%D0%BD%D0%BD%D1%8B%D1%85&searchRid=1760086613391f12e8c22106e8cff028&hhtmFrom=resume_search_result\n",
      "2025-10-10 11:56:55,971 - HHResumeParser - INFO - Успешно собрано деталей: 10\n",
      "2025-10-10 11:56:56,978 - HHResumeParser - INFO - Загрузка детальной страницы (попытка 1): https://hh.ru/resume/7e7b271f0003f5fd170039ed1f71677a37684c?query=%D0%90%D0%BD%D0%B0%D0%BB%D0%B8%D1%82%D0%B8%D0%BA+%D0%B4%D0%B0%D0%BD%D0%BD%D1%8B%D1%85&searchRid=1760086613391f12e8c22106e8cff028&hhtmFrom=resume_search_result\n",
      "2025-10-10 11:56:57,325 - HHResumeParser - INFO - Успешно собрано деталей: 9\n",
      "2025-10-10 11:56:58,332 - HHResumeParser - INFO - Загрузка детальной страницы (попытка 1): https://hh.ru/resume/38de197c0007345e400039ed1f37516e446465?query=%D0%90%D0%BD%D0%B0%D0%BB%D0%B8%D1%82%D0%B8%D0%BA+%D0%B4%D0%B0%D0%BD%D0%BD%D1%8B%D1%85&searchRid=1760086613391f12e8c22106e8cff028&hhtmFrom=resume_search_result\n",
      "2025-10-10 11:56:58,876 - HHResumeParser - INFO - Успешно собрано деталей: 10\n",
      "2025-10-10 11:56:59,879 - HHResumeParser - INFO - Загрузка детальной страницы (попытка 1): https://hh.ru/resume/0e4904c600012fe9f80039ed1f5867437a6f58?query=%D0%90%D0%BD%D0%B0%D0%BB%D0%B8%D1%82%D0%B8%D0%BA+%D0%B4%D0%B0%D0%BD%D0%BD%D1%8B%D1%85&searchRid=1760086613391f12e8c22106e8cff028&hhtmFrom=resume_search_result\n",
      "2025-10-10 11:57:00,193 - HHResumeParser - INFO - Успешно собрано деталей: 9\n",
      "2025-10-10 11:57:01,199 - HHResumeParser - INFO - Загрузка детальной страницы (попытка 1): https://hh.ru/resume/bb9284950001c74f5a0039ed1f7750654c7476?query=%D0%90%D0%BD%D0%B0%D0%BB%D0%B8%D1%82%D0%B8%D0%BA+%D0%B4%D0%B0%D0%BD%D0%BD%D1%8B%D1%85&searchRid=1760086613391f12e8c22106e8cff028&hhtmFrom=resume_search_result\n",
      "2025-10-10 11:57:01,650 - HHResumeParser - INFO - Успешно собрано деталей: 10\n",
      "2025-10-10 11:57:02,657 - HHResumeParser - INFO - Загрузка детальной страницы (попытка 1): https://hh.ru/resume/73e253430005694e2e0039ed1f616764566f59?query=%D0%90%D0%BD%D0%B0%D0%BB%D0%B8%D1%82%D0%B8%D0%BA+%D0%B4%D0%B0%D0%BD%D0%BD%D1%8B%D1%85&searchRid=1760086613391f12e8c22106e8cff028&hhtmFrom=resume_search_result\n",
      "2025-10-10 11:57:03,037 - HHResumeParser - INFO - Успешно собрано деталей: 10\n",
      "2025-10-10 11:57:04,043 - HHResumeParser - INFO - Загрузка детальной страницы (попытка 1): https://hh.ru/resume/f7a717030003a488cc0039ed1f693277367039?query=%D0%90%D0%BD%D0%B0%D0%BB%D0%B8%D1%82%D0%B8%D0%BA+%D0%B4%D0%B0%D0%BD%D0%BD%D1%8B%D1%85&searchRid=1760086613391f12e8c22106e8cff028&hhtmFrom=resume_search_result\n",
      "2025-10-10 11:57:04,486 - HHResumeParser - INFO - Успешно собрано деталей: 9\n",
      "2025-10-10 11:57:05,493 - HHResumeParser - INFO - Загрузка детальной страницы (попытка 1): https://hh.ru/resume/4f760b3000073d74450039ed1f695471726656?query=%D0%90%D0%BD%D0%B0%D0%BB%D0%B8%D1%82%D0%B8%D0%BA+%D0%B4%D0%B0%D0%BD%D0%BD%D1%8B%D1%85&searchRid=1760086613391f12e8c22106e8cff028&hhtmFrom=resume_search_result\n",
      "2025-10-10 11:57:06,067 - HHResumeParser - INFO - Успешно собрано деталей: 10\n",
      "2025-10-10 11:57:07,074 - HHResumeParser - INFO - Загрузка детальной страницы (попытка 1): https://hh.ru/resume/bcc8ca470003aaabae0039ed1f66527173354d?query=%D0%90%D0%BD%D0%B0%D0%BB%D0%B8%D1%82%D0%B8%D0%BA+%D0%B4%D0%B0%D0%BD%D0%BD%D1%8B%D1%85&searchRid=1760086613391f12e8c22106e8cff028&hhtmFrom=resume_search_result\n",
      "2025-10-10 11:57:07,565 - HHResumeParser - INFO - Успешно собрано деталей: 10\n",
      "2025-10-10 11:57:08,568 - HHResumeParser - INFO - Загрузка детальной страницы (попытка 1): https://hh.ru/resume/93321a0900087b9e1b0039ed1f384261426878?query=%D0%90%D0%BD%D0%B0%D0%BB%D0%B8%D1%82%D0%B8%D0%BA+%D0%B4%D0%B0%D0%BD%D0%BD%D1%8B%D1%85&searchRid=1760086613391f12e8c22106e8cff028&hhtmFrom=resume_search_result\n",
      "2025-10-10 11:57:08,960 - HHResumeParser - INFO - Успешно собрано деталей: 10\n",
      "2025-10-10 11:57:09,966 - HHResumeParser - INFO - Загрузка детальной страницы (попытка 1): https://hh.ru/resume/51a9bfb00003245b720039ed1f505a39724779?query=%D0%90%D0%BD%D0%B0%D0%BB%D0%B8%D1%82%D0%B8%D0%BA+%D0%B4%D0%B0%D0%BD%D0%BD%D1%8B%D1%85&searchRid=1760086613391f12e8c22106e8cff028&hhtmFrom=resume_search_result\n",
      "2025-10-10 11:57:10,423 - HHResumeParser - INFO - Успешно собрано деталей: 9\n",
      "2025-10-10 11:57:11,428 - HHResumeParser - INFO - Загрузка детальной страницы (попытка 1): https://hh.ru/resume/a14007a30004429eac0039ed1f44574671335a?query=%D0%90%D0%BD%D0%B0%D0%BB%D0%B8%D1%82%D0%B8%D0%BA+%D0%B4%D0%B0%D0%BD%D0%BD%D1%8B%D1%85&searchRid=1760086613391f12e8c22106e8cff028&hhtmFrom=resume_search_result\n",
      "2025-10-10 11:57:11,807 - HHResumeParser - INFO - Успешно собрано деталей: 10\n",
      "2025-10-10 11:57:12,813 - HHResumeParser - INFO - Загрузка детальной страницы (попытка 1): https://hh.ru/resume/f34e0b59000818e23b0039ed1f6a5757553758?query=%D0%90%D0%BD%D0%B0%D0%BB%D0%B8%D1%82%D0%B8%D0%BA+%D0%B4%D0%B0%D0%BD%D0%BD%D1%8B%D1%85&searchRid=1760086613391f12e8c22106e8cff028&hhtmFrom=resume_search_result\n",
      "2025-10-10 11:57:13,149 - HHResumeParser - INFO - Успешно собрано деталей: 10\n",
      "2025-10-10 11:57:14,155 - HHResumeParser - INFO - Загрузка детальной страницы (попытка 1): https://hh.ru/resume/6f7d5b7100024f58690039ed1f6a393254376b?query=%D0%90%D0%BD%D0%B0%D0%BB%D0%B8%D1%82%D0%B8%D0%BA+%D0%B4%D0%B0%D0%BD%D0%BD%D1%8B%D1%85&searchRid=1760086613391f12e8c22106e8cff028&hhtmFrom=resume_search_result\n",
      "2025-10-10 11:57:14,491 - HHResumeParser - INFO - Успешно собрано деталей: 10\n",
      "2025-10-10 11:57:16,505 - HHResumeParser - INFO - Загрузка детальной страницы (попытка 1): https://hh.ru/resume/32b0e6aa000130c3a30039ed1f4f3149555856?query=%D0%90%D0%BD%D0%B0%D0%BB%D0%B8%D1%82%D0%B8%D0%BA+%D0%B4%D0%B0%D0%BD%D0%BD%D1%8B%D1%85&searchRid=1760086613391f12e8c22106e8cff028&hhtmFrom=resume_search_result\n",
      "2025-10-10 11:57:17,058 - HHResumeParser - INFO - Успешно собрано деталей: 10\n",
      "2025-10-10 11:57:18,065 - HHResumeParser - INFO - Загрузка детальной страницы (попытка 1): https://hh.ru/resume/9d91ed5a00043836bf0039ed1f3777536a7432?query=%D0%90%D0%BD%D0%B0%D0%BB%D0%B8%D1%82%D0%B8%D0%BA+%D0%B4%D0%B0%D0%BD%D0%BD%D1%8B%D1%85&searchRid=1760086613391f12e8c22106e8cff028&hhtmFrom=resume_search_result\n",
      "2025-10-10 11:57:18,582 - HHResumeParser - INFO - Успешно собрано деталей: 10\n",
      "2025-10-10 11:57:19,589 - HHResumeParser - INFO - Загрузка детальной страницы (попытка 1): https://hh.ru/resume/1f7ec7f800033b749b0039ed1f36576d6e5143?query=%D0%90%D0%BD%D0%B0%D0%BB%D0%B8%D1%82%D0%B8%D0%BA+%D0%B4%D0%B0%D0%BD%D0%BD%D1%8B%D1%85&searchRid=1760086613391f12e8c22106e8cff028&hhtmFrom=resume_search_result\n",
      "2025-10-10 11:57:20,030 - HHResumeParser - INFO - Успешно собрано деталей: 10\n",
      "2025-10-10 11:57:21,037 - HHResumeParser - INFO - Загрузка детальной страницы (попытка 1): https://hh.ru/resume/8f2f659600065b1f640039ed1f5872454b496f?query=%D0%90%D0%BD%D0%B0%D0%BB%D0%B8%D1%82%D0%B8%D0%BA+%D0%B4%D0%B0%D0%BD%D0%BD%D1%8B%D1%85&searchRid=1760086613391f12e8c22106e8cff028&hhtmFrom=resume_search_result\n",
      "2025-10-10 11:57:21,769 - HHResumeParser - INFO - Успешно собрано деталей: 9\n",
      "2025-10-10 11:57:22,776 - HHResumeParser - INFO - Всего обработано резюме: 20\n",
      "2025-10-10 11:57:22,777 - HHResumeParser - INFO - Найдено резюме для 'Аналитик данных': 20\n",
      "2025-10-10 11:57:24,783 - HHResumeParser - INFO - Страница 3/50\n",
      "2025-10-10 11:57:24,784 - HHResumeParser - INFO - Запрос поиска резюме: https://hh.ru/search/resume\n",
      "2025-10-10 11:57:25,411 - HHResumeParser - INFO - Страница поиска резюме успешно загружена\n",
      "2025-10-10 11:57:25,483 - HHResumeParser - INFO - Найдено элементов резюме по data-qa: 20\n",
      "2025-10-10 11:57:25,484 - HHResumeParser - INFO - Загрузка детальной страницы (попытка 1): https://hh.ru/resume/d9c65343000915de220039ed1f4a4a71377743?query=%D0%90%D0%BD%D0%B0%D0%BB%D0%B8%D1%82%D0%B8%D0%BA+%D0%B4%D0%B0%D0%BD%D0%BD%D1%8B%D1%85&searchRid=1760086644843b9b2581d3327ce3e026&hhtmFrom=resume_search_result\n",
      "2025-10-10 11:57:25,883 - HHResumeParser - INFO - Успешно собрано деталей: 9\n",
      "2025-10-10 11:57:26,890 - HHResumeParser - INFO - Загрузка детальной страницы (попытка 1): https://hh.ru/resume/9e9c87cb000216c71b0039ed1f496d56413345?query=%D0%90%D0%BD%D0%B0%D0%BB%D0%B8%D1%82%D0%B8%D0%BA+%D0%B4%D0%B0%D0%BD%D0%BD%D1%8B%D1%85&searchRid=1760086644843b9b2581d3327ce3e026&hhtmFrom=resume_search_result\n",
      "2025-10-10 11:57:27,222 - HHResumeParser - INFO - Успешно собрано деталей: 11\n",
      "2025-10-10 11:57:28,228 - HHResumeParser - INFO - Загрузка детальной страницы (попытка 1): https://hh.ru/resume/cbc787dd0007a20bde0039ed1f4c38756c555a?query=%D0%90%D0%BD%D0%B0%D0%BB%D0%B8%D1%82%D0%B8%D0%BA+%D0%B4%D0%B0%D0%BD%D0%BD%D1%8B%D1%85&searchRid=1760086644843b9b2581d3327ce3e026&hhtmFrom=resume_search_result\n",
      "2025-10-10 11:57:28,693 - HHResumeParser - INFO - Успешно собрано деталей: 9\n",
      "2025-10-10 11:57:29,700 - HHResumeParser - INFO - Загрузка детальной страницы (попытка 1): https://hh.ru/resume/12d87f80000710e5a10039ed1f47763073786b?query=%D0%90%D0%BD%D0%B0%D0%BB%D0%B8%D1%82%D0%B8%D0%BA+%D0%B4%D0%B0%D0%BD%D0%BD%D1%8B%D1%85&searchRid=1760086644843b9b2581d3327ce3e026&hhtmFrom=resume_search_result\n",
      "2025-10-10 11:57:30,136 - HHResumeParser - INFO - Успешно собрано деталей: 11\n",
      "2025-10-10 11:57:31,142 - HHResumeParser - INFO - Загрузка детальной страницы (попытка 1): https://hh.ru/resume/5306541f00086fc0b80039ed1f573457775069?query=%D0%90%D0%BD%D0%B0%D0%BB%D0%B8%D1%82%D0%B8%D0%BA+%D0%B4%D0%B0%D0%BD%D0%BD%D1%8B%D1%85&searchRid=1760086644843b9b2581d3327ce3e026&hhtmFrom=resume_search_result\n",
      "2025-10-10 11:57:31,599 - HHResumeParser - INFO - Успешно собрано деталей: 10\n",
      "2025-10-10 11:57:32,602 - HHResumeParser - INFO - Загрузка детальной страницы (попытка 1): https://hh.ru/resume/bef76b980007e3d50e0039ed1f3377737a4648?query=%D0%90%D0%BD%D0%B0%D0%BB%D0%B8%D1%82%D0%B8%D0%BA+%D0%B4%D0%B0%D0%BD%D0%BD%D1%8B%D1%85&searchRid=1760086644843b9b2581d3327ce3e026&hhtmFrom=resume_search_result\n",
      "2025-10-10 11:57:33,159 - HHResumeParser - INFO - Успешно собрано деталей: 9\n",
      "2025-10-10 11:57:34,166 - HHResumeParser - INFO - Загрузка детальной страницы (попытка 1): https://hh.ru/resume/356a9ddf000238b46d0039ed1f4131384b7254?query=%D0%90%D0%BD%D0%B0%D0%BB%D0%B8%D1%82%D0%B8%D0%BA+%D0%B4%D0%B0%D0%BD%D0%BD%D1%8B%D1%85&searchRid=1760086644843b9b2581d3327ce3e026&hhtmFrom=resume_search_result\n",
      "2025-10-10 11:57:34,648 - HHResumeParser - INFO - Успешно собрано деталей: 9\n",
      "2025-10-10 11:57:35,654 - HHResumeParser - INFO - Загрузка детальной страницы (попытка 1): https://hh.ru/resume/c8e0137100071d80a10039ed1f746a376c6c45?query=%D0%90%D0%BD%D0%B0%D0%BB%D0%B8%D1%82%D0%B8%D0%BA+%D0%B4%D0%B0%D0%BD%D0%BD%D1%8B%D1%85&searchRid=1760086644843b9b2581d3327ce3e026&hhtmFrom=resume_search_result\n",
      "2025-10-10 11:57:36,188 - HHResumeParser - INFO - Успешно собрано деталей: 11\n",
      "2025-10-10 11:57:37,194 - HHResumeParser - INFO - Загрузка детальной страницы (попытка 1): https://hh.ru/resume/c2944ccf00028404b50039ed1f527366505a77?query=%D0%90%D0%BD%D0%B0%D0%BB%D0%B8%D1%82%D0%B8%D0%BA+%D0%B4%D0%B0%D0%BD%D0%BD%D1%8B%D1%85&searchRid=1760086644843b9b2581d3327ce3e026&hhtmFrom=resume_search_result\n",
      "2025-10-10 11:57:37,609 - HHResumeParser - INFO - Успешно собрано деталей: 10\n",
      "2025-10-10 11:57:38,615 - HHResumeParser - INFO - Загрузка детальной страницы (попытка 1): https://hh.ru/resume/90daf83c000871e3f50039ed1f66496a417050?query=%D0%90%D0%BD%D0%B0%D0%BB%D0%B8%D1%82%D0%B8%D0%BA+%D0%B4%D0%B0%D0%BD%D0%BD%D1%8B%D1%85&searchRid=1760086644843b9b2581d3327ce3e026&hhtmFrom=resume_search_result\n",
      "2025-10-10 11:57:39,131 - HHResumeParser - INFO - Успешно собрано деталей: 11\n",
      "2025-10-10 11:57:40,137 - HHResumeParser - INFO - Загрузка детальной страницы (попытка 1): https://hh.ru/resume/c7c114260004e8e02f0039ed1f4a646d4f6f45?query=%D0%90%D0%BD%D0%B0%D0%BB%D0%B8%D1%82%D0%B8%D0%BA+%D0%B4%D0%B0%D0%BD%D0%BD%D1%8B%D1%85&searchRid=1760086644843b9b2581d3327ce3e026&hhtmFrom=resume_search_result\n",
      "2025-10-10 11:57:40,542 - HHResumeParser - INFO - Успешно собрано деталей: 9\n",
      "2025-10-10 11:57:41,548 - HHResumeParser - INFO - Загрузка детальной страницы (попытка 1): https://hh.ru/resume/3adb740a00089af8300039ed1f67687959426f?query=%D0%90%D0%BD%D0%B0%D0%BB%D0%B8%D1%82%D0%B8%D0%BA+%D0%B4%D0%B0%D0%BD%D0%BD%D1%8B%D1%85&searchRid=1760086644843b9b2581d3327ce3e026&hhtmFrom=resume_search_result\n",
      "2025-10-10 11:57:41,903 - HHResumeParser - INFO - Успешно собрано деталей: 10\n",
      "2025-10-10 11:57:42,909 - HHResumeParser - INFO - Загрузка детальной страницы (попытка 1): https://hh.ru/resume/68707c6700052de3680039ed1f506a6a514f43?query=%D0%90%D0%BD%D0%B0%D0%BB%D0%B8%D1%82%D0%B8%D0%BA+%D0%B4%D0%B0%D0%BD%D0%BD%D1%8B%D1%85&searchRid=1760086644843b9b2581d3327ce3e026&hhtmFrom=resume_search_result\n",
      "2025-10-10 11:57:43,232 - HHResumeParser - INFO - Успешно собрано деталей: 10\n",
      "2025-10-10 11:57:44,239 - HHResumeParser - INFO - Загрузка детальной страницы (попытка 1): https://hh.ru/resume/75ee887f00032b1b0e0039ed1f6b48446f386d?query=%D0%90%D0%BD%D0%B0%D0%BB%D0%B8%D1%82%D0%B8%D0%BA+%D0%B4%D0%B0%D0%BD%D0%BD%D1%8B%D1%85&searchRid=1760086644843b9b2581d3327ce3e026&hhtmFrom=resume_search_result\n",
      "2025-10-10 11:57:44,852 - HHResumeParser - INFO - Успешно собрано деталей: 11\n",
      "2025-10-10 11:57:45,856 - HHResumeParser - INFO - Загрузка детальной страницы (попытка 1): https://hh.ru/resume/80e4f3dd0000d7d2eb0039ed1f676571395a31?query=%D0%90%D0%BD%D0%B0%D0%BB%D0%B8%D1%82%D0%B8%D0%BA+%D0%B4%D0%B0%D0%BD%D0%BD%D1%8B%D1%85&searchRid=1760086644843b9b2581d3327ce3e026&hhtmFrom=resume_search_result\n",
      "2025-10-10 11:57:46,324 - HHResumeParser - INFO - Успешно собрано деталей: 11\n",
      "2025-10-10 11:57:47,329 - HHResumeParser - INFO - Загрузка детальной страницы (попытка 1): https://hh.ru/resume/87f77cf20003c5b7d60039ed1f52774174544b?query=%D0%90%D0%BD%D0%B0%D0%BB%D0%B8%D1%82%D0%B8%D0%BA+%D0%B4%D0%B0%D0%BD%D0%BD%D1%8B%D1%85&searchRid=1760086644843b9b2581d3327ce3e026&hhtmFrom=resume_search_result\n",
      "2025-10-10 11:57:47,712 - HHResumeParser - INFO - Успешно собрано деталей: 11\n",
      "2025-10-10 11:57:48,718 - HHResumeParser - INFO - Загрузка детальной страницы (попытка 1): https://hh.ru/resume/3a87abb900043067840039ed1f4d615a6d6853?query=%D0%90%D0%BD%D0%B0%D0%BB%D0%B8%D1%82%D0%B8%D0%BA+%D0%B4%D0%B0%D0%BD%D0%BD%D1%8B%D1%85&searchRid=1760086644843b9b2581d3327ce3e026&hhtmFrom=resume_search_result\n",
      "2025-10-10 11:57:49,123 - HHResumeParser - INFO - Успешно собрано деталей: 11\n",
      "2025-10-10 11:57:50,129 - HHResumeParser - INFO - Загрузка детальной страницы (попытка 1): https://hh.ru/resume/2712a6a60002af306c0039ed1f4163636f5437?query=%D0%90%D0%BD%D0%B0%D0%BB%D0%B8%D1%82%D0%B8%D0%BA+%D0%B4%D0%B0%D0%BD%D0%BD%D1%8B%D1%85&searchRid=1760086644843b9b2581d3327ce3e026&hhtmFrom=resume_search_result\n",
      "2025-10-10 11:57:50,428 - HHResumeParser - INFO - Успешно собрано деталей: 10\n",
      "2025-10-10 11:57:51,434 - HHResumeParser - INFO - Загрузка детальной страницы (попытка 1): https://hh.ru/resume/f272fc6a00030e738b0039ed1f4d3830324877?query=%D0%90%D0%BD%D0%B0%D0%BB%D0%B8%D1%82%D0%B8%D0%BA+%D0%B4%D0%B0%D0%BD%D0%BD%D1%8B%D1%85&searchRid=1760086644843b9b2581d3327ce3e026&hhtmFrom=resume_search_result\n",
      "2025-10-10 11:57:51,888 - HHResumeParser - INFO - Успешно собрано деталей: 10\n",
      "2025-10-10 11:57:52,893 - HHResumeParser - INFO - Загрузка детальной страницы (попытка 1): https://hh.ru/resume/b2cb455500092387c60039ed1f377562537143?query=%D0%90%D0%BD%D0%B0%D0%BB%D0%B8%D1%82%D0%B8%D0%BA+%D0%B4%D0%B0%D0%BD%D0%BD%D1%8B%D1%85&searchRid=1760086644843b9b2581d3327ce3e026&hhtmFrom=resume_search_result\n",
      "2025-10-10 11:57:53,334 - HHResumeParser - INFO - Успешно собрано деталей: 10\n",
      "2025-10-10 11:57:54,338 - HHResumeParser - INFO - Всего обработано резюме: 20\n",
      "2025-10-10 11:57:54,339 - HHResumeParser - INFO - Найдено резюме для 'Аналитик данных': 20\n",
      "2025-10-10 11:57:56,342 - HHResumeParser - INFO - Страница 4/50\n",
      "2025-10-10 11:57:56,343 - HHResumeParser - INFO - Запрос поиска резюме: https://hh.ru/search/resume\n",
      "2025-10-10 11:57:56,952 - HHResumeParser - INFO - Страница поиска резюме успешно загружена\n",
      "2025-10-10 11:57:56,992 - HHResumeParser - INFO - Найдено элементов резюме по data-qa: 20\n",
      "2025-10-10 11:57:56,993 - HHResumeParser - INFO - Загрузка детальной страницы (попытка 1): https://hh.ru/resume/15bd76b4000890680f0039ed1f71316e4c6f36?query=%D0%90%D0%BD%D0%B0%D0%BB%D0%B8%D1%82%D0%B8%D0%BA+%D0%B4%D0%B0%D0%BD%D0%BD%D1%8B%D1%85&searchRid=176008667640596dd413e9aee79da025&hhtmFrom=resume_search_result\n",
      "2025-10-10 11:57:57,356 - HHResumeParser - INFO - Успешно собрано деталей: 9\n",
      "2025-10-10 11:57:58,362 - HHResumeParser - INFO - Загрузка детальной страницы (попытка 1): https://hh.ru/resume/f6483ebc000297bcc00039ed1f64584a63516b?query=%D0%90%D0%BD%D0%B0%D0%BB%D0%B8%D1%82%D0%B8%D0%BA+%D0%B4%D0%B0%D0%BD%D0%BD%D1%8B%D1%85&searchRid=176008667640596dd413e9aee79da025&hhtmFrom=resume_search_result\n",
      "2025-10-10 11:57:58,837 - HHResumeParser - INFO - Успешно собрано деталей: 10\n",
      "2025-10-10 11:57:59,843 - HHResumeParser - INFO - Загрузка детальной страницы (попытка 1): https://hh.ru/resume/2624dc470005249b8d0039ed1f426f56757772?query=%D0%90%D0%BD%D0%B0%D0%BB%D0%B8%D1%82%D0%B8%D0%BA+%D0%B4%D0%B0%D0%BD%D0%BD%D1%8B%D1%85&searchRid=176008667640596dd413e9aee79da025&hhtmFrom=resume_search_result\n",
      "2025-10-10 11:58:00,164 - HHResumeParser - INFO - Успешно собрано деталей: 10\n",
      "2025-10-10 11:58:01,170 - HHResumeParser - INFO - Загрузка детальной страницы (попытка 1): https://hh.ru/resume/aa2131ff0008497e6d0039ed1f713267456533?query=%D0%90%D0%BD%D0%B0%D0%BB%D0%B8%D1%82%D0%B8%D0%BA+%D0%B4%D0%B0%D0%BD%D0%BD%D1%8B%D1%85&searchRid=176008667640596dd413e9aee79da025&hhtmFrom=resume_search_result\n",
      "2025-10-10 11:58:01,646 - HHResumeParser - INFO - Успешно собрано деталей: 10\n",
      "2025-10-10 11:58:02,652 - HHResumeParser - INFO - Загрузка детальной страницы (попытка 1): https://hh.ru/resume/f3792f30000810e6cb0039ed1f366d74484947?query=%D0%90%D0%BD%D0%B0%D0%BB%D0%B8%D1%82%D0%B8%D0%BA+%D0%B4%D0%B0%D0%BD%D0%BD%D1%8B%D1%85&searchRid=176008667640596dd413e9aee79da025&hhtmFrom=resume_search_result\n",
      "2025-10-10 11:58:03,042 - HHResumeParser - INFO - Успешно собрано деталей: 9\n",
      "2025-10-10 11:58:04,048 - HHResumeParser - INFO - Загрузка детальной страницы (попытка 1): https://hh.ru/resume/9d7d633a0008c9f0970039ed1f54385269474c?query=%D0%90%D0%BD%D0%B0%D0%BB%D0%B8%D1%82%D0%B8%D0%BA+%D0%B4%D0%B0%D0%BD%D0%BD%D1%8B%D1%85&searchRid=176008667640596dd413e9aee79da025&hhtmFrom=resume_search_result\n",
      "2025-10-10 11:58:04,468 - HHResumeParser - INFO - Успешно собрано деталей: 10\n",
      "2025-10-10 11:58:05,474 - HHResumeParser - INFO - Загрузка детальной страницы (попытка 1): https://hh.ru/resume/13988b8a00013ef69c0039ed1f443430334941?query=%D0%90%D0%BD%D0%B0%D0%BB%D0%B8%D1%82%D0%B8%D0%BA+%D0%B4%D0%B0%D0%BD%D0%BD%D1%8B%D1%85&searchRid=176008667640596dd413e9aee79da025&hhtmFrom=resume_search_result\n"
     ]
    }
   ],
   "source": [
    "df_resumes = resume_parser.load_resumes(\n",
    "    search_terms=['Аналитик данных'],\n",
    "    areas=['Москва', 'Санкт-Петербург'],\n",
    "    pages=50,\n",
    "    items_on_page=20,\n",
    "    delay=2\n",
    ")"
   ]
  },
  {
   "cell_type": "code",
   "execution_count": null,
   "id": "a9f98387-4482-420f-b0fe-43742ed052cd",
   "metadata": {
    "scrolled": true
   },
   "outputs": [],
   "source": [
    "df_vacancies = vacancy_parser.load_vacancies(\n",
    "    search_terms=['Аналитик данных'],\n",
    "    areas=['Москва', 'Санкт-Петербург'],\n",
    "    pages=50,\n",
    "    per_page=20,\n",
    "    delay=2\n",
    ")"
   ]
  },
  {
   "cell_type": "code",
   "execution_count": null,
   "id": "360cc809-b6a8-4f35-86e1-5c570501eee7",
   "metadata": {},
   "outputs": [],
   "source": [
    "resume_parser.save_to_files(df_resumes)"
   ]
  },
  {
   "cell_type": "code",
   "execution_count": null,
   "id": "7ef4a983-7a43-4fc9-b029-08d9b22193a1",
   "metadata": {},
   "outputs": [],
   "source": [
    "vacancy_parser.save_to_files(df_vacancies)"
   ]
  },
  {
   "cell_type": "code",
   "execution_count": null,
   "id": "b196ac51-63b8-47ca-a124-912cba23f8e4",
   "metadata": {
    "scrolled": true
   },
   "outputs": [],
   "source": [
    "df_resumes.head()"
   ]
  },
  {
   "cell_type": "code",
   "execution_count": null,
   "id": "14dd30bb-db7b-4137-9a9b-d94578b0e05b",
   "metadata": {},
   "outputs": [],
   "source": [
    "df_vacancies.head()"
   ]
  }
 ],
 "metadata": {
  "kernelspec": {
   "display_name": "Python 3 (ipykernel)",
   "language": "python",
   "name": "python3"
  },
  "language_info": {
   "codemirror_mode": {
    "name": "ipython",
    "version": 3
   },
   "file_extension": ".py",
   "mimetype": "text/x-python",
   "name": "python",
   "nbconvert_exporter": "python",
   "pygments_lexer": "ipython3",
   "version": "3.13.7"
  }
 },
 "nbformat": 4,
 "nbformat_minor": 5
}
