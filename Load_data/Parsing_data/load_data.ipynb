{
 "cells": [
  {
   "cell_type": "code",
   "execution_count": 1,
   "id": "1ed28d64-fead-4016-a284-3b8d20a513db",
   "metadata": {},
   "outputs": [],
   "source": [
    "import pandas as pd\n",
    "from pathlib import Path\n",
    "from tqdm import tqdm\n",
    "from professions_list import ALL_PROFESSIONS, PROFESSIONS_LIST\n",
    "from hh_resume_parser import HHResumeParser\n",
    "from hh_vacancy_parser import HHVacancyParser"
   ]
  },
  {
   "cell_type": "code",
   "execution_count": 2,
   "id": "acdeb416-a28f-439c-a7b0-c3ea2a276d54",
   "metadata": {
    "jupyter": {
     "source_hidden": true
    }
   },
   "outputs": [],
   "source": [
    "def get_unloaded_position():\n",
    "    def get_loaded_position(prefix=None):\n",
    "        path = Path('.')\n",
    "        files = list(path.glob(f'{prefix}_*.csv'))\n",
    "        loaded_position = []\n",
    "        for file in files:\n",
    "            position = str(file).split('_')[1]\n",
    "            loaded_position.append(position)\n",
    "        return loaded_position\n",
    "\n",
    "    loaded_resumes = get_loaded_position('resumes')\n",
    "    loaded_vacancies = get_loaded_position('vacancies')\n",
    "    loaded_position = (set(loaded_resumes) | set(loaded_vacancies))\n",
    "    unloaded_position = list(set(PROFESSIONS_LIST['it_tech']) - loaded_position)\n",
    "    return sorted(unloaded_position)"
   ]
  },
  {
   "cell_type": "code",
   "execution_count": 3,
   "id": "5f2e57f1-5fb5-47b5-b56f-0be8a0d92d30",
   "metadata": {},
   "outputs": [],
   "source": [
    "unloaded_position = get_unloaded_position()"
   ]
  },
  {
   "cell_type": "code",
   "execution_count": 4,
   "id": "11aa121c-7264-4f81-85f6-82dd4e555af7",
   "metadata": {},
   "outputs": [
    {
     "name": "stderr",
     "output_type": "stream",
     "text": [
      "2025-10-15 18:51:40,833 - HHResumeParser - INFO - Парсер инициализирован: timeout=60s, max_retries=5, max_404_errors=5\n",
      "2025-10-15 18:51:40,833 - HHVacancyParser - INFO - Парсер инициализирован: timeout=60s, max_retries=5, max_404_errors=5\n"
     ]
    }
   ],
   "source": [
    "resume_parser = HHResumeParser(timeout=60, max_retries=5)\n",
    "vacancy_parser = HHVacancyParser(timeout=60, max_retries=5)"
   ]
  },
  {
   "cell_type": "code",
   "execution_count": null,
   "id": "b20c9f98-784b-450b-8d6d-9ab6636e498b",
   "metadata": {
    "scrolled": true
   },
   "outputs": [
    {
     "name": "stderr",
     "output_type": "stream",
     "text": [
      "  0%|                                                      | 0/31 [00:00<?, ?it/s]2025-10-15 18:51:40,847 - HHResumeParser - INFO - Поиск по запросу: 'Game Developer'\n",
      "2025-10-15 18:51:40,848 - HHResumeParser - INFO - Страница 1/250\n",
      "2025-10-15 18:51:40,848 - HHResumeParser - INFO - Запрос поиска резюме: https://hh.ru/search/resume\n",
      "2025-10-15 18:51:41,517 - HHResumeParser - INFO - Страница поиска резюме успешно загружена\n",
      "2025-10-15 18:51:41,592 - HHResumeParser - INFO - Найдено элементов резюме по data-qa: 20\n",
      "2025-10-15 18:51:41,592 - HHResumeParser - INFO - Загрузка детальной страницы (попытка 1): https://hh.ru/resume/3f21fcef00027c9ca80039ed1f435876353051?query=Game+Developer&searchRid=17605435009436815e454f46398e7029&hhtmFrom=resume_search_result\n",
      "2025-10-15 18:51:42,115 - HHResumeParser - INFO - Успешно собрано деталей: 10\n",
      "2025-10-15 18:51:43,122 - HHResumeParser - INFO - Загрузка детальной страницы (попытка 1): https://hh.ru/resume/094fdd9b0006f596340039ed1f714c77456d4c?query=Game+Developer&searchRid=17605435009436815e454f46398e7029&hhtmFrom=resume_search_result\n",
      "2025-10-15 18:51:43,560 - HHResumeParser - INFO - Успешно собрано деталей: 9\n",
      "2025-10-15 18:51:44,567 - HHResumeParser - INFO - Загрузка детальной страницы (попытка 1): https://hh.ru/resume/337f10840008cadec90039ed1f524b6d6d5253?query=Game+Developer&searchRid=17605435009436815e454f46398e7029&hhtmFrom=resume_search_result\n",
      "2025-10-15 18:51:44,972 - HHResumeParser - INFO - Успешно собрано деталей: 11\n",
      "2025-10-15 18:51:45,978 - HHResumeParser - INFO - Загрузка детальной страницы (попытка 1): https://hh.ru/resume/5a987d88000297aa590039ed1f666c454b336d?query=Game+Developer&searchRid=17605435009436815e454f46398e7029&hhtmFrom=resume_search_result\n",
      "2025-10-15 18:51:46,284 - HHResumeParser - INFO - Успешно собрано деталей: 10\n",
      "2025-10-15 18:51:47,291 - HHResumeParser - INFO - Загрузка детальной страницы (попытка 1): https://hh.ru/resume/238c59790003ee57f70039ed1f4d314f464333?query=Game+Developer&searchRid=17605435009436815e454f46398e7029&hhtmFrom=resume_search_result\n",
      "2025-10-15 18:51:47,713 - HHResumeParser - INFO - Успешно собрано деталей: 9\n",
      "2025-10-15 18:51:48,720 - HHResumeParser - INFO - Загрузка детальной страницы (попытка 1): https://hh.ru/resume/22109d4d00020e104f0039ed1f7a666d4e7157?query=Game+Developer&searchRid=17605435009436815e454f46398e7029&hhtmFrom=resume_search_result\n",
      "2025-10-15 18:51:49,158 - HHResumeParser - INFO - Успешно собрано деталей: 10\n",
      "2025-10-15 18:51:50,159 - HHResumeParser - INFO - Загрузка детальной страницы (попытка 1): https://hh.ru/resume/40ac39890008af8ab50039ed1f416c35684d43?query=Game+Developer&searchRid=17605435009436815e454f46398e7029&hhtmFrom=resume_search_result\n",
      "2025-10-15 18:51:50,444 - HHResumeParser - INFO - Успешно собрано деталей: 5\n",
      "2025-10-15 18:51:51,451 - HHResumeParser - INFO - Загрузка детальной страницы (попытка 1): https://hh.ru/resume/4ca1c5fb0002c087ff0039ed1f35485957447a?query=Game+Developer&searchRid=17605435009436815e454f46398e7029&hhtmFrom=resume_search_result\n",
      "2025-10-15 18:51:51,898 - HHResumeParser - INFO - Успешно собрано деталей: 10\n",
      "2025-10-15 18:51:52,905 - HHResumeParser - INFO - Загрузка детальной страницы (попытка 1): https://hh.ru/resume/b1e73d300000a2960c0039ed1f736563726574?query=Game+Developer&searchRid=17605435009436815e454f46398e7029&hhtmFrom=resume_search_result\n",
      "2025-10-15 18:51:53,307 - HHResumeParser - INFO - Успешно собрано деталей: 10\n",
      "2025-10-15 18:51:54,314 - HHResumeParser - INFO - Загрузка детальной страницы (попытка 1): https://hh.ru/resume/02d5dd7600025bdf6e0039ed1f65716344765a?query=Game+Developer&searchRid=17605435009436815e454f46398e7029&hhtmFrom=resume_search_result\n",
      "2025-10-15 18:51:55,095 - HHResumeParser - INFO - Успешно собрано деталей: 11\n",
      "2025-10-15 18:51:56,102 - HHResumeParser - INFO - Загрузка детальной страницы (попытка 1): https://hh.ru/resume/c2082685000794d0400039ed1f51345a334244?query=Game+Developer&searchRid=17605435009436815e454f46398e7029&hhtmFrom=resume_search_result\n",
      "2025-10-15 18:51:56,467 - HHResumeParser - INFO - Успешно собрано деталей: 11\n",
      "2025-10-15 18:51:57,474 - HHResumeParser - INFO - Загрузка детальной страницы (попытка 1): https://hh.ru/resume/408ee1ea000359aa650039ed1f77586e5a4e49?query=Game+Developer&searchRid=17605435009436815e454f46398e7029&hhtmFrom=resume_search_result\n",
      "2025-10-15 18:51:57,855 - HHResumeParser - INFO - Успешно собрано деталей: 10\n",
      "2025-10-15 18:51:58,862 - HHResumeParser - INFO - Загрузка детальной страницы (попытка 1): https://hh.ru/resume/0a46037a0001a05b580039ed1f697271475550?query=Game+Developer&searchRid=17605435009436815e454f46398e7029&hhtmFrom=resume_search_result\n",
      "2025-10-15 18:51:59,204 - HHResumeParser - INFO - Успешно собрано деталей: 11\n",
      "2025-10-15 18:52:00,210 - HHResumeParser - INFO - Загрузка детальной страницы (попытка 1): https://hh.ru/resume/9d98e0d90000c7ace20039ed1f6f4273653051?query=Game+Developer&searchRid=17605435009436815e454f46398e7029&hhtmFrom=resume_search_result\n",
      "2025-10-15 18:52:00,567 - HHResumeParser - INFO - Успешно собрано деталей: 10\n",
      "2025-10-15 18:52:01,574 - HHResumeParser - INFO - Загрузка детальной страницы (попытка 1): https://hh.ru/resume/4065d3ee0005e9df060039ed1f7a7a4c467179?query=Game+Developer&searchRid=17605435009436815e454f46398e7029&hhtmFrom=resume_search_result\n",
      "2025-10-15 18:52:01,906 - HHResumeParser - INFO - Успешно собрано деталей: 9\n",
      "2025-10-15 18:52:02,913 - HHResumeParser - INFO - Загрузка детальной страницы (попытка 1): https://hh.ru/resume/8e3eee460000aa89c80039ed1f736563726574?query=Game+Developer&searchRid=17605435009436815e454f46398e7029&hhtmFrom=resume_search_result\n",
      "2025-10-15 18:52:03,302 - HHResumeParser - INFO - Успешно собрано деталей: 8\n",
      "2025-10-15 18:52:04,309 - HHResumeParser - INFO - Загрузка детальной страницы (попытка 1): https://hh.ru/resume/2038170d0002d9a8b50039ed1f616768365544?query=Game+Developer&searchRid=17605435009436815e454f46398e7029&hhtmFrom=resume_search_result\n",
      "2025-10-15 18:52:04,671 - HHResumeParser - INFO - Успешно собрано деталей: 9\n",
      "2025-10-15 18:52:05,677 - HHResumeParser - INFO - Загрузка детальной страницы (попытка 1): https://hh.ru/resume/a78553510008f63b210039ed1f6c516e69354d?query=Game+Developer&searchRid=17605435009436815e454f46398e7029&hhtmFrom=resume_search_result\n",
      "2025-10-15 18:52:06,057 - HHResumeParser - INFO - Успешно собрано деталей: 9\n",
      "2025-10-15 18:52:07,064 - HHResumeParser - INFO - Загрузка детальной страницы (попытка 1): https://hh.ru/resume/aba533c500015724a50039ed1f336e32494161?query=Game+Developer&searchRid=17605435009436815e454f46398e7029&hhtmFrom=resume_search_result\n",
      "2025-10-15 18:52:07,489 - HHResumeParser - INFO - Успешно собрано деталей: 11\n",
      "2025-10-15 18:52:08,496 - HHResumeParser - INFO - Загрузка детальной страницы (попытка 1): https://hh.ru/resume/e73edd4000086bbf380039ed1f4a6f386c6b67?query=Game+Developer&searchRid=17605435009436815e454f46398e7029&hhtmFrom=resume_search_result\n",
      "2025-10-15 18:52:08,841 - HHResumeParser - INFO - Успешно собрано деталей: 10\n",
      "2025-10-15 18:52:09,847 - HHResumeParser - INFO - Всего обработано резюме: 20\n",
      "2025-10-15 18:52:09,848 - HHResumeParser - INFO - Найдено резюме для 'Game Developer': 20\n",
      "2025-10-15 18:52:11,853 - HHResumeParser - INFO - Страница 2/250\n",
      "2025-10-15 18:52:11,855 - HHResumeParser - INFO - Запрос поиска резюме: https://hh.ru/search/resume\n",
      "2025-10-15 18:52:12,407 - HHResumeParser - INFO - Страница поиска резюме успешно загружена\n",
      "2025-10-15 18:52:12,476 - HHResumeParser - INFO - Найдено элементов резюме по data-qa: 20\n",
      "2025-10-15 18:52:12,477 - HHResumeParser - INFO - Загрузка детальной страницы (попытка 1): https://hh.ru/resume/3fa8a1aa0008fff1940039ed1f555341465235?query=Game+Developer&searchRid=1760543531927e63bfd7cff47e4f0031&hhtmFrom=resume_search_result\n",
      "2025-10-15 18:52:12,753 - HHResumeParser - INFO - Успешно собрано деталей: 10\n",
      "2025-10-15 18:52:13,759 - HHResumeParser - INFO - Загрузка детальной страницы (попытка 1): https://hh.ru/resume/a3a3ff320002a9c8fa0039ed1f656c54664664?query=Game+Developer&searchRid=1760543531927e63bfd7cff47e4f0031&hhtmFrom=resume_search_result\n"
     ]
    }
   ],
   "source": [
    "for prof in tqdm(unloaded_position):\n",
    "    df_resumes = resume_parser.load_resumes(\n",
    "        search_terms=[prof],\n",
    "        areas=['Москва'],\n",
    "        pages=250,\n",
    "        items_on_page=20,\n",
    "        delay=2\n",
    "    )\n",
    "\n",
    "    resume_parser.save_to_files(df_resumes, resume_name=prof)\n",
    "\n",
    "    df_vacancies = vacancy_parser.load_vacancies(\n",
    "        search_terms=[prof],\n",
    "        areas=['Москва'],\n",
    "        pages=250,\n",
    "        per_page=20,\n",
    "        delay=2\n",
    "    )\n",
    "\n",
    "    vacancy_parser.save_to_files(df_vacancies, vacancy_name=prof)"
   ]
  },
  {
   "cell_type": "code",
   "execution_count": null,
   "id": "37454568-5fd3-4c0d-9817-bc35cdbfcb2f",
   "metadata": {},
   "outputs": [],
   "source": [
    "df_resumes"
   ]
  },
  {
   "cell_type": "code",
   "execution_count": null,
   "id": "e188aeeb-4f2a-4bfe-9235-44b5dcaf23c1",
   "metadata": {},
   "outputs": [],
   "source": [
    "def concat_df(prefix=None):\n",
    "    path = Path('.')\n",
    "    files = list(path.glob(f'{prefix}_*.csv'))\n",
    "\n",
    "    dfs = [pd.read_csv(file) for file in files]\n",
    "    total_df = pd.concat(dfs, ignore_index=True)\n",
    "\n",
    "    return total_df"
   ]
  },
  {
   "cell_type": "code",
   "execution_count": null,
   "id": "98f510c8-438d-4009-b843-4d27f0c439f7",
   "metadata": {},
   "outputs": [],
   "source": [
    "resumes_df = concat_df('resumes')"
   ]
  },
  {
   "cell_type": "code",
   "execution_count": null,
   "id": "6ed0b7b6-3893-41f2-a772-f87e95711c68",
   "metadata": {},
   "outputs": [],
   "source": [
    "resumes_df.shape"
   ]
  },
  {
   "cell_type": "code",
   "execution_count": null,
   "id": "11a362a6-46a4-4a8c-99d2-7ab6bafaf62a",
   "metadata": {},
   "outputs": [],
   "source": [
    "vacancies_df = concat_df('vacancies')"
   ]
  },
  {
   "cell_type": "code",
   "execution_count": null,
   "id": "be6c8f34-4a19-428e-a8c3-3b340100a529",
   "metadata": {},
   "outputs": [],
   "source": [
    "vacancies_df.shape"
   ]
  },
  {
   "cell_type": "markdown",
   "id": "dc63dd82-bc7a-416a-81a7-d54f16e0a92a",
   "metadata": {},
   "source": [
    "### "
   ]
  }
 ],
 "metadata": {
  "kernelspec": {
   "display_name": "Python 3 (ipykernel)",
   "language": "python",
   "name": "python3"
  },
  "language_info": {
   "codemirror_mode": {
    "name": "ipython",
    "version": 3
   },
   "file_extension": ".py",
   "mimetype": "text/x-python",
   "name": "python",
   "nbconvert_exporter": "python",
   "pygments_lexer": "ipython3",
   "version": "3.13.7"
  }
 },
 "nbformat": 4,
 "nbformat_minor": 5
}
