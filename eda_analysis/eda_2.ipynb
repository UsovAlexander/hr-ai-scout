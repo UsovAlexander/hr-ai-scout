{
 "cells": [
  {
   "cell_type": "code",
   "id": "bfa28d30-c0ec-4f1c-9a71-204da300da5e",
   "metadata": {
    "ExecuteTime": {
     "end_time": "2025-10-26T11:44:10.212329Z",
     "start_time": "2025-10-26T11:44:10.165579Z"
    }
   },
   "source": [
    "import re\n",
    "import pandas as pd\n",
    "import numpy as np\n",
    "import matplotlib.pyplot as plt\n",
    "import plotly.graph_objects as go\n",
    "import seaborn as sns\n",
    "from scipy import stats as st\n",
    "from phik import phik_matrix"
   ],
   "outputs": [],
   "execution_count": 1
  },
  {
   "metadata": {},
   "cell_type": "markdown",
   "source": [
    "От вас требуется:\n",
    "\n",
    "Изучить особенности данных:\n",
    "\n",
    "- Рассчитать основные статистики для вещественных и категориальных признаков (df.describe(include=’all’))\n",
    "- Есть ли пропущенные значения. Сколько. Какова их доля от общего числа объектов для каждого конкретного признака. И, в целом, насколько ваш датасет “разрежен” в контексте пропущенных значений.\n",
    "- Выдвинуть и (желательно) проверить гипотезу, что могут означать пропущенные значения? Осмысленно и аргументированно обработать пропуски.\n",
    "- Есть ли ошибочные  (например, отрицательный возраст или пятиметровый рост человека; 3-й класс в задаче бинарной классификации) значения (признаки, целевая переменная) в данных. Обработать их.\n",
    "- Есть ли выбросы в данных? По возможности обработать их.\n",
    "- Изучить поведение каждого признака в отдельности, его связь с целевой переменной, а также попарные корреляции (в т.ч и в особенности с таргетом). Визуализировать попарные распределения признаков (sns.pairplot()) и корреляции наиболее значимых. Построить подходящие сводные таблицы и прочие диаграммы.\n",
    "- Если проведённый вами анализ позволяет сделать какие-либо выводы, запишите их текстом максимально развернуто. Упомяните, как вы планируете задействовать приобретенные вами на этом этапе знания о вашей задаче.\n",
    "\n",
    "Любые другие (не перечисленные выше) формы разведочного анализа данных и интересные формы визуализации данных открыто приветствуются. Также отметим, что диаграммы должны быть информативными, а выводы прозрачными.\n"
   ],
   "id": "adca489e440ea1d4"
  },
  {
   "cell_type": "code",
   "id": "bb277784-1c51-4fdd-9c3a-dcd5bd5b5278",
   "metadata": {
    "ExecuteTime": {
     "end_time": "2025-10-26T11:44:10.221035Z",
     "start_time": "2025-10-26T11:44:10.219502Z"
    }
   },
   "source": [
    "plt.style.use('dark_background')"
   ],
   "outputs": [],
   "execution_count": 2
  },
  {
   "metadata": {},
   "cell_type": "markdown",
   "source": [
    "<div style=\"background-color: #98FB98; color: black; padding: 10px; border-radius: 5px;\">\n",
    "Работаем с датасетом `total_df.csv`.\n",
    "\n",
    "Скачать его можно отсюда: https://disk.yandex.ru/d/PjQ13mEbT9958w\n",
    "\n",
    "На данный момент в датасете 2720 вакансий 17416 резюме\n",
    "\n",
    "Эти две таблицы соединены декартовым произведением, однако, доступно лишь  59,610 записей, которым был дан признак target, где 1 - это вакансия подходит для собеседования и 0 - эта вакансия не подходит для собеседования\n",
    "\n",
    "25,520 -  значений target = 1\n",
    "\n",
    "34,090 - значений target = 0\n",
    "\n",
    "#### **Используемые столбцы:**\n",
    "\n",
    "- `vacancy_id` - ID вакансии\n",
    "- `vacancy_name` - Название вакансии (аналитик, ABAP-программист)\n",
    "- `vacancy_area` - город, где размещена вакансия\n",
    "- `vacancy_experience` - требуемый опыт работы\n",
    "- `vacancy_employment` - тип занятости\n",
    "- `vacancy_schedule` - график работы\n",
    "- `vacancy_salary_from` - нижняя граница зарплатного интервала\n",
    "- `vacancy_salary_to` - верхняя граница зарплатного интервала\n",
    "- `vacancy_salary_currency` - тип валюты\n",
    "- `vacancy_salary_gross` - gross или net\n",
    "- `vacancy_description` - описание вакансии\n",
    "- `resume_id` - ID резюме\n",
    "- `resume_title` -  название резюме (аналитик, ABAP-программист)\n",
    "- `resume_specialization` - специализация кандидата\n",
    "- `resume_last_position` - последняя должность, на которой работал кандидат\n",
    "- `resume_last_experience_description` - что делал кандидат на последнем месте работы\n",
    "- `resume_last_company_experience_period` - срок работы на последнем месте\n",
    "- `resume_skills` - навыки\n",
    "- `resume_education` - образование, место\n",
    "- `resume_courses` - курсы? сертификаты\n",
    "- `resume_salary` - желаемая зарплата\n",
    "- `resume_age` - возраст кандидата\n",
    "- `resume_total_experience` - общая продолжительность стажа\n",
    "- `resume_experience_months` - общая продолжительность стажа, записанная в месяцах\n",
    "- `resume_location` - город, где находится кандидат\n",
    "- `resume_gender` - пол кандидата\n",
    "- `resume_applicant_status` - ищет активно или нет работу\n",
    "- `target` - 1, если кандидат соответствует критериям для первого собеседования, 0 в противном случае\n",
    "</div>"
   ],
   "id": "4e53048495522222"
  },
  {
   "cell_type": "code",
   "id": "919802d2-ab0f-4984-bfc5-0bf04cf71ac9",
   "metadata": {
    "ExecuteTime": {
     "end_time": "2025-10-26T11:44:12.080745Z",
     "start_time": "2025-10-26T11:44:10.230050Z"
    }
   },
   "source": [
    "df = pd.read_csv('total_df.csv')\n",
    "df.head()"
   ],
   "outputs": [
    {
     "data": {
      "text/plain": [
       "   vacancy_id          vacancy_name vacancy_area vacancy_experience  \\\n",
       "0   126167948  Разработчик SAP ABAP       Москва        Более 6 лет   \n",
       "1   126167948  Разработчик SAP ABAP       Москва        Более 6 лет   \n",
       "2   126167948  Разработчик SAP ABAP       Москва        Более 6 лет   \n",
       "3   126167948  Разработчик SAP ABAP       Москва        Более 6 лет   \n",
       "4   126167948  Разработчик SAP ABAP       Москва        Более 6 лет   \n",
       "\n",
       "  vacancy_employment  vacancy_schedule  vacancy_salary_from  \\\n",
       "0   Полная занятость  Удаленная работа             300000.0   \n",
       "1   Полная занятость  Удаленная работа             300000.0   \n",
       "2   Полная занятость  Удаленная работа             300000.0   \n",
       "3   Полная занятость  Удаленная работа             300000.0   \n",
       "4   Полная занятость  Удаленная работа             300000.0   \n",
       "\n",
       "   vacancy_salary_to vacancy_salary_currency vacancy_salary_gross  ...  \\\n",
       "0                NaN                     RUR                False  ...   \n",
       "1                NaN                     RUR                False  ...   \n",
       "2                NaN                     RUR                False  ...   \n",
       "3                NaN                     RUR                False  ...   \n",
       "4                NaN                     RUR                False  ...   \n",
       "\n",
       "                                    resume_education  \\\n",
       "0                 ['Казанский Авиационный Институт']   \n",
       "1  ['ООО \"Открытый Учебный Центр СофтБаланс\", г. ...   \n",
       "2  ['Орский государственный педагогический инстит...   \n",
       "3       ['Красноярский государственный университет']   \n",
       "4  ['Белоруский Гос. Университет Информатики и Ра...   \n",
       "\n",
       "                                      resume_courses      resume_salary  \\\n",
       "0                                                NaN                NaN   \n",
       "1  ['ООО \"Открытый Учебный Центр СофтБаланс\", г. ...                NaN   \n",
       "2                                                NaN  200 000 ₽ на руки   \n",
       "3                                                NaN  500 000 ₽ на руки   \n",
       "4  ['SAP CIS, SAP XI', 'Школа Логистики МАДИ', 'S...                NaN   \n",
       "\n",
       "  resume_age resume_total_experience resume_experience_months resume_location  \\\n",
       "0       65.0                  19 лет                    228.0          Москва   \n",
       "1       43.0         17 лет 4 месяца                    208.0          Москва   \n",
       "2       52.0                  30 лет                    360.0          Москва   \n",
       "3       56.0        29 лет 8 месяцев                    356.0      Красноярск   \n",
       "4       48.0          25 лет 1 месяц                    301.0          Moscow   \n",
       "\n",
       "  resume_gender    resume_applicant_status target  \n",
       "0       Мужчина  Рассматривает предложения      1  \n",
       "1       Мужчина  Рассматривает предложения      1  \n",
       "2       Женщина                        NaN      1  \n",
       "3       Мужчина  Рассматривает предложения      1  \n",
       "4          Male                        NaN      1  \n",
       "\n",
       "[5 rows x 28 columns]"
      ],
      "text/html": [
       "<div>\n",
       "<style scoped>\n",
       "    .dataframe tbody tr th:only-of-type {\n",
       "        vertical-align: middle;\n",
       "    }\n",
       "\n",
       "    .dataframe tbody tr th {\n",
       "        vertical-align: top;\n",
       "    }\n",
       "\n",
       "    .dataframe thead th {\n",
       "        text-align: right;\n",
       "    }\n",
       "</style>\n",
       "<table border=\"1\" class=\"dataframe\">\n",
       "  <thead>\n",
       "    <tr style=\"text-align: right;\">\n",
       "      <th></th>\n",
       "      <th>vacancy_id</th>\n",
       "      <th>vacancy_name</th>\n",
       "      <th>vacancy_area</th>\n",
       "      <th>vacancy_experience</th>\n",
       "      <th>vacancy_employment</th>\n",
       "      <th>vacancy_schedule</th>\n",
       "      <th>vacancy_salary_from</th>\n",
       "      <th>vacancy_salary_to</th>\n",
       "      <th>vacancy_salary_currency</th>\n",
       "      <th>vacancy_salary_gross</th>\n",
       "      <th>...</th>\n",
       "      <th>resume_education</th>\n",
       "      <th>resume_courses</th>\n",
       "      <th>resume_salary</th>\n",
       "      <th>resume_age</th>\n",
       "      <th>resume_total_experience</th>\n",
       "      <th>resume_experience_months</th>\n",
       "      <th>resume_location</th>\n",
       "      <th>resume_gender</th>\n",
       "      <th>resume_applicant_status</th>\n",
       "      <th>target</th>\n",
       "    </tr>\n",
       "  </thead>\n",
       "  <tbody>\n",
       "    <tr>\n",
       "      <th>0</th>\n",
       "      <td>126167948</td>\n",
       "      <td>Разработчик SAP ABAP</td>\n",
       "      <td>Москва</td>\n",
       "      <td>Более 6 лет</td>\n",
       "      <td>Полная занятость</td>\n",
       "      <td>Удаленная работа</td>\n",
       "      <td>300000.0</td>\n",
       "      <td>NaN</td>\n",
       "      <td>RUR</td>\n",
       "      <td>False</td>\n",
       "      <td>...</td>\n",
       "      <td>['Казанский Авиационный Институт']</td>\n",
       "      <td>NaN</td>\n",
       "      <td>NaN</td>\n",
       "      <td>65.0</td>\n",
       "      <td>19 лет</td>\n",
       "      <td>228.0</td>\n",
       "      <td>Москва</td>\n",
       "      <td>Мужчина</td>\n",
       "      <td>Рассматривает предложения</td>\n",
       "      <td>1</td>\n",
       "    </tr>\n",
       "    <tr>\n",
       "      <th>1</th>\n",
       "      <td>126167948</td>\n",
       "      <td>Разработчик SAP ABAP</td>\n",
       "      <td>Москва</td>\n",
       "      <td>Более 6 лет</td>\n",
       "      <td>Полная занятость</td>\n",
       "      <td>Удаленная работа</td>\n",
       "      <td>300000.0</td>\n",
       "      <td>NaN</td>\n",
       "      <td>RUR</td>\n",
       "      <td>False</td>\n",
       "      <td>...</td>\n",
       "      <td>['ООО \"Открытый Учебный Центр СофтБаланс\", г. ...</td>\n",
       "      <td>['ООО \"Открытый Учебный Центр СофтБаланс\", г. ...</td>\n",
       "      <td>NaN</td>\n",
       "      <td>43.0</td>\n",
       "      <td>17 лет 4 месяца</td>\n",
       "      <td>208.0</td>\n",
       "      <td>Москва</td>\n",
       "      <td>Мужчина</td>\n",
       "      <td>Рассматривает предложения</td>\n",
       "      <td>1</td>\n",
       "    </tr>\n",
       "    <tr>\n",
       "      <th>2</th>\n",
       "      <td>126167948</td>\n",
       "      <td>Разработчик SAP ABAP</td>\n",
       "      <td>Москва</td>\n",
       "      <td>Более 6 лет</td>\n",
       "      <td>Полная занятость</td>\n",
       "      <td>Удаленная работа</td>\n",
       "      <td>300000.0</td>\n",
       "      <td>NaN</td>\n",
       "      <td>RUR</td>\n",
       "      <td>False</td>\n",
       "      <td>...</td>\n",
       "      <td>['Орский государственный педагогический инстит...</td>\n",
       "      <td>NaN</td>\n",
       "      <td>200 000 ₽ на руки</td>\n",
       "      <td>52.0</td>\n",
       "      <td>30 лет</td>\n",
       "      <td>360.0</td>\n",
       "      <td>Москва</td>\n",
       "      <td>Женщина</td>\n",
       "      <td>NaN</td>\n",
       "      <td>1</td>\n",
       "    </tr>\n",
       "    <tr>\n",
       "      <th>3</th>\n",
       "      <td>126167948</td>\n",
       "      <td>Разработчик SAP ABAP</td>\n",
       "      <td>Москва</td>\n",
       "      <td>Более 6 лет</td>\n",
       "      <td>Полная занятость</td>\n",
       "      <td>Удаленная работа</td>\n",
       "      <td>300000.0</td>\n",
       "      <td>NaN</td>\n",
       "      <td>RUR</td>\n",
       "      <td>False</td>\n",
       "      <td>...</td>\n",
       "      <td>['Красноярский государственный университет']</td>\n",
       "      <td>NaN</td>\n",
       "      <td>500 000 ₽ на руки</td>\n",
       "      <td>56.0</td>\n",
       "      <td>29 лет 8 месяцев</td>\n",
       "      <td>356.0</td>\n",
       "      <td>Красноярск</td>\n",
       "      <td>Мужчина</td>\n",
       "      <td>Рассматривает предложения</td>\n",
       "      <td>1</td>\n",
       "    </tr>\n",
       "    <tr>\n",
       "      <th>4</th>\n",
       "      <td>126167948</td>\n",
       "      <td>Разработчик SAP ABAP</td>\n",
       "      <td>Москва</td>\n",
       "      <td>Более 6 лет</td>\n",
       "      <td>Полная занятость</td>\n",
       "      <td>Удаленная работа</td>\n",
       "      <td>300000.0</td>\n",
       "      <td>NaN</td>\n",
       "      <td>RUR</td>\n",
       "      <td>False</td>\n",
       "      <td>...</td>\n",
       "      <td>['Белоруский Гос. Университет Информатики и Ра...</td>\n",
       "      <td>['SAP CIS, SAP XI', 'Школа Логистики МАДИ', 'S...</td>\n",
       "      <td>NaN</td>\n",
       "      <td>48.0</td>\n",
       "      <td>25 лет 1 месяц</td>\n",
       "      <td>301.0</td>\n",
       "      <td>Moscow</td>\n",
       "      <td>Male</td>\n",
       "      <td>NaN</td>\n",
       "      <td>1</td>\n",
       "    </tr>\n",
       "  </tbody>\n",
       "</table>\n",
       "<p>5 rows × 28 columns</p>\n",
       "</div>"
      ]
     },
     "execution_count": 3,
     "metadata": {},
     "output_type": "execute_result"
    }
   ],
   "execution_count": 3
  },
  {
   "cell_type": "code",
   "id": "a638afb8-2399-4020-aaf7-991929f79a01",
   "metadata": {
    "ExecuteTime": {
     "end_time": "2025-10-26T11:44:12.179542Z",
     "start_time": "2025-10-26T11:44:12.177241Z"
    }
   },
   "source": "df.shape",
   "outputs": [
    {
     "data": {
      "text/plain": [
       "(59610, 28)"
      ]
     },
     "execution_count": 4,
     "metadata": {},
     "output_type": "execute_result"
    }
   ],
   "execution_count": 4
  },
  {
   "cell_type": "code",
   "id": "1b7c24d7-266a-4679-a4f6-dddf63fd69c6",
   "metadata": {
    "ExecuteTime": {
     "end_time": "2025-10-26T11:44:12.283042Z",
     "start_time": "2025-10-26T11:44:12.258777Z"
    }
   },
   "source": "df.info()",
   "outputs": [
    {
     "name": "stdout",
     "output_type": "stream",
     "text": [
      "<class 'pandas.core.frame.DataFrame'>\n",
      "RangeIndex: 59610 entries, 0 to 59609\n",
      "Data columns (total 28 columns):\n",
      " #   Column                                 Non-Null Count  Dtype  \n",
      "---  ------                                 --------------  -----  \n",
      " 0   vacancy_id                             59610 non-null  int64  \n",
      " 1   vacancy_name                           59610 non-null  object \n",
      " 2   vacancy_area                           59610 non-null  object \n",
      " 3   vacancy_experience                     59610 non-null  object \n",
      " 4   vacancy_employment                     59610 non-null  object \n",
      " 5   vacancy_schedule                       59610 non-null  object \n",
      " 6   vacancy_salary_from                    14031 non-null  float64\n",
      " 7   vacancy_salary_to                      11257 non-null  float64\n",
      " 8   vacancy_salary_currency                17597 non-null  object \n",
      " 9   vacancy_salary_gross                   17597 non-null  object \n",
      " 10  vacancy_description                    59610 non-null  object \n",
      " 11  resume_id                              59610 non-null  int64  \n",
      " 12  resume_title                           59364 non-null  object \n",
      " 13  resume_specialization                  59358 non-null  object \n",
      " 14  resume_last_position                   58413 non-null  object \n",
      " 15  resume_last_experience_description     58401 non-null  object \n",
      " 16  resume_last_company_experience_period  58414 non-null  object \n",
      " 17  resume_skills                          44474 non-null  object \n",
      " 18  resume_education                       58090 non-null  object \n",
      " 19  resume_courses                         23711 non-null  object \n",
      " 20  resume_salary                          32915 non-null  object \n",
      " 21  resume_age                             56329 non-null  float64\n",
      " 22  resume_total_experience                58601 non-null  object \n",
      " 23  resume_experience_months               58601 non-null  float64\n",
      " 24  resume_location                        59358 non-null  object \n",
      " 25  resume_gender                          59358 non-null  object \n",
      " 26  resume_applicant_status                19515 non-null  object \n",
      " 27  target                                 59610 non-null  int64  \n",
      "dtypes: float64(4), int64(3), object(21)\n",
      "memory usage: 12.7+ MB\n"
     ]
    }
   ],
   "execution_count": 5
  },
  {
   "cell_type": "code",
   "id": "d6663904-11a0-45e6-b2f5-5dfd172ca281",
   "metadata": {
    "ExecuteTime": {
     "end_time": "2025-10-26T11:44:12.575390Z",
     "start_time": "2025-10-26T11:44:12.314160Z"
    }
   },
   "source": "df.duplicated().sum()",
   "outputs": [
    {
     "data": {
      "text/plain": [
       "np.int64(0)"
      ]
     },
     "execution_count": 6,
     "metadata": {},
     "output_type": "execute_result"
    }
   ],
   "execution_count": 6
  },
  {
   "cell_type": "markdown",
   "id": "f787d681-b4e6-4a70-954c-3bc0db9e34cb",
   "metadata": {},
   "source": [
    "<div style=\"background-color: #98FB98; color: black; padding: 10px; border-radius: 5px;\">\n",
    "Дубликатов не выявлено.\n",
    "</div>"
   ]
  },
  {
   "cell_type": "markdown",
   "id": "8c874d3a-8ea3-439a-9fc5-77828338bdb0",
   "metadata": {},
   "source": [
    "<div style=\"background-color: #98FB98; color: black; padding: 10px; border-radius: 5px;\">\n",
    "Посмотрим на пропуски отдельно по категориальным и числовым признакам.\n",
    "</div>"
   ]
  },
  {
   "cell_type": "code",
   "id": "71ac10b5-3064-4de6-9eb3-0bae4fe67c36",
   "metadata": {
    "ExecuteTime": {
     "end_time": "2025-10-26T11:44:12.616407Z",
     "start_time": "2025-10-26T11:44:12.580312Z"
    }
   },
   "source": "nan_df = pd.DataFrame({'Количество пропусков': df.isna().sum(), 'Доля пропусков': (df.isna().sum() / len(df)).round(2)})",
   "outputs": [],
   "execution_count": 7
  },
  {
   "metadata": {
    "ExecuteTime": {
     "end_time": "2025-10-26T11:44:12.628952Z",
     "start_time": "2025-10-26T11:44:12.620494Z"
    }
   },
   "cell_type": "code",
   "source": [
    "num_cols = df.select_dtypes(include=[np.number]).columns\n",
    "cat_cols = df.select_dtypes(include=['object']).columns"
   ],
   "id": "bd61285f-c7f3-4aec-9d4b-e162a0ebcef8",
   "outputs": [],
   "execution_count": 8
  },
  {
   "cell_type": "code",
   "id": "b97bb6af-9834-46d3-b109-9c601eb0b32d",
   "metadata": {
    "scrolled": true,
    "ExecuteTime": {
     "end_time": "2025-10-26T11:44:12.639256Z",
     "start_time": "2025-10-26T11:44:12.634899Z"
    }
   },
   "source": [
    "nan_df.loc[list(cat_cols)].sort_values('Доля пропусков', ascending=False)"
   ],
   "outputs": [
    {
     "data": {
      "text/plain": [
       "                                       Количество пропусков  Доля пропусков\n",
       "vacancy_salary_currency                               42013            0.70\n",
       "vacancy_salary_gross                                  42013            0.70\n",
       "resume_applicant_status                               40095            0.67\n",
       "resume_courses                                        35899            0.60\n",
       "resume_salary                                         26695            0.45\n",
       "resume_skills                                         15136            0.25\n",
       "resume_education                                       1520            0.03\n",
       "resume_last_experience_description                     1209            0.02\n",
       "resume_total_experience                                1009            0.02\n",
       "resume_last_company_experience_period                  1196            0.02\n",
       "resume_last_position                                   1197            0.02\n",
       "vacancy_area                                              0            0.00\n",
       "resume_specialization                                   252            0.00\n",
       "resume_title                                            246            0.00\n",
       "vacancy_description                                       0            0.00\n",
       "vacancy_schedule                                          0            0.00\n",
       "vacancy_employment                                        0            0.00\n",
       "vacancy_experience                                        0            0.00\n",
       "resume_location                                         252            0.00\n",
       "resume_gender                                           252            0.00\n",
       "vacancy_name                                              0            0.00"
      ],
      "text/html": [
       "<div>\n",
       "<style scoped>\n",
       "    .dataframe tbody tr th:only-of-type {\n",
       "        vertical-align: middle;\n",
       "    }\n",
       "\n",
       "    .dataframe tbody tr th {\n",
       "        vertical-align: top;\n",
       "    }\n",
       "\n",
       "    .dataframe thead th {\n",
       "        text-align: right;\n",
       "    }\n",
       "</style>\n",
       "<table border=\"1\" class=\"dataframe\">\n",
       "  <thead>\n",
       "    <tr style=\"text-align: right;\">\n",
       "      <th></th>\n",
       "      <th>Количество пропусков</th>\n",
       "      <th>Доля пропусков</th>\n",
       "    </tr>\n",
       "  </thead>\n",
       "  <tbody>\n",
       "    <tr>\n",
       "      <th>vacancy_salary_currency</th>\n",
       "      <td>42013</td>\n",
       "      <td>0.70</td>\n",
       "    </tr>\n",
       "    <tr>\n",
       "      <th>vacancy_salary_gross</th>\n",
       "      <td>42013</td>\n",
       "      <td>0.70</td>\n",
       "    </tr>\n",
       "    <tr>\n",
       "      <th>resume_applicant_status</th>\n",
       "      <td>40095</td>\n",
       "      <td>0.67</td>\n",
       "    </tr>\n",
       "    <tr>\n",
       "      <th>resume_courses</th>\n",
       "      <td>35899</td>\n",
       "      <td>0.60</td>\n",
       "    </tr>\n",
       "    <tr>\n",
       "      <th>resume_salary</th>\n",
       "      <td>26695</td>\n",
       "      <td>0.45</td>\n",
       "    </tr>\n",
       "    <tr>\n",
       "      <th>resume_skills</th>\n",
       "      <td>15136</td>\n",
       "      <td>0.25</td>\n",
       "    </tr>\n",
       "    <tr>\n",
       "      <th>resume_education</th>\n",
       "      <td>1520</td>\n",
       "      <td>0.03</td>\n",
       "    </tr>\n",
       "    <tr>\n",
       "      <th>resume_last_experience_description</th>\n",
       "      <td>1209</td>\n",
       "      <td>0.02</td>\n",
       "    </tr>\n",
       "    <tr>\n",
       "      <th>resume_total_experience</th>\n",
       "      <td>1009</td>\n",
       "      <td>0.02</td>\n",
       "    </tr>\n",
       "    <tr>\n",
       "      <th>resume_last_company_experience_period</th>\n",
       "      <td>1196</td>\n",
       "      <td>0.02</td>\n",
       "    </tr>\n",
       "    <tr>\n",
       "      <th>resume_last_position</th>\n",
       "      <td>1197</td>\n",
       "      <td>0.02</td>\n",
       "    </tr>\n",
       "    <tr>\n",
       "      <th>vacancy_area</th>\n",
       "      <td>0</td>\n",
       "      <td>0.00</td>\n",
       "    </tr>\n",
       "    <tr>\n",
       "      <th>resume_specialization</th>\n",
       "      <td>252</td>\n",
       "      <td>0.00</td>\n",
       "    </tr>\n",
       "    <tr>\n",
       "      <th>resume_title</th>\n",
       "      <td>246</td>\n",
       "      <td>0.00</td>\n",
       "    </tr>\n",
       "    <tr>\n",
       "      <th>vacancy_description</th>\n",
       "      <td>0</td>\n",
       "      <td>0.00</td>\n",
       "    </tr>\n",
       "    <tr>\n",
       "      <th>vacancy_schedule</th>\n",
       "      <td>0</td>\n",
       "      <td>0.00</td>\n",
       "    </tr>\n",
       "    <tr>\n",
       "      <th>vacancy_employment</th>\n",
       "      <td>0</td>\n",
       "      <td>0.00</td>\n",
       "    </tr>\n",
       "    <tr>\n",
       "      <th>vacancy_experience</th>\n",
       "      <td>0</td>\n",
       "      <td>0.00</td>\n",
       "    </tr>\n",
       "    <tr>\n",
       "      <th>resume_location</th>\n",
       "      <td>252</td>\n",
       "      <td>0.00</td>\n",
       "    </tr>\n",
       "    <tr>\n",
       "      <th>resume_gender</th>\n",
       "      <td>252</td>\n",
       "      <td>0.00</td>\n",
       "    </tr>\n",
       "    <tr>\n",
       "      <th>vacancy_name</th>\n",
       "      <td>0</td>\n",
       "      <td>0.00</td>\n",
       "    </tr>\n",
       "  </tbody>\n",
       "</table>\n",
       "</div>"
      ]
     },
     "execution_count": 9,
     "metadata": {},
     "output_type": "execute_result"
    }
   ],
   "execution_count": 9
  },
  {
   "metadata": {
    "ExecuteTime": {
     "end_time": "2025-10-26T11:44:12.705688Z",
     "start_time": "2025-10-26T11:44:12.685976Z"
    }
   },
   "cell_type": "code",
   "source": "print('Разряженность датасета: ', round(df.isnull().sum().sum() / (df.shape[0] * df.shape[1]), 4) * 100, '%')",
   "id": "3cbd8293852ed007",
   "outputs": [
    {
     "name": "stdout",
     "output_type": "stream",
     "text": [
      "Разряженность датасета:  18.41 %\n"
     ]
    }
   ],
   "execution_count": 10
  },
  {
   "cell_type": "code",
   "id": "b5ca9737-b4a7-448b-841e-8e6061c12d9a",
   "metadata": {
    "ExecuteTime": {
     "end_time": "2025-10-26T11:44:12.838546Z",
     "start_time": "2025-10-26T11:44:12.834763Z"
    }
   },
   "source": [
    "nan_df.loc[list(num_cols)].sort_values('Доля пропусков', ascending=False)"
   ],
   "outputs": [
    {
     "data": {
      "text/plain": [
       "                          Количество пропусков  Доля пропусков\n",
       "vacancy_salary_to                        48353            0.81\n",
       "vacancy_salary_from                      45579            0.76\n",
       "resume_age                                3281            0.06\n",
       "resume_experience_months                  1009            0.02\n",
       "vacancy_id                                   0            0.00\n",
       "resume_id                                    0            0.00\n",
       "target                                       0            0.00"
      ],
      "text/html": [
       "<div>\n",
       "<style scoped>\n",
       "    .dataframe tbody tr th:only-of-type {\n",
       "        vertical-align: middle;\n",
       "    }\n",
       "\n",
       "    .dataframe tbody tr th {\n",
       "        vertical-align: top;\n",
       "    }\n",
       "\n",
       "    .dataframe thead th {\n",
       "        text-align: right;\n",
       "    }\n",
       "</style>\n",
       "<table border=\"1\" class=\"dataframe\">\n",
       "  <thead>\n",
       "    <tr style=\"text-align: right;\">\n",
       "      <th></th>\n",
       "      <th>Количество пропусков</th>\n",
       "      <th>Доля пропусков</th>\n",
       "    </tr>\n",
       "  </thead>\n",
       "  <tbody>\n",
       "    <tr>\n",
       "      <th>vacancy_salary_to</th>\n",
       "      <td>48353</td>\n",
       "      <td>0.81</td>\n",
       "    </tr>\n",
       "    <tr>\n",
       "      <th>vacancy_salary_from</th>\n",
       "      <td>45579</td>\n",
       "      <td>0.76</td>\n",
       "    </tr>\n",
       "    <tr>\n",
       "      <th>resume_age</th>\n",
       "      <td>3281</td>\n",
       "      <td>0.06</td>\n",
       "    </tr>\n",
       "    <tr>\n",
       "      <th>resume_experience_months</th>\n",
       "      <td>1009</td>\n",
       "      <td>0.02</td>\n",
       "    </tr>\n",
       "    <tr>\n",
       "      <th>vacancy_id</th>\n",
       "      <td>0</td>\n",
       "      <td>0.00</td>\n",
       "    </tr>\n",
       "    <tr>\n",
       "      <th>resume_id</th>\n",
       "      <td>0</td>\n",
       "      <td>0.00</td>\n",
       "    </tr>\n",
       "    <tr>\n",
       "      <th>target</th>\n",
       "      <td>0</td>\n",
       "      <td>0.00</td>\n",
       "    </tr>\n",
       "  </tbody>\n",
       "</table>\n",
       "</div>"
      ]
     },
     "execution_count": 11,
     "metadata": {},
     "output_type": "execute_result"
    }
   ],
   "execution_count": 11
  },
  {
   "cell_type": "markdown",
   "id": "740f9607-4eda-4189-8660-74b0cad297a5",
   "metadata": {},
   "source": [
    "<div style=\"background-color: #98FB98; color: black; padding: 10px; border-radius: 5px;\">\n",
    "\n",
    "Пропущены значения у следующих параметров и по ним следующие причины отсутствия значений:\n",
    "\n",
    "- vacancy_salary_to - работодатели редко дают зарплатные вилки, только если либо позицию им нужно (а) быстро закрыть (б) очистить входной поток, чтобы не было много невалидных подач (кандидатов с ожиданиями выше вакансии) (в) Скрыть высокие зарплаты\n",
    "- vacancy_salary_from - работодатели редко дают зарплатные вилки, это им невыгодно по многим причинам. Вилки дают только если либо нужно (а) быстро закрыть позицию (б) очистить входной поток, чтобы не было много невалидных подач (кандидатов с ожиданиями выше вакансии)\n",
    "- vacancy_salary_currency - вытекает из предыдущих параметров\n",
    "- vacancy_salary_gross - вытекает из предыдущих параметров\n",
    "- resume_applicant_status - статус аппликанта часто скрывается, если он в данный момент трудоустроен. По сути тут два типа резюме: активно ищущих и открытых предложениям.\n",
    "- resume_courses - курсы кандидата на вакансию (список с названиями курсов). Необходимы для вакансий, где таковые курсы требуются. Людей таких много, курсы разные, будем ставить пустые списки у тех, у кого нет курсов\n",
    "- resume_salary - Кандидаты также редко ставят ожидания по зарплатам открытыми\n",
    "- resume_skills - скиллы, могут пересекаться с курсами. Это поле заметно чаще прописывают, чем курсы, потому что здесь не нужно подтверждение никакого. Пропуски говорят о незаполненном резюме.\n",
    "- resume_age - вообще на hh почти скрыть возраст. Таких резюме меньше 5%. Значит, технические ошибки при парсинге, случайные сбои.\n",
    "- resume_education - отсутствие образование также редкое явление. Неоконченное также указывают, поэтому либо решили только среднее не указывать, а оставить только курсы, либо технические ошибки при парсинге, случайные сбои\n",
    "- resume_last_experience_description - Отсутствие опыта или технический сбой\n",
    "- resume_last_position - вытекает из предыдущего\n",
    "- resume_last_company_experience_period - вытекает из предыдущего\n",
    "- resume_total_experience - Отсутствие опыта или технический сбой\n",
    "- resume_experience_months - вытекает из предыдущего\n",
    "- resume_specialization - технический сбой\n",
    "- resume_location - технический сбой\n",
    "- resume_gender - технический сбой\n",
    "- resume_title - технический сбой\n",
    "\n",
    "Отсюда вытекают 3 категории:\n",
    "\n",
    "1. **Рандомные пропуски** Технические ошибки при парсинге, случайные сбои. К ним относятся поля для резюме - одновременное отсутствие всех данных кандидата, отсутствие каких-либо данных по кандидату, кроме профессии, в которую он стремиться, отсутствие специализации и опыта\n",
    "\n",
    "2. **Не рандомные пропуски** Высокие зарплаты намеренно скрываются; кандидаты с пробелами в карьере не указывают даты\n",
    "\n",
    "3. **Микс** - возможно включает технические сбои, возможно, намеренное скрытие. Требует детального рассмотрения каждого поля.\n",
    "\n",
    "Не рандомные пропуски нужно отдельно обрабатывать, технические сбои - будут удалены из датасета\n",
    "\n",
    "Т.к. у признаков vacancy_salary_to и vacancy_salary_from примерно 80% пропусков, то можно их удалить.\n",
    "\n",
    "Поскольку vacancy_salary_currency и vacancy_salary_gross являются вытекающими признаками из vacancy_salary_*, то их тоже можно удалить\n",
    "\n",
    "По техническим причинам, на hh.ru нельзя не указывать возраст. Однако, в датасете есть резюме без указания возраста. Заполним признак resume_age средним значением, а resume_experience_months заполним нулем, т.к. видно, что последнего места работы нет.\n",
    "\n",
    "</div>"
   ]
  },
  {
   "metadata": {},
   "cell_type": "markdown",
   "source": [
    "<div style=\"background-color: #98FB98; color: black; padding: 10px; border-radius: 5px;\">\n",
    "В первую очередь уберем строки, где пропущены все ключевые значения в резюме:\n",
    "</div>"
   ],
   "id": "22df49f18e25f79"
  },
  {
   "metadata": {
    "ExecuteTime": {
     "end_time": "2025-10-26T11:44:12.895365Z",
     "start_time": "2025-10-26T11:44:12.876832Z"
    }
   },
   "cell_type": "code",
   "source": [
    "t1 = df.shape[0]\n",
    "df = df.dropna(subset= [\"resume_education\",\n",
    "                        \"resume_last_experience_description\",\n",
    "                        \"resume_last_position\",\n",
    "                        \"resume_last_company_experience_period\",\n",
    "                        \"resume_total_experience\",\n",
    "                        \"resume_experience_months\",\n",
    "                        \"resume_location\",\n",
    "                        \"resume_specialization\",\n",
    "                        \"resume_gender\",\n",
    "                        \"resume_title\"], how=\"all\")\n",
    "t2 = df.shape[0]\n",
    "print('Удалено ', t1 - t2 ,' строки')"
   ],
   "id": "b4c4ed2b4600a569",
   "outputs": [
    {
     "name": "stdout",
     "output_type": "stream",
     "text": [
      "Удалено  64  строки\n"
     ]
    }
   ],
   "execution_count": 12
  },
  {
   "metadata": {
    "ExecuteTime": {
     "end_time": "2025-10-26T11:44:12.953572Z",
     "start_time": "2025-10-26T11:44:12.934341Z"
    }
   },
   "cell_type": "code",
   "source": [
    "t1 = df.shape[0]\n",
    "df = df.dropna(subset= [\"resume_education\",\n",
    "                        \"resume_last_experience_description\",\n",
    "                        \"resume_last_position\",\n",
    "                        \"resume_last_company_experience_period\",\n",
    "                        \"resume_total_experience\",\n",
    "                        \"resume_experience_months\",\n",
    "                        \"resume_location\",\n",
    "                        \"resume_specialization\"], how=\"all\")\n",
    "t2 = df.shape[0]\n",
    "print('Удалена ', t1 - t2 ,' строка')"
   ],
   "id": "9008cdcc6738e818",
   "outputs": [
    {
     "name": "stdout",
     "output_type": "stream",
     "text": [
      "Удалена  1  строка\n"
     ]
    }
   ],
   "execution_count": 13
  },
  {
   "metadata": {},
   "cell_type": "markdown",
   "source": [
    "<div style=\"background-color: #98FB98; color: black; padding: 10px; border-radius: 5px;\">\n",
    "Удалим еще те строки, где случился технический сбой в парсинге, где у кандидата общий опыт есть, а последний опыт не указан (и наоборот):\n",
    "</div>"
   ],
   "id": "b2048cac015797a2"
  },
  {
   "metadata": {
    "ExecuteTime": {
     "end_time": "2025-10-26T11:44:12.978871Z",
     "start_time": "2025-10-26T11:44:12.965327Z"
    }
   },
   "cell_type": "code",
   "source": [
    "t1 = df.shape[0]\n",
    "df = df.loc[~(df[\"resume_total_experience\"].notna()\n",
    "        & df[\"resume_last_experience_description\"].isna()\n",
    "        & df[\"resume_last_position\"].isna())]\n",
    "t2 = df.shape[0]\n",
    "print('Удалено ', t1 - t2 ,' строк')"
   ],
   "id": "77a1779a4354c269",
   "outputs": [
    {
     "name": "stdout",
     "output_type": "stream",
     "text": [
      "Удалено  188  строк\n"
     ]
    }
   ],
   "execution_count": 14
  },
  {
   "metadata": {
    "ExecuteTime": {
     "end_time": "2025-10-26T11:44:13.003947Z",
     "start_time": "2025-10-26T11:44:12.990477Z"
    }
   },
   "cell_type": "code",
   "source": [
    "t1 = df.shape[0]\n",
    "df = df.loc[~(df[\"resume_total_experience\"].isna()\n",
    "        & df[\"resume_last_experience_description\"].notna()\n",
    "        & df[\"resume_last_position\"].notna())]\n",
    "t2 = df.shape[0]\n",
    "print('Удалено ', t1 - t2 ,' строк')"
   ],
   "id": "decca4edf02a1f3f",
   "outputs": [
    {
     "name": "stdout",
     "output_type": "stream",
     "text": [
      "Удалено  0  строк\n"
     ]
    }
   ],
   "execution_count": 15
  },
  {
   "metadata": {},
   "cell_type": "markdown",
   "source": [
    "<div style=\"background-color: #98FB98; color: black; padding: 10px; border-radius: 5px;\">\n",
    "Посмотрим на пропуски отдельно по категориальным и числовым признакам.\n",
    "</div>"
   ],
   "id": "a6ccf7035f50ad5d"
  },
  {
   "metadata": {},
   "cell_type": "markdown",
   "source": [
    "<div style=\"background-color: #98FB98; color: black; padding: 10px; border-radius: 5px;\">\n",
    "Преобразуем сначала ожидаемые зарплаты\n",
    "</div>"
   ],
   "id": "ef2f06bf8a8bf1a7"
  },
  {
   "metadata": {
    "ExecuteTime": {
     "end_time": "2025-10-26T11:44:13.021726Z",
     "start_time": "2025-10-26T11:44:13.013564Z"
    }
   },
   "cell_type": "code",
   "source": [
    "num_cols = df.select_dtypes(include=[np.number]).columns\n",
    "cat_cols = df.select_dtypes(include=['object']).columns"
   ],
   "id": "5f46ea1e6df231b2",
   "outputs": [],
   "execution_count": 16
  },
  {
   "metadata": {
    "ExecuteTime": {
     "end_time": "2025-10-26T11:44:13.081599Z",
     "start_time": "2025-10-26T11:44:13.025402Z"
    }
   },
   "cell_type": "code",
   "source": "df[cat_cols] = df[cat_cols].fillna('NDT')",
   "id": "ec973d368d74484c",
   "outputs": [],
   "execution_count": 17
  },
  {
   "metadata": {
    "ExecuteTime": {
     "end_time": "2025-10-26T11:44:13.089944Z",
     "start_time": "2025-10-26T11:44:13.086881Z"
    }
   },
   "cell_type": "code",
   "source": "df.loc[df['resume_experience_months'].isna(), 'resume_last_experience_description'].unique()",
   "id": "f6796599347719c5",
   "outputs": [
    {
     "data": {
      "text/plain": [
       "array(['NDT'], dtype=object)"
      ]
     },
     "execution_count": 18,
     "metadata": {},
     "output_type": "execute_result"
    }
   ],
   "execution_count": 18
  },
  {
   "cell_type": "code",
   "id": "01367ac5-0d43-4c5e-a500-3e0b4c0c85f8",
   "metadata": {
    "ExecuteTime": {
     "end_time": "2025-10-26T11:44:13.102941Z",
     "start_time": "2025-10-26T11:44:13.099907Z"
    }
   },
   "source": [
    "df['resume_age'] = df['resume_age'].fillna(df['resume_age'].mean())\n",
    "df['resume_experience_months'] = df['resume_experience_months'].fillna(0)"
   ],
   "outputs": [],
   "execution_count": 19
  },
  {
   "cell_type": "code",
   "id": "d5932181-4a44-45d5-aa9e-df8d3104e762",
   "metadata": {
    "ExecuteTime": {
     "end_time": "2025-10-26T11:44:13.122030Z",
     "start_time": "2025-10-26T11:44:13.111917Z"
    }
   },
   "source": [
    "df = df.drop(['vacancy_id', 'resume_id', 'vacancy_salary_to', 'vacancy_salary_from',\n",
    "              'vacancy_salary_currency', 'vacancy_salary_gross'], axis=1)"
   ],
   "outputs": [],
   "execution_count": 20
  },
  {
   "cell_type": "code",
   "id": "d8775a20-a963-445c-8fbf-7c211eff7866",
   "metadata": {
    "ExecuteTime": {
     "end_time": "2025-10-26T11:44:13.131228Z",
     "start_time": "2025-10-26T11:44:13.127026Z"
    }
   },
   "source": [
    "df.loc[df['resume_last_company_experience_period'] == 'NDT', 'resume_last_experience_description'].unique()"
   ],
   "outputs": [
    {
     "data": {
      "text/plain": [
       "array(['NDT'], dtype=object)"
      ]
     },
     "execution_count": 21,
     "metadata": {},
     "output_type": "execute_result"
    }
   ],
   "execution_count": 21
  },
  {
   "metadata": {},
   "cell_type": "markdown",
   "source": [
    "<div style=\"background-color: #98FB98; color: black; padding: 10px; border-radius: 5px;\">\n",
    "Преобразуем сначала ожидаемые зарплаты\n",
    "</div>"
   ],
   "id": "e93d362af7e166d8"
  },
  {
   "metadata": {
    "ExecuteTime": {
     "end_time": "2025-10-26T11:44:13.308470Z",
     "start_time": "2025-10-26T11:44:13.139444Z"
    }
   },
   "cell_type": "code",
   "source": [
    "df['resume_salary_split'] = df['resume_salary'].apply(lambda x: x.split())\n",
    "\n",
    "df['salary_int'] = df['resume_salary_split'].apply(\n",
    "    lambda x: int(''.join(part for part in x if re.fullmatch(r'\\d+', part)))\n",
    "              if any(re.fullmatch(r'\\d+', part) for part in x)\n",
    "              else np.nan\n",
    ")\n",
    "\n",
    "currency_symbols = ['₽', '$', '€', '₴', '₸', '₼', '₾', 'Br', \"so'm\"]\n",
    "\n",
    "rates_rub = {\n",
    "    \"₽\": 1.0,\n",
    "    \"$\": 80.85,\n",
    "    \"€\": 94.14,\n",
    "    \"₴\": 1.94,\n",
    "    \"₸\": 0.150,\n",
    "    \"₼\": 47.8,\n",
    "    \"₾\": 33.5,\n",
    "    \"Br\": 28.7,\n",
    "    \"so'm\": 0.0068\n",
    "}\n",
    "\n",
    "df['currency_symbol'] = df['resume_salary_split'].apply(\n",
    "    lambda x: next((sym for sym in x if sym in currency_symbols), np.nan)\n",
    ")\n",
    "\n",
    "df['salary_converted'] = (df['salary_int'] * df['currency_symbol'].map(rates_rub)).fillna(0)\n",
    "\n",
    "df['resume_salary'] = df['salary_converted']\n",
    "\n",
    "df = df.drop(['resume_salary_split', 'salary_int', 'currency_symbol', 'salary_converted'], axis=1)"
   ],
   "id": "9842b73e38cb4c1b",
   "outputs": [],
   "execution_count": 22
  },
  {
   "metadata": {
    "ExecuteTime": {
     "end_time": "2025-10-22T20:36:09.188944Z",
     "start_time": "2025-10-22T20:36:09.184911Z"
    }
   },
   "cell_type": "markdown",
   "source": [
    "<div style=\"background-color: #98FB98; color: black; padding: 10px; border-radius: 5px;\">\n",
    "Добавим дополнительный столбец с опытом работы в последней компании в месяцах для удобства\n",
    "</div>"
   ],
   "id": "76e5185202a3e2b8"
  },
  {
   "metadata": {
    "ExecuteTime": {
     "end_time": "2025-10-26T11:44:13.314972Z",
     "start_time": "2025-10-26T11:44:13.312814Z"
    }
   },
   "cell_type": "code",
   "source": [
    "def experience_to_months(experience_text):\n",
    "    months = 0\n",
    "    # Опыт в годах\n",
    "    years_match = re.search(r'(\\d+)\\s*год', experience_text)\n",
    "    if years_match:\n",
    "        months += int(years_match.group(1)) * 12\n",
    "\n",
    "    years_match = re.search(r'(\\d+)\\s*лет', experience_text)\n",
    "    if years_match:\n",
    "        months += int(years_match.group(1)) * 12\n",
    "\n",
    "    # Опыт в месяцах\n",
    "    months_match = re.search(r'(\\d+)\\s*месяц', experience_text)\n",
    "    if months_match:\n",
    "        months += int(months_match.group(1))\n",
    "\n",
    "    return months if months > 0 else np.nan"
   ],
   "id": "37f8c4654b498bd6",
   "outputs": [],
   "execution_count": 23
  },
  {
   "metadata": {
    "ExecuteTime": {
     "end_time": "2025-10-26T11:44:13.401725Z",
     "start_time": "2025-10-26T11:44:13.318491Z"
    }
   },
   "cell_type": "code",
   "source": "df['resume_last_company_experience_months'] = df['resume_last_company_experience_period'].apply(experience_to_months)",
   "id": "69341290f33d2e32",
   "outputs": [],
   "execution_count": 24
  },
  {
   "cell_type": "markdown",
   "id": "35f5e8bf-31bf-40dc-8977-f56e68958b0c",
   "metadata": {},
   "source": [
    "<div style=\"background-color: #98FB98; color: black; padding: 10px; border-radius: 5px;\">\n",
    "Т.к. в названии компании стоит NDT, можно столбец resume_last_company_experience_months заполнять нулевыми значениями.\n",
    "</div>"
   ]
  },
  {
   "cell_type": "code",
   "id": "eb951b98-e3e8-45b3-94ac-3774cb520f2e",
   "metadata": {
    "ExecuteTime": {
     "end_time": "2025-10-26T11:44:13.407215Z",
     "start_time": "2025-10-26T11:44:13.405176Z"
    }
   },
   "source": [
    "df['resume_last_company_experience_months'] = df['resume_last_company_experience_months'].fillna(0)"
   ],
   "outputs": [],
   "execution_count": 25
  },
  {
   "metadata": {},
   "cell_type": "code",
   "outputs": [],
   "execution_count": null,
   "source": "df = df.drop(['resume_last_company_experience_period', 'resume_total_experience'], axis=1)",
   "id": "ffc1fdaa48ca5d31"
  },
  {
   "metadata": {
    "ExecuteTime": {
     "end_time": "2025-10-26T11:44:13.429944Z",
     "start_time": "2025-10-26T11:44:13.411629Z"
    }
   },
   "cell_type": "code",
   "source": "print('Разряженность датасета: ', round(df.isnull().sum().sum() / (df.shape[0] * df.shape[1]), 4) * 100, '%')",
   "id": "bc83f7eb8d98d38a",
   "outputs": [
    {
     "name": "stdout",
     "output_type": "stream",
     "text": [
      "Разряженность датасета:  0.0 %\n"
     ]
    }
   ],
   "execution_count": 26
  },
  {
   "metadata": {},
   "cell_type": "markdown",
   "source": [
    "<div style=\"background-color: #98FB98; color: black; padding: 10px; border-radius: 5px;\">\n",
    "Отлично! Пропущенные значения в датасете мы заполнили. Перейдем к следующему этапу, необходимо разобраться с выбросами и ошибочными значениями.\n",
    "</div>"
   ],
   "id": "3e75f0f0ab0a68b"
  },
  {
   "metadata": {
    "ExecuteTime": {
     "end_time": "2025-10-26T11:44:13.529950Z",
     "start_time": "2025-10-26T11:44:13.455078Z"
    }
   },
   "cell_type": "code",
   "source": "df.describe(include='all').T",
   "id": "7dc96e01a830f19b",
   "outputs": [
    {
     "data": {
      "text/plain": [
       "                                         count unique  \\\n",
       "vacancy_name                             59357   2720   \n",
       "vacancy_area                             59357     23   \n",
       "vacancy_experience                       59357      4   \n",
       "vacancy_employment                       59357      3   \n",
       "vacancy_schedule                         59357      5   \n",
       "vacancy_description                      59357   3382   \n",
       "resume_title                             59357  10810   \n",
       "resume_specialization                    59357   1687   \n",
       "resume_last_position                     59357  10307   \n",
       "resume_last_experience_description       59357  16826   \n",
       "resume_skills                            59357  10886   \n",
       "resume_education                         59357  12298   \n",
       "resume_courses                           59357   7022   \n",
       "resume_salary                          59357.0    NaN   \n",
       "resume_age                             59357.0    NaN   \n",
       "resume_experience_months               59357.0    NaN   \n",
       "resume_location                          59357    573   \n",
       "resume_gender                            59357      7   \n",
       "resume_applicant_status                  59357      4   \n",
       "target                                 59357.0    NaN   \n",
       "resume_last_company_experience_months  59357.0    NaN   \n",
       "\n",
       "                                                                                     top  \\\n",
       "vacancy_name                                                              DevOps-инженер   \n",
       "vacancy_area                                                                      Москва   \n",
       "vacancy_experience                                                         От 3 до 6 лет   \n",
       "vacancy_employment                                                      Полная занятость   \n",
       "vacancy_schedule                                                        Удаленная работа   \n",
       "vacancy_description                    ООО «Исратэк» — 30 лет в производстве самоклея...   \n",
       "resume_title                                                        Технический директор   \n",
       "resume_specialization                                       ['Программист, разработчик']   \n",
       "resume_last_position                                                Технический директор   \n",
       "resume_last_experience_description                                                   NDT   \n",
       "resume_skills                                                                        NDT   \n",
       "resume_education                                                                     NDT   \n",
       "resume_courses                                                                       NDT   \n",
       "resume_salary                                                                        NaN   \n",
       "resume_age                                                                           NaN   \n",
       "resume_experience_months                                                             NaN   \n",
       "resume_location                                                                   Москва   \n",
       "resume_gender                                                                    Мужчина   \n",
       "resume_applicant_status                                                              NDT   \n",
       "target                                                                               NaN   \n",
       "resume_last_company_experience_months                                                NaN   \n",
       "\n",
       "                                        freq           mean             std  \\\n",
       "vacancy_name                            1534            NaN             NaN   \n",
       "vacancy_area                           58590            NaN             NaN   \n",
       "vacancy_experience                     32092            NaN             NaN   \n",
       "vacancy_employment                     57574            NaN             NaN   \n",
       "vacancy_schedule                       29855            NaN             NaN   \n",
       "vacancy_description                       98            NaN             NaN   \n",
       "resume_title                            1376            NaN             NaN   \n",
       "resume_specialization                  14365            NaN             NaN   \n",
       "resume_last_position                    2012            NaN             NaN   \n",
       "resume_last_experience_description       956            NaN             NaN   \n",
       "resume_skills                          14884            NaN             NaN   \n",
       "resume_education                        1268            NaN             NaN   \n",
       "resume_courses                         35647            NaN             NaN   \n",
       "resume_salary                            NaN  193824.215963  3151865.757176   \n",
       "resume_age                               NaN      41.979453       21.826236   \n",
       "resume_experience_months                 NaN       192.0451      117.254666   \n",
       "resume_location                        41874            NaN             NaN   \n",
       "resume_gender                          45951            NaN             NaN   \n",
       "resume_applicant_status                40020            NaN             NaN   \n",
       "target                                   NaN       0.428778        0.494906   \n",
       "resume_last_company_experience_months    NaN      76.505147       84.133337   \n",
       "\n",
       "                                        min   25%      50%       75%  \\\n",
       "vacancy_name                            NaN   NaN      NaN       NaN   \n",
       "vacancy_area                            NaN   NaN      NaN       NaN   \n",
       "vacancy_experience                      NaN   NaN      NaN       NaN   \n",
       "vacancy_employment                      NaN   NaN      NaN       NaN   \n",
       "vacancy_schedule                        NaN   NaN      NaN       NaN   \n",
       "vacancy_description                     NaN   NaN      NaN       NaN   \n",
       "resume_title                            NaN   NaN      NaN       NaN   \n",
       "resume_specialization                   NaN   NaN      NaN       NaN   \n",
       "resume_last_position                    NaN   NaN      NaN       NaN   \n",
       "resume_last_experience_description      NaN   NaN      NaN       NaN   \n",
       "resume_skills                           NaN   NaN      NaN       NaN   \n",
       "resume_education                        NaN   NaN      NaN       NaN   \n",
       "resume_courses                          NaN   NaN      NaN       NaN   \n",
       "resume_salary                           0.0   0.0  40425.0  150000.0   \n",
       "resume_age                             19.0  34.0     41.0      48.0   \n",
       "resume_experience_months                0.0  94.0    188.0     268.0   \n",
       "resume_location                         NaN   NaN      NaN       NaN   \n",
       "resume_gender                           NaN   NaN      NaN       NaN   \n",
       "resume_applicant_status                 NaN   NaN      NaN       NaN   \n",
       "target                                  0.0   0.0      0.0       1.0   \n",
       "resume_last_company_experience_months   0.0  12.0     47.0     122.0   \n",
       "\n",
       "                                              max  \n",
       "vacancy_name                                  NaN  \n",
       "vacancy_area                                  NaN  \n",
       "vacancy_experience                            NaN  \n",
       "vacancy_employment                            NaN  \n",
       "vacancy_schedule                              NaN  \n",
       "vacancy_description                           NaN  \n",
       "resume_title                                  NaN  \n",
       "resume_specialization                         NaN  \n",
       "resume_last_position                          NaN  \n",
       "resume_last_experience_description            NaN  \n",
       "resume_skills                                 NaN  \n",
       "resume_education                              NaN  \n",
       "resume_courses                                NaN  \n",
       "resume_salary                          99999999.0  \n",
       "resume_age                                 1967.0  \n",
       "resume_experience_months                   1354.0  \n",
       "resume_location                               NaN  \n",
       "resume_gender                                 NaN  \n",
       "resume_applicant_status                       NaN  \n",
       "target                                        1.0  \n",
       "resume_last_company_experience_months       751.0  "
      ],
      "text/html": [
       "<div>\n",
       "<style scoped>\n",
       "    .dataframe tbody tr th:only-of-type {\n",
       "        vertical-align: middle;\n",
       "    }\n",
       "\n",
       "    .dataframe tbody tr th {\n",
       "        vertical-align: top;\n",
       "    }\n",
       "\n",
       "    .dataframe thead th {\n",
       "        text-align: right;\n",
       "    }\n",
       "</style>\n",
       "<table border=\"1\" class=\"dataframe\">\n",
       "  <thead>\n",
       "    <tr style=\"text-align: right;\">\n",
       "      <th></th>\n",
       "      <th>count</th>\n",
       "      <th>unique</th>\n",
       "      <th>top</th>\n",
       "      <th>freq</th>\n",
       "      <th>mean</th>\n",
       "      <th>std</th>\n",
       "      <th>min</th>\n",
       "      <th>25%</th>\n",
       "      <th>50%</th>\n",
       "      <th>75%</th>\n",
       "      <th>max</th>\n",
       "    </tr>\n",
       "  </thead>\n",
       "  <tbody>\n",
       "    <tr>\n",
       "      <th>vacancy_name</th>\n",
       "      <td>59357</td>\n",
       "      <td>2720</td>\n",
       "      <td>DevOps-инженер</td>\n",
       "      <td>1534</td>\n",
       "      <td>NaN</td>\n",
       "      <td>NaN</td>\n",
       "      <td>NaN</td>\n",
       "      <td>NaN</td>\n",
       "      <td>NaN</td>\n",
       "      <td>NaN</td>\n",
       "      <td>NaN</td>\n",
       "    </tr>\n",
       "    <tr>\n",
       "      <th>vacancy_area</th>\n",
       "      <td>59357</td>\n",
       "      <td>23</td>\n",
       "      <td>Москва</td>\n",
       "      <td>58590</td>\n",
       "      <td>NaN</td>\n",
       "      <td>NaN</td>\n",
       "      <td>NaN</td>\n",
       "      <td>NaN</td>\n",
       "      <td>NaN</td>\n",
       "      <td>NaN</td>\n",
       "      <td>NaN</td>\n",
       "    </tr>\n",
       "    <tr>\n",
       "      <th>vacancy_experience</th>\n",
       "      <td>59357</td>\n",
       "      <td>4</td>\n",
       "      <td>От 3 до 6 лет</td>\n",
       "      <td>32092</td>\n",
       "      <td>NaN</td>\n",
       "      <td>NaN</td>\n",
       "      <td>NaN</td>\n",
       "      <td>NaN</td>\n",
       "      <td>NaN</td>\n",
       "      <td>NaN</td>\n",
       "      <td>NaN</td>\n",
       "    </tr>\n",
       "    <tr>\n",
       "      <th>vacancy_employment</th>\n",
       "      <td>59357</td>\n",
       "      <td>3</td>\n",
       "      <td>Полная занятость</td>\n",
       "      <td>57574</td>\n",
       "      <td>NaN</td>\n",
       "      <td>NaN</td>\n",
       "      <td>NaN</td>\n",
       "      <td>NaN</td>\n",
       "      <td>NaN</td>\n",
       "      <td>NaN</td>\n",
       "      <td>NaN</td>\n",
       "    </tr>\n",
       "    <tr>\n",
       "      <th>vacancy_schedule</th>\n",
       "      <td>59357</td>\n",
       "      <td>5</td>\n",
       "      <td>Удаленная работа</td>\n",
       "      <td>29855</td>\n",
       "      <td>NaN</td>\n",
       "      <td>NaN</td>\n",
       "      <td>NaN</td>\n",
       "      <td>NaN</td>\n",
       "      <td>NaN</td>\n",
       "      <td>NaN</td>\n",
       "      <td>NaN</td>\n",
       "    </tr>\n",
       "    <tr>\n",
       "      <th>vacancy_description</th>\n",
       "      <td>59357</td>\n",
       "      <td>3382</td>\n",
       "      <td>ООО «Исратэк» — 30 лет в производстве самоклея...</td>\n",
       "      <td>98</td>\n",
       "      <td>NaN</td>\n",
       "      <td>NaN</td>\n",
       "      <td>NaN</td>\n",
       "      <td>NaN</td>\n",
       "      <td>NaN</td>\n",
       "      <td>NaN</td>\n",
       "      <td>NaN</td>\n",
       "    </tr>\n",
       "    <tr>\n",
       "      <th>resume_title</th>\n",
       "      <td>59357</td>\n",
       "      <td>10810</td>\n",
       "      <td>Технический директор</td>\n",
       "      <td>1376</td>\n",
       "      <td>NaN</td>\n",
       "      <td>NaN</td>\n",
       "      <td>NaN</td>\n",
       "      <td>NaN</td>\n",
       "      <td>NaN</td>\n",
       "      <td>NaN</td>\n",
       "      <td>NaN</td>\n",
       "    </tr>\n",
       "    <tr>\n",
       "      <th>resume_specialization</th>\n",
       "      <td>59357</td>\n",
       "      <td>1687</td>\n",
       "      <td>['Программист, разработчик']</td>\n",
       "      <td>14365</td>\n",
       "      <td>NaN</td>\n",
       "      <td>NaN</td>\n",
       "      <td>NaN</td>\n",
       "      <td>NaN</td>\n",
       "      <td>NaN</td>\n",
       "      <td>NaN</td>\n",
       "      <td>NaN</td>\n",
       "    </tr>\n",
       "    <tr>\n",
       "      <th>resume_last_position</th>\n",
       "      <td>59357</td>\n",
       "      <td>10307</td>\n",
       "      <td>Технический директор</td>\n",
       "      <td>2012</td>\n",
       "      <td>NaN</td>\n",
       "      <td>NaN</td>\n",
       "      <td>NaN</td>\n",
       "      <td>NaN</td>\n",
       "      <td>NaN</td>\n",
       "      <td>NaN</td>\n",
       "      <td>NaN</td>\n",
       "    </tr>\n",
       "    <tr>\n",
       "      <th>resume_last_experience_description</th>\n",
       "      <td>59357</td>\n",
       "      <td>16826</td>\n",
       "      <td>NDT</td>\n",
       "      <td>956</td>\n",
       "      <td>NaN</td>\n",
       "      <td>NaN</td>\n",
       "      <td>NaN</td>\n",
       "      <td>NaN</td>\n",
       "      <td>NaN</td>\n",
       "      <td>NaN</td>\n",
       "      <td>NaN</td>\n",
       "    </tr>\n",
       "    <tr>\n",
       "      <th>resume_skills</th>\n",
       "      <td>59357</td>\n",
       "      <td>10886</td>\n",
       "      <td>NDT</td>\n",
       "      <td>14884</td>\n",
       "      <td>NaN</td>\n",
       "      <td>NaN</td>\n",
       "      <td>NaN</td>\n",
       "      <td>NaN</td>\n",
       "      <td>NaN</td>\n",
       "      <td>NaN</td>\n",
       "      <td>NaN</td>\n",
       "    </tr>\n",
       "    <tr>\n",
       "      <th>resume_education</th>\n",
       "      <td>59357</td>\n",
       "      <td>12298</td>\n",
       "      <td>NDT</td>\n",
       "      <td>1268</td>\n",
       "      <td>NaN</td>\n",
       "      <td>NaN</td>\n",
       "      <td>NaN</td>\n",
       "      <td>NaN</td>\n",
       "      <td>NaN</td>\n",
       "      <td>NaN</td>\n",
       "      <td>NaN</td>\n",
       "    </tr>\n",
       "    <tr>\n",
       "      <th>resume_courses</th>\n",
       "      <td>59357</td>\n",
       "      <td>7022</td>\n",
       "      <td>NDT</td>\n",
       "      <td>35647</td>\n",
       "      <td>NaN</td>\n",
       "      <td>NaN</td>\n",
       "      <td>NaN</td>\n",
       "      <td>NaN</td>\n",
       "      <td>NaN</td>\n",
       "      <td>NaN</td>\n",
       "      <td>NaN</td>\n",
       "    </tr>\n",
       "    <tr>\n",
       "      <th>resume_salary</th>\n",
       "      <td>59357.0</td>\n",
       "      <td>NaN</td>\n",
       "      <td>NaN</td>\n",
       "      <td>NaN</td>\n",
       "      <td>193824.215963</td>\n",
       "      <td>3151865.757176</td>\n",
       "      <td>0.0</td>\n",
       "      <td>0.0</td>\n",
       "      <td>40425.0</td>\n",
       "      <td>150000.0</td>\n",
       "      <td>99999999.0</td>\n",
       "    </tr>\n",
       "    <tr>\n",
       "      <th>resume_age</th>\n",
       "      <td>59357.0</td>\n",
       "      <td>NaN</td>\n",
       "      <td>NaN</td>\n",
       "      <td>NaN</td>\n",
       "      <td>41.979453</td>\n",
       "      <td>21.826236</td>\n",
       "      <td>19.0</td>\n",
       "      <td>34.0</td>\n",
       "      <td>41.0</td>\n",
       "      <td>48.0</td>\n",
       "      <td>1967.0</td>\n",
       "    </tr>\n",
       "    <tr>\n",
       "      <th>resume_experience_months</th>\n",
       "      <td>59357.0</td>\n",
       "      <td>NaN</td>\n",
       "      <td>NaN</td>\n",
       "      <td>NaN</td>\n",
       "      <td>192.0451</td>\n",
       "      <td>117.254666</td>\n",
       "      <td>0.0</td>\n",
       "      <td>94.0</td>\n",
       "      <td>188.0</td>\n",
       "      <td>268.0</td>\n",
       "      <td>1354.0</td>\n",
       "    </tr>\n",
       "    <tr>\n",
       "      <th>resume_location</th>\n",
       "      <td>59357</td>\n",
       "      <td>573</td>\n",
       "      <td>Москва</td>\n",
       "      <td>41874</td>\n",
       "      <td>NaN</td>\n",
       "      <td>NaN</td>\n",
       "      <td>NaN</td>\n",
       "      <td>NaN</td>\n",
       "      <td>NaN</td>\n",
       "      <td>NaN</td>\n",
       "      <td>NaN</td>\n",
       "    </tr>\n",
       "    <tr>\n",
       "      <th>resume_gender</th>\n",
       "      <td>59357</td>\n",
       "      <td>7</td>\n",
       "      <td>Мужчина</td>\n",
       "      <td>45951</td>\n",
       "      <td>NaN</td>\n",
       "      <td>NaN</td>\n",
       "      <td>NaN</td>\n",
       "      <td>NaN</td>\n",
       "      <td>NaN</td>\n",
       "      <td>NaN</td>\n",
       "      <td>NaN</td>\n",
       "    </tr>\n",
       "    <tr>\n",
       "      <th>resume_applicant_status</th>\n",
       "      <td>59357</td>\n",
       "      <td>4</td>\n",
       "      <td>NDT</td>\n",
       "      <td>40020</td>\n",
       "      <td>NaN</td>\n",
       "      <td>NaN</td>\n",
       "      <td>NaN</td>\n",
       "      <td>NaN</td>\n",
       "      <td>NaN</td>\n",
       "      <td>NaN</td>\n",
       "      <td>NaN</td>\n",
       "    </tr>\n",
       "    <tr>\n",
       "      <th>target</th>\n",
       "      <td>59357.0</td>\n",
       "      <td>NaN</td>\n",
       "      <td>NaN</td>\n",
       "      <td>NaN</td>\n",
       "      <td>0.428778</td>\n",
       "      <td>0.494906</td>\n",
       "      <td>0.0</td>\n",
       "      <td>0.0</td>\n",
       "      <td>0.0</td>\n",
       "      <td>1.0</td>\n",
       "      <td>1.0</td>\n",
       "    </tr>\n",
       "    <tr>\n",
       "      <th>resume_last_company_experience_months</th>\n",
       "      <td>59357.0</td>\n",
       "      <td>NaN</td>\n",
       "      <td>NaN</td>\n",
       "      <td>NaN</td>\n",
       "      <td>76.505147</td>\n",
       "      <td>84.133337</td>\n",
       "      <td>0.0</td>\n",
       "      <td>12.0</td>\n",
       "      <td>47.0</td>\n",
       "      <td>122.0</td>\n",
       "      <td>751.0</td>\n",
       "    </tr>\n",
       "  </tbody>\n",
       "</table>\n",
       "</div>"
      ]
     },
     "execution_count": 28,
     "metadata": {},
     "output_type": "execute_result"
    }
   ],
   "execution_count": 28
  },
  {
   "metadata": {
    "ExecuteTime": {
     "end_time": "2025-10-26T11:44:13.869886Z",
     "start_time": "2025-10-26T11:44:13.556919Z"
    }
   },
   "cell_type": "code",
   "source": "df.hist(bins=20, figsize=(15, 9))",
   "id": "3e91adb52b5541d4",
   "outputs": [
    {
     "data": {
      "text/plain": [
       "array([[<Axes: title={'center': 'resume_salary'}>,\n",
       "        <Axes: title={'center': 'resume_age'}>],\n",
       "       [<Axes: title={'center': 'resume_experience_months'}>,\n",
       "        <Axes: title={'center': 'target'}>],\n",
       "       [<Axes: title={'center': 'resume_last_company_experience_months'}>,\n",
       "        <Axes: >]], dtype=object)"
      ]
     },
     "execution_count": 29,
     "metadata": {},
     "output_type": "execute_result"
    },
    {
     "data": {
      "text/plain": [
       "<Figure size 1500x900 with 6 Axes>"
      ],
      "image/png": "[encoded data removed]"
     },
     "metadata": {},
     "output_type": "display_data",
     "jetTransient": {
      "display_id": null
     }
    }
   ],
   "execution_count": 29
  },
  {
   "metadata": {
    "ExecuteTime": {
     "end_time": "2025-10-25T16:29:32.024825Z",
     "start_time": "2025-10-25T16:29:32.020776Z"
    }
   },
   "cell_type": "markdown",
   "source": [
    "<div style=\"background-color: #98FB98; color: black; padding: 10px; border-radius: 5px;\">\n",
    "\n",
    "- Ограничим выбросы по зарплате, потому что ровно одно значение по ожидаемой заработоной плате = 999,999,999 (смешно, но нет)\n",
    "\n",
    "- Ограничим опыт общий и внутри одной компании до 720 месяцев (60 лет, ничего себе уже)\n",
    "\n",
    "- Уберем возраст > 90, не ждем, что эти кандидаты находятся в поиске вакансии\n",
    "</div>"
   ],
   "id": "8602a7f09db51e43"
  },
  {
   "metadata": {
    "ExecuteTime": {
     "end_time": "2025-10-26T11:44:13.943386Z",
     "start_time": "2025-10-26T11:44:13.924637Z"
    }
   },
   "cell_type": "code",
   "source": [
    "df = df[~(df.resume_salary > 1e7)]\n",
    "df.loc[df['resume_experience_months'] > 720, 'resume_experience_months'] = 720\n",
    "df.loc[df['resume_last_company_experience_months'] > 720, 'resume_last_company_experience_months'] = 720\n",
    "df = df[~(df.resume_age > 90)]"
   ],
   "id": "b36527d21cebb1a8",
   "outputs": [],
   "execution_count": 30
  },
  {
   "metadata": {
    "ExecuteTime": {
     "end_time": "2025-10-26T12:31:11.665424Z",
     "start_time": "2025-10-26T12:31:11.662665Z"
    }
   },
   "cell_type": "markdown",
   "source": [
    "\n",
    "\n",
    "<div style=\"background-color: #98FB98; color: black; padding: 10px; border-radius: 5px;\">\n",
    "\n",
    "- Также уберем строки, где последний опыт кандидата больше, чем общий\n",
    "\n",
    "- И где общий опыт кандидата +16 лет больше чем возраст (хоть так)\n",
    "\n",
    "</div>"
   ],
   "id": "b9b027b618a0748e"
  },
  {
   "metadata": {
    "ExecuteTime": {
     "end_time": "2025-10-26T12:37:15.606372Z",
     "start_time": "2025-10-26T12:37:15.583663Z"
    }
   },
   "cell_type": "code",
   "source": [
    "df = df[~(df.resume_experience_months < df.resume_last_company_experience_months)]\n",
    "df = df[~(df.resume_age < (df.resume_experience_months // 12) + 16)]"
   ],
   "id": "986324f3577f0491",
   "outputs": [],
   "execution_count": 80
  },
  {
   "metadata": {
    "ExecuteTime": {
     "end_time": "2025-10-26T11:44:14.231335Z",
     "start_time": "2025-10-26T11:44:13.952703Z"
    }
   },
   "cell_type": "code",
   "source": "df.hist(bins=20, figsize=(15, 9))",
   "id": "4d1be84faf01f1bf",
   "outputs": [
    {
     "data": {
      "text/plain": [
       "array([[<Axes: title={'center': 'resume_salary'}>,\n",
       "        <Axes: title={'center': 'resume_age'}>],\n",
       "       [<Axes: title={'center': 'resume_experience_months'}>,\n",
       "        <Axes: title={'center': 'target'}>],\n",
       "       [<Axes: title={'center': 'resume_last_company_experience_months'}>,\n",
       "        <Axes: >]], dtype=object)"
      ]
     },
     "execution_count": 31,
     "metadata": {},
     "output_type": "execute_result"
    },
    {
     "data": {
      "text/plain": [
       "<Figure size 1500x900 with 6 Axes>"
      ],
      "image/png": "[encoded data removed]"
     },
     "metadata": {},
     "output_type": "display_data",
     "jetTransient": {
      "display_id": null
     }
    }
   ],
   "execution_count": 31
  },
  {
   "metadata": {},
   "cell_type": "markdown",
   "source": [
    "<div style=\"background-color: #98FB98; color: black; padding: 10px; border-radius: 5px;\">\n",
    "Теперь приведем остальные значения в датасете к порядку:\n",
    "</div>"
   ],
   "id": "b0c231408207ae0c"
  },
  {
   "metadata": {
    "ExecuteTime": {
     "end_time": "2025-10-26T11:44:14.263136Z",
     "start_time": "2025-10-26T11:44:14.256899Z"
    }
   },
   "cell_type": "code",
   "source": [
    "# Заменим текущий формат разброса полов в датасете на унифицированный:\n",
    "\n",
    "gender_map = {\n",
    "    'Мужчина': 'Мужчина',\n",
    "    'Male': 'Мужчина',\n",
    "    'Женщина': 'Женщина',\n",
    "    'Female': 'Женщина'\n",
    "}\n",
    "\n",
    "df['resume_gender'] = df['resume_gender'].apply(lambda x: gender_map[x] if x in gender_map else 'Неизвестно')"
   ],
   "id": "86100c6c49ec952",
   "outputs": [],
   "execution_count": 32
  },
  {
   "metadata": {
    "ExecuteTime": {
     "end_time": "2025-10-26T11:44:14.272618Z",
     "start_time": "2025-10-26T11:44:14.266605Z"
    }
   },
   "cell_type": "code",
   "source": [
    "# Поправим значения статуса кандидатов:\n",
    "\n",
    "df[\"resume_applicant_status\"] = df[\"resume_applicant_status\"].replace(\"Есть подтверждённые навыки\", \"Рассматривает предложения\")\n",
    "df[\"resume_applicant_status\"] = df[\"resume_applicant_status\"].replace(\"NDT\", \"Рассматривает предложения\")"
   ],
   "id": "f8327ac3622d0487",
   "outputs": [],
   "execution_count": 33
  },
  {
   "metadata": {},
   "cell_type": "markdown",
   "source": [
    "<div style=\"background-color: #98FB98; color: black; padding: 10px; border-radius: 5px;\">\n",
    "\n",
    "Теперь, когда мы привели данные к нужному виду, избавились от пропусков и выбросов в данных, проверили датасет на ошибки, можно приступить к изучению влияния признаков на целевую переменную:\n",
    "\n",
    "</div>"
   ],
   "id": "145a70aed2ad607b"
  },
  {
   "metadata": {
    "ExecuteTime": {
     "end_time": "2025-10-26T12:36:18.387570Z",
     "start_time": "2025-10-26T12:36:03.768965Z"
    }
   },
   "cell_type": "code",
   "source": "sns.pairplot(df, hue=\"target\", palette=\"magma\")",
   "id": "3605e8014da5c68a",
   "outputs": [
    {
     "data": {
      "text/plain": [
       "<seaborn.axisgrid.PairGrid at 0x33368e640>"
      ]
     },
     "execution_count": 77,
     "metadata": {},
     "output_type": "execute_result"
    },
    {
     "data": {
      "text/plain": [
       "<Figure size 1057.75x1000 with 20 Axes>"
      ],
      "image/png": "[encoded data removed]"
     },
     "metadata": {},
     "output_type": "display_data",
     "jetTransient": {
      "display_id": null
     }
    }
   ],
   "execution_count": 77
  },
  {
   "metadata": {},
   "cell_type": "markdown",
   "source": [
    "<div style=\"background-color: #98FB98; color: black; padding: 10px; border-radius: 5px;\">\n",
    "\n",
    "Будем исследовать сначала количественные признаки\n",
    "\n",
    "Заметим несколько понятных вещей:\n",
    "\n",
    "- возраст кандидата и зарплата имеют колоколообразное распределение, медиана зарплат наступает в среднем возрасте. В начале карьерного опыта кандидаты ожидают получать меньше, чем более опытные кандидаты и кандидаты пенсионного возраста также начинают требовать меньших зарплат с увеличением возраста\n",
    "\n",
    "- Распределение зарплат и всего опыта кандидата имеет похожее распределенеие.\n",
    "\n",
    "- Однако, последние опыт кандидата и его зарплатные ожидания имеют строго отрицательную взаимосвязь. Нужно будет посмотреть, как это связано вкупе с возрастом\n",
    "\n",
    "- Опыт (общий и последний) и возраст строго сонаправлены, что не имеет для нас ценности, убеждаемся еще раз, что ошибок в данных нет)\n",
    "\n",
    "</div>"
   ],
   "id": "88715e9529833af1"
  },
  {
   "metadata": {},
   "cell_type": "markdown",
   "source": [
    "<div style=\"background-color: #98FB98; color: black; padding: 10px; border-radius: 5px;\">\n",
    "\n",
    "Дальнейшее разбиение количественных показателей на Target / Gender / Vacancy experience / Resume applicant status / Resume location\n",
    "не дали каких-то интересных зависимостей\n",
    "\n",
    "Будем дальше рассматривать количественные и качественные признаки более детально\n",
    "\n",
    "</div>"
   ],
   "id": "c6f30ed3b53fce7a"
  },
  {
   "metadata": {},
   "cell_type": "markdown",
   "source": [
    "<div style=\"background-color: #98FB98; color: black; padding: 10px; border-radius: 5px;\">\n",
    "\n",
    "- Изучить поведение каждого признака в отдельности, его связь с целевой переменной, а также попарные корреляции (в т.ч и в особенности с таргетом). Визуализировать попарные распределения признаков (sns.pairplot()) и корреляции наиболее значимых. Построить подходящие сводные таблицы и прочие диаграммы.\n",
    "- Если проведённый вами анализ позволяет сделать какие-либо выводы, запишите их текстом максимально развернуто. Упомяните, как вы планируете задействовать приобретенные вами на этом этапе знания о вашей задаче.\n",
    "</div>"
   ],
   "id": "e891562c4d169bd2"
  },
  {
   "metadata": {
    "ExecuteTime": {
     "end_time": "2025-10-26T06:50:26.242740Z",
     "start_time": "2025-10-26T06:50:26.239013Z"
    }
   },
   "cell_type": "markdown",
   "source": "",
   "id": "c85ed29d3e2b32cf"
  },
  {
   "metadata": {},
   "cell_type": "markdown",
   "source": [
    "<div style=\"background-color: #98FB98; color: black; padding: 10px; border-radius: 5px;\">\n",
    "\n",
    "Построим нужные нам графики и начнем с конца, будем изучать влияния признаков в резюме на принятие и отказ\n",
    "\n",
    "Напомниаю:\n",
    " - target = 1 - кандидата позвали на эту вакансию,\n",
    " - target = 0 - кандидата НЕ позвали на эту вакансию\n",
    "</div>"
   ],
   "id": "5a07d07cd455b4e2"
  },
  {
   "metadata": {
    "ExecuteTime": {
     "end_time": "2025-10-26T11:44:14.278970Z",
     "start_time": "2025-10-26T11:44:14.275611Z"
    }
   },
   "cell_type": "code",
   "source": [
    "def create_bar_chart(df, metric):\n",
    "\n",
    "    t1 = ((df[df.target == 1].groupby([metric]).target.count() /\\\n",
    "          df.groupby([metric]).target.count()) * 100).reset_index()\n",
    "    t1 = t1.merge(df[df.target == 1].groupby([metric]).target.count(), how='left', on = [metric])\n",
    "    t1.rename(columns={'target_x': 1, 'target_y': 'cnt_1'}, inplace=True)\n",
    "\n",
    "    t0 = ((df[df.target == 0].groupby([metric]).target.count() /\\\n",
    "          df.groupby([metric]).target.count()) * 100).reset_index()\n",
    "    t0 = t0.merge(df[df.target == 0].groupby([metric]).target.count(), how='left', on = [metric])\n",
    "    t0.rename(columns={'target_x': 0, 'target_y': 'cnt_0'}, inplace=True)\n",
    "\n",
    "    t = t1.merge(t0, how='left', on = [metric])\n",
    "\n",
    "    fig = go.Figure()\n",
    "\n",
    "    fig.add_trace(go.Bar(\n",
    "        x=t[metric],\n",
    "        y=t[0],\n",
    "        name=\"Target = 0\",\n",
    "        marker_color=\"red\",\n",
    "        text=t[\"cnt_0\"],\n",
    "        textposition=\"none\",\n",
    "        hovertemplate=(\n",
    "            \"Share: %{y:.1f}%<br>\"\n",
    "            \"Count: %{text}\"\n",
    "            \"<extra></extra>\"\n",
    "        )\n",
    "    ))\n",
    "\n",
    "    fig.add_trace(go.Bar(\n",
    "        x=t[metric],\n",
    "        y=t[1],\n",
    "        name=\"Target = 1\",\n",
    "        marker_color=\"blue\",\n",
    "        text=t[\"cnt_1\"],\n",
    "        textposition=\"none\",\n",
    "        hovertemplate=(\n",
    "            \"Share: %{y:.1f}%<br>\"\n",
    "            \"Count: %{text}\"\n",
    "            \"<extra></extra>\"\n",
    "        )\n",
    "    ))\n",
    "\n",
    "    fig.update_layout(\n",
    "        barmode=\"stack\",\n",
    "        title=f\"Распределение целевого признака по {metric}\",\n",
    "        xaxis_title=f\"{metric}\",\n",
    "        yaxis_title=\"%\",\n",
    "        yaxis=dict(range=[0, 100], ticksuffix=\"%\"),\n",
    "        bargap=0,\n",
    "        bargroupgap=0,\n",
    "        legend_title=\"Target\",\n",
    "        plot_bgcolor=\"white\"\n",
    "    )\n",
    "\n",
    "    return fig.show()"
   ],
   "id": "625b84a6c237c632",
   "outputs": [],
   "execution_count": 34
  },
  {
   "metadata": {
    "ExecuteTime": {
     "end_time": "2025-10-26T11:44:14.285510Z",
     "start_time": "2025-10-26T11:44:14.281896Z"
    }
   },
   "cell_type": "code",
   "source": [
    "def create_scatter_chart(df, metric):\n",
    "\n",
    "    t1 = ((df[df.target == 1].groupby([metric]).target.count() /\\\n",
    "          df.groupby([metric]).target.count()) * 100).reset_index()\n",
    "    t1 = t1.merge(df[df.target == 1].groupby([metric]).target.count(), how='left', on = [metric])\n",
    "    t1.rename(columns={'target_x': 1, 'target_y': 'cnt_1'}, inplace=True)\n",
    "\n",
    "    t0 = ((df[df.target == 0].groupby([metric]).target.count() /\\\n",
    "          df.groupby([metric]).target.count()) * 100).reset_index()\n",
    "    t0 = t0.merge(df[df.target == 0].groupby([metric]).target.count(), how='left', on = [metric])\n",
    "    t0.rename(columns={'target_x': 0, 'target_y': 'cnt_0'}, inplace=True)\n",
    "\n",
    "    t = t1.merge(t0, how='left', on = [metric])\n",
    "\n",
    "    fig = go.Figure()\n",
    "\n",
    "    fig.add_trace(go.Scatter(\n",
    "        x=t[metric],\n",
    "        y=t[0],\n",
    "        name=\"Target = 0\",\n",
    "        fill='tonexty',\n",
    "        line_color='red',\n",
    "        mode='lines',\n",
    "        text=t[\"cnt_0\"],\n",
    "        hovertemplate=(\n",
    "            \"Share: %{y:.1f}%<br>\"\n",
    "            \"Count: %{text}\"\n",
    "            \"<extra></extra>\"\n",
    "        )\n",
    "    ))\n",
    "\n",
    "    fig.add_trace(go.Scatter(\n",
    "        x=t[metric],\n",
    "        y=t[1],\n",
    "        name=\"Target = 1\",\n",
    "        fill='tonexty',\n",
    "        line_color='blue',\n",
    "        mode='lines',\n",
    "        text=t[\"cnt_1\"],\n",
    "        hovertemplate=(\n",
    "            \"Share: %{y:.1f}%<br>\"\n",
    "            \"Count: %{text}\"\n",
    "            \"<extra></extra>\"\n",
    "        )\n",
    "    ))\n",
    "\n",
    "    fig.update_layout(\n",
    "        title=f\"Распределение целевого признака по {metric}\",\n",
    "        xaxis_title=f\"{metric}}\",\n",
    "        yaxis_title=\"%\",\n",
    "        yaxis=dict(range=[0, 100], ticksuffix=\"%\"),\n",
    "        plot_bgcolor=\"white\"\n",
    "    )\n",
    "\n",
    "    return fig.show()"
   ],
   "id": "48dfe2b86483be2e",
   "outputs": [],
   "execution_count": 35
  },
  {
   "metadata": {
    "ExecuteTime": {
     "end_time": "2025-10-26T11:44:15.043610Z",
     "start_time": "2025-10-26T11:44:14.289010Z"
    }
   },
   "cell_type": "code",
   "source": "create_bar_chart(df, 'resume_gender')",
   "id": "e863cd009aba9ce3",
   "outputs": [
    {
     "data": {
      "application/vnd.plotly.v1+json": {
       "data": [
        {
         "hovertemplate": "Share: %{y:.1f}%<br>Count: %{text}<extra></extra>",
         "marker": {
          "color": "red"
         },
         "name": "Target = 0",
         "text": {
          "dtype": "f8",
          "bdata": "AAAAAAA7tEAAAAAAQOXbQAAAAAAAIGNA"
         },
         "textposition": "none",
         "x": [
          "Женщина",
          "Мужчина",
          "Неизвестно"
         ],
         "y": {
          "dtype": "f8",
          "bdata": "kpDpuzgxUUCguHURbbJLQMuTyDRst1NA"
         },
         "type": "bar"
        },
        {
         "hovertemplate": "Share: %{y:.1f}%<br>Count: %{text}<extra></extra>",
         "marker": {
          "color": "blue"
         },
         "name": "Target = 1",
         "text": {
          "dtype": "f8",
          "bdata": "AAAAAABgokAAAAAAgHbWQAAAAAAAgERA"
         },
         "textposition": "none",
         "x": [
          "Женщина",
          "Мужчина",
          "Неизвестно"
         ],
         "y": {
          "dtype": "f8",
          "bdata": "t71ZEB07P0BhR4rukk1GQNOw3SxPIjVA"
         },
         "type": "bar"
        }
       ],
       "layout": {
        "template": {
         "data": {
          "histogram2dcontour": [
           {
            "type": "histogram2dcontour",
            "colorbar": {
             "outlinewidth": 0,
             "ticks": ""
            },
            "colorscale": [
             [
              0.0,
              "#0d0887"
             ],
             [
              0.1111111111111111,
              "#46039f"
             ],
             [
              0.2222222222222222,
              "#7201a8"
             ],
             [
              0.3333333333333333,
              "#9c179e"
             ],
             [
              0.4444444444444444,
              "#bd3786"
             ],
             [
              0.5555555555555556,
              "#d8576b"
             ],
             [
              0.6666666666666666,
              "#ed7953"
             ],
             [
              0.7777777777777778,
              "#fb9f3a"
             ],
             [
              0.8888888888888888,
              "#fdca26"
             ],
             [
              1.0,
              "#f0f921"
             ]
            ]
           }
          ],
          "choropleth": [
           {
            "type": "choropleth",
            "colorbar": {
             "outlinewidth": 0,
             "ticks": ""
            }
           }
          ],
          "histogram2d": [
           {
            "type": "histogram2d",
            "colorbar": {
             "outlinewidth": 0,
             "ticks": ""
            },
            "colorscale": [
             [
              0.0,
              "#0d0887"
             ],
             [
              0.1111111111111111,
              "#46039f"
             ],
             [
              0.2222222222222222,
              "#7201a8"
             ],
             [
              0.3333333333333333,
              "#9c179e"
             ],
             [
              0.4444444444444444,
              "#bd3786"
             ],
             [
              0.5555555555555556,
              "#d8576b"
             ],
             [
              0.6666666666666666,
              "#ed7953"
             ],
             [
              0.7777777777777778,
              "#fb9f3a"
             ],
             [
              0.8888888888888888,
              "#fdca26"
             ],
             [
              1.0,
              "#f0f921"
             ]
            ]
           }
          ],
          "heatmap": [
           {
            "type": "heatmap",
            "colorbar": {
             "outlinewidth": 0,
             "ticks": ""
            },
            "colorscale": [
             [
              0.0,
              "#0d0887"
             ],
             [
              0.1111111111111111,
              "#46039f"
             ],
             [
              0.2222222222222222,
              "#7201a8"
             ],
             [
              0.3333333333333333,
              "#9c179e"
             ],
             [
              0.4444444444444444,
              "#bd3786"
             ],
             [
              0.5555555555555556,
              "#d8576b"
             ],
             [
              0.6666666666666666,
              "#ed7953"
             ],
             [
              0.7777777777777778,
              "#fb9f3a"
             ],
             [
              0.8888888888888888,
              "#fdca26"
             ],
             [
              1.0,
              "#f0f921"
             ]
            ]
           }
          ],
          "contourcarpet": [
           {
            "type": "contourcarpet",
            "colorbar": {
             "outlinewidth": 0,
             "ticks": ""
            }
           }
          ],
          "contour": [
           {
            "type": "contour",
            "colorbar": {
             "outlinewidth": 0,
             "ticks": ""
            },
            "colorscale": [
             [
              0.0,
              "#0d0887"
             ],
             [
              0.1111111111111111,
              "#46039f"
             ],
             [
              0.2222222222222222,
              "#7201a8"
             ],
             [
              0.3333333333333333,
              "#9c179e"
             ],
             [
              0.4444444444444444,
              "#bd3786"
             ],
             [
              0.5555555555555556,
              "#d8576b"
             ],
             [
              0.6666666666666666,
              "#ed7953"
             ],
             [
              0.7777777777777778,
              "#fb9f3a"
             ],
             [
              0.8888888888888888,
              "#fdca26"
             ],
             [
              1.0,
              "#f0f921"
             ]
            ]
           }
          ],
          "surface": [
           {
            "type": "surface",
            "colorbar": {
             "outlinewidth": 0,
             "ticks": ""
            },
            "colorscale": [
             [
              0.0,
              "#0d0887"
             ],
             [
              0.1111111111111111,
              "#46039f"
             ],
             [
              0.2222222222222222,
              "#7201a8"
             ],
             [
              0.3333333333333333,
              "#9c179e"
             ],
             [
              0.4444444444444444,
              "#bd3786"
             ],
             [
              0.5555555555555556,
              "#d8576b"
             ],
             [
              0.6666666666666666,
              "#ed7953"
             ],
             [
              0.7777777777777778,
              "#fb9f3a"
             ],
             [
              0.8888888888888888,
              "#fdca26"
             ],
             [
              1.0,
              "#f0f921"
             ]
            ]
           }
          ],
          "mesh3d": [
           {
            "type": "mesh3d",
            "colorbar": {
             "outlinewidth": 0,
             "ticks": ""
            }
           }
          ],
          "scatter": [
           {
            "marker": {
             "line": {
              "color": "#283442"
             }
            },
            "type": "scatter"
           }
          ],
          "parcoords": [
           {
            "type": "parcoords",
            "line": {
             "colorbar": {
              "outlinewidth": 0,
              "ticks": ""
             }
            }
           }
          ],
          "scatterpolargl": [
           {
            "type": "scatterpolargl",
            "marker": {
             "colorbar": {
              "outlinewidth": 0,
              "ticks": ""
             }
            }
           }
          ],
          "bar": [
           {
            "error_x": {
             "color": "#f2f5fa"
            },
            "error_y": {
             "color": "#f2f5fa"
            },
            "marker": {
             "line": {
              "color": "rgb(17,17,17)",
              "width": 0.5
             },
             "pattern": {
              "fillmode": "overlay",
              "size": 10,
              "solidity": 0.2
             }
            },
            "type": "bar"
           }
          ],
          "scattergeo": [
           {
            "type": "scattergeo",
            "marker": {
             "colorbar": {
              "outlinewidth": 0,
              "ticks": ""
             }
            }
           }
          ],
          "scatterpolar": [
           {
            "type": "scatterpolar",
            "marker": {
             "colorbar": {
              "outlinewidth": 0,
              "ticks": ""
             }
            }
           }
          ],
          "histogram": [
           {
            "marker": {
             "pattern": {
              "fillmode": "overlay",
              "size": 10,
              "solidity": 0.2
             }
            },
            "type": "histogram"
           }
          ],
          "scattergl": [
           {
            "marker": {
             "line": {
              "color": "#283442"
             }
            },
            "type": "scattergl"
           }
          ],
          "scatter3d": [
           {
            "type": "scatter3d",
            "line": {
             "colorbar": {
              "outlinewidth": 0,
              "ticks": ""
             }
            },
            "marker": {
             "colorbar": {
              "outlinewidth": 0,
              "ticks": ""
             }
            }
           }
          ],
          "scattermap": [
           {
            "type": "scattermap",
            "marker": {
             "colorbar": {
              "outlinewidth": 0,
              "ticks": ""
             }
            }
           }
          ],
          "scattermapbox": [
           {
            "type": "scattermapbox",
            "marker": {
             "colorbar": {
              "outlinewidth": 0,
              "ticks": ""
             }
            }
           }
          ],
          "scatterternary": [
           {
            "type": "scatterternary",
            "marker": {
             "colorbar": {
              "outlinewidth": 0,
              "ticks": ""
             }
            }
           }
          ],
          "scattercarpet": [
           {
            "type": "scattercarpet",
            "marker": {
             "colorbar": {
              "outlinewidth": 0,
              "ticks": ""
             }
            }
           }
          ],
          "carpet": [
           {
            "aaxis": {
             "endlinecolor": "#A2B1C6",
             "gridcolor": "#506784",
             "linecolor": "#506784",
             "minorgridcolor": "#506784",
             "startlinecolor": "#A2B1C6"
            },
            "baxis": {
             "endlinecolor": "#A2B1C6",
             "gridcolor": "#506784",
             "linecolor": "#506784",
             "minorgridcolor": "#506784",
             "startlinecolor": "#A2B1C6"
            },
            "type": "carpet"
           }
          ],
          "table": [
           {
            "cells": {
             "fill": {
              "color": "#506784"
             },
             "line": {
              "color": "rgb(17,17,17)"
             }
            },
            "header": {
             "fill": {
              "color": "#2a3f5f"
             },
             "line": {
              "color": "rgb(17,17,17)"
             }
            },
            "type": "table"
           }
          ],
          "barpolar": [
           {
            "marker": {
             "line": {
              "color": "rgb(17,17,17)",
              "width": 0.5
             },
             "pattern": {
              "fillmode": "overlay",
              "size": 10,
              "solidity": 0.2
             }
            },
            "type": "barpolar"
           }
          ],
          "pie": [
           {
            "automargin": true,
            "type": "pie"
           }
          ]
         },
         "layout": {
          "autotypenumbers": "strict",
          "colorway": [
           "#636efa",
           "#EF553B",
           "#00cc96",
           "#ab63fa",
           "#FFA15A",
           "#19d3f3",
           "#FF6692",
           "#B6E880",
           "#FF97FF",
           "#FECB52"
          ],
          "font": {
           "color": "#f2f5fa"
          },
          "hovermode": "closest",
          "hoverlabel": {
           "align": "left"
          },
          "paper_bgcolor": "rgb(17,17,17)",
          "plot_bgcolor": "rgb(17,17,17)",
          "polar": {
           "bgcolor": "rgb(17,17,17)",
           "angularaxis": {
            "gridcolor": "#506784",
            "linecolor": "#506784",
            "ticks": ""
           },
           "radialaxis": {
            "gridcolor": "#506784",
            "linecolor": "#506784",
            "ticks": ""
           }
          },
          "ternary": {
           "bgcolor": "rgb(17,17,17)",
           "aaxis": {
            "gridcolor": "#506784",
            "linecolor": "#506784",
            "ticks": ""
           },
           "baxis": {
            "gridcolor": "#506784",
            "linecolor": "#506784",
            "ticks": ""
           },
           "caxis": {
            "gridcolor": "#506784",
            "linecolor": "#506784",
            "ticks": ""
           }
          },
          "coloraxis": {
           "colorbar": {
            "outlinewidth": 0,
            "ticks": ""
           }
          },
          "colorscale": {
           "sequential": [
            [
             0.0,
             "#0d0887"
            ],
            [
             0.1111111111111111,
             "#46039f"
            ],
            [
             0.2222222222222222,
             "#7201a8"
            ],
            [
             0.3333333333333333,
             "#9c179e"
            ],
            [
             0.4444444444444444,
             "#bd3786"
            ],
            [
             0.5555555555555556,
             "#d8576b"
            ],
            [
             0.6666666666666666,
             "#ed7953"
            ],
            [
             0.7777777777777778,
             "#fb9f3a"
            ],
            [
             0.8888888888888888,
             "#fdca26"
            ],
            [
             1.0,
             "#f0f921"
            ]
           ],
           "sequentialminus": [
            [
             0.0,
             "#0d0887"
            ],
            [
             0.1111111111111111,
             "#46039f"
            ],
            [
             0.2222222222222222,
             "#7201a8"
            ],
            [
             0.3333333333333333,
             "#9c179e"
            ],
            [
             0.4444444444444444,
             "#bd3786"
            ],
            [
             0.5555555555555556,
             "#d8576b"
            ],
            [
             0.6666666666666666,
             "#ed7953"
            ],
            [
             0.7777777777777778,
             "#fb9f3a"
            ],
            [
             0.8888888888888888,
             "#fdca26"
            ],
            [
             1.0,
             "#f0f921"
            ]
           ],
           "diverging": [
            [
             0,
             "#8e0152"
            ],
            [
             0.1,
             "#c51b7d"
            ],
            [
             0.2,
             "#de77ae"
            ],
            [
             0.3,
             "#f1b6da"
            ],
            [
             0.4,
             "#fde0ef"
            ],
            [
             0.5,
             "#f7f7f7"
            ],
            [
             0.6,
             "#e6f5d0"
            ],
            [
             0.7,
             "#b8e186"
            ],
            [
             0.8,
             "#7fbc41"
            ],
            [
             0.9,
             "#4d9221"
            ],
            [
             1,
             "#276419"
            ]
           ]
          },
          "xaxis": {
           "gridcolor": "#283442",
           "linecolor": "#506784",
           "ticks": "",
           "title": {
            "standoff": 15
           },
           "zerolinecolor": "#283442",
           "automargin": true,
           "zerolinewidth": 2
          },
          "yaxis": {
           "gridcolor": "#283442",
           "linecolor": "#506784",
           "ticks": "",
           "title": {
            "standoff": 15
           },
           "zerolinecolor": "#283442",
           "automargin": true,
           "zerolinewidth": 2
          },
          "scene": {
           "xaxis": {
            "backgroundcolor": "rgb(17,17,17)",
            "gridcolor": "#506784",
            "linecolor": "#506784",
            "showbackground": true,
            "ticks": "",
            "zerolinecolor": "#C8D4E3",
            "gridwidth": 2
           },
           "yaxis": {
            "backgroundcolor": "rgb(17,17,17)",
            "gridcolor": "#506784",
            "linecolor": "#506784",
            "showbackground": true,
            "ticks": "",
            "zerolinecolor": "#C8D4E3",
            "gridwidth": 2
           },
           "zaxis": {
            "backgroundcolor": "rgb(17,17,17)",
            "gridcolor": "#506784",
            "linecolor": "#506784",
            "showbackground": true,
            "ticks": "",
            "zerolinecolor": "#C8D4E3",
            "gridwidth": 2
           }
          },
          "shapedefaults": {
           "line": {
            "color": "#f2f5fa"
           }
          },
          "annotationdefaults": {
           "arrowcolor": "#f2f5fa",
           "arrowhead": 0,
           "arrowwidth": 1
          },
          "geo": {
           "bgcolor": "rgb(17,17,17)",
           "landcolor": "rgb(17,17,17)",
           "subunitcolor": "#506784",
           "showland": true,
           "showlakes": true,
           "lakecolor": "rgb(17,17,17)"
          },
          "title": {
           "x": 0.05
          },
          "updatemenudefaults": {
           "bgcolor": "#506784",
           "borderwidth": 0
          },
          "sliderdefaults": {
           "bgcolor": "#C8D4E3",
           "borderwidth": 1,
           "bordercolor": "rgb(17,17,17)",
           "tickwidth": 0
          },
          "mapbox": {
           "style": "dark"
          }
         }
        },
        "yaxis": {
         "title": {
          "text": "%"
         },
         "range": [
          0,
          100
         ],
         "ticksuffix": "%"
        },
        "barmode": "stack",
        "title": {
         "text": "Распределение целевого признака по resume_gender"
        },
        "xaxis": {
         "title": {
          "text": "resume_gender"
         }
        },
        "bargap": 0,
        "bargroupgap": 0,
        "legend": {
         "title": {
          "text": "Target"
         }
        },
        "plot_bgcolor": "white"
       },
       "config": {
        "plotlyServerURL": "https://plot.ly"
       }
      }
     },
     "metadata": {},
     "output_type": "display_data",
     "jetTransient": {
      "display_id": null
     }
    }
   ],
   "execution_count": 36
  },
  {
   "metadata": {},
   "cell_type": "markdown",
   "source": [
    "<div style=\"background-color: #98FB98; color: black; padding: 10px; border-radius: 5px;\">\n",
    "\n",
    "Мужчин гораздо чаще принимают на вакансию (относительно на 42% больше)\n",
    "\n",
    "</div>"
   ],
   "id": "9747b51d1f6f0246"
  },
  {
   "metadata": {
    "ExecuteTime": {
     "end_time": "2025-10-26T11:44:15.061098Z",
     "start_time": "2025-10-26T11:44:15.056521Z"
    }
   },
   "cell_type": "code",
   "source": "df.groupby('resume_gender').target.count() / df.target.count()",
   "id": "354a613a7f479af4",
   "outputs": [
    {
     "data": {
      "text/plain": [
       "resume_gender\n",
       "Женщина       0.127015\n",
       "Мужчина       0.869713\n",
       "Неизвестно    0.003272\n",
       "Name: target, dtype: float64"
      ]
     },
     "execution_count": 37,
     "metadata": {},
     "output_type": "execute_result"
    }
   ],
   "execution_count": 37
  },
  {
   "metadata": {},
   "cell_type": "markdown",
   "source": [
    "<div style=\"background-color: #98FB98; color: black; padding: 10px; border-radius: 5px;\">\n",
    "\n",
    "Также, заметим, что мужчины составляют 87% от датасета (не сами резюме, а матчинг вакансия - резюме)\n",
    "</div>"
   ],
   "id": "6db914a428ae018a"
  },
  {
   "metadata": {},
   "cell_type": "markdown",
   "source": [
    "<div style=\"background-color: #98FB98; color: black; padding: 10px; border-radius: 5px;\">\n",
    "\n",
    "Рассмотрим влияние возраста на таргет:\n",
    "\n",
    "</div>"
   ],
   "id": "42bdf4187e833c32"
  },
  {
   "metadata": {
    "ExecuteTime": {
     "end_time": "2025-10-26T11:44:15.099871Z",
     "start_time": "2025-10-26T11:44:15.071681Z"
    }
   },
   "cell_type": "code",
   "source": "create_scatter_chart(df, 'resume_age')",
   "id": "3d59a9e32312db49",
   "outputs": [
    {
     "data": {
      "application/vnd.plotly.v1+json": {
       "data": [
        {
         "fill": "tonexty",
         "hovertemplate": "Share: %{y:.1f}%<br>Count: %{text}<extra></extra>",
         "line": {
          "color": "red"
         },
         "mode": "lines",
         "name": "Target = 0",
         "text": {
          "dtype": "f8",
          "bdata": "AAAAAAAAFEAAAAAAAAAkQAAAAAAAACRAAAAAAAAAP0AAAAAAAEBTQAAAAAAAwGJAAAAAAABAbkAAAAAAADByQAAAAAAAoHZAAAAAAADAfEAAAAAAAFiAQAAAAAAAyINAAAAAAADYhkAAAAAAAIiFQAAAAAAAeIlAAAAAAACwjEAAAAAAACCQQAAAAAAAWJFAAAAAAAAAk0AAAAAAAJCTQAAAAAAAKJVAAAAAAACslUAAAAAAAFSUQAAAAAAALJlAAAAAAABwlEAAAAAAAJiTQAAAAAAAZJFAAAAAAADUk0AAAAAAACSRQAAAAAAAcI1AAAAAAADAiUAAAAAAAACKQAAAAAAAOIhAAAAAAADQhkAAAAAAALiEQAAAAAAAyIJAAAAAAACQf0AAAAAAAKB+QAAAAAAAsIBAAAAAAADQeUAAAAAAAHB4QAAAAAAAIHxAAAAAAABAeEAAAAAAADB3QAAAAAAA4HJAAAAAAADwekAAAAAAAMBxQAAAAAAAQHJAAAAAAADgcEAAAAAAAABwQAAAAAAAoGJAAAAAAABgY0AAAAAAAABhQAAAAAAAQF9AAAAAAACAVkAAAAAAAEBTQAAAAAAAgE5AAAAAAAAAQUAAAAAAAAA6QAAAAAAAADBAAAAAAAAANEAAAAAAAAAAQAAAAAAAAABAAAAAAAAAHEAAAAAAAADwPwAAAAAAAPA/"
         },
         "x": {
          "dtype": "f8",
          "bdata": "AAAAAAAAM0AAAAAAAAA0QAAAAAAAADVAAAAAAAAANkAAAAAAAAA3QAAAAAAAADhAAAAAAAAAOUAAAAAAAAA6QAAAAAAAADtAAAAAAAAAPEAAAAAAAAA9QAAAAAAAAD5AAAAAAAAAP0AAAAAAAABAQAAAAAAAgEBAAAAAAAAAQUAAAAAAAIBBQAAAAAAAAEJAAAAAAACAQkAAAAAAAABDQAAAAAAAgENAAAAAAAAAREAAAAAAAIBEQA4ldbRe/URAAAAAAAAARUAAAAAAAIBFQAAAAAAAAEZAAAAAAACARkAAAAAAAABHQAAAAAAAgEdAAAAAAAAASEAAAAAAAIBIQAAAAAAAAElAAAAAAACASUAAAAAAAABKQAAAAAAAgEpAAAAAAAAAS0AAAAAAAIBLQAAAAAAAAExAAAAAAACATEAAAAAAAABNQAAAAAAAgE1AAAAAAAAATkAAAAAAAIBOQAAAAAAAAE9AAAAAAACAT0AAAAAAAABQQAAAAAAAQFBAAAAAAACAUEAAAAAAAMBQQAAAAAAAAFFAAAAAAABAUUAAAAAAAIBRQAAAAAAAwFFAAAAAAAAAUkAAAAAAAEBSQAAAAAAAgFJAAAAAAADAUkAAAAAAAABTQAAAAAAAQFNAAAAAAACAU0AAAAAAAMBTQAAAAAAAAFRAAAAAAABAVEAAAAAAAMBUQAAAAAAAAFVA"
         },
         "y": {
          "dtype": "f8",
          "bdata": "VlVVVVXVVEC3bdu2bdtRQC+66KKLLhJAl3oyfrvUNUCUU80oWsszQNVvgKnmmDlAmArbCahKN0B2OMVjHU49QCRzISPVxDdAhG4kza/3RUCfz+fz+bxJQDRi9buR1D1ADC+iodWjQ0Aep/DHNq9MQK/ClxtigE5AKPdNltIESEAdDbZKirtOQBSLEpzh6ktAbL3Wa73WS0CF7zae8N1KQPDNA2LxeUpA84ppv2HCUEC6k/mQ7iRNQDHmNO4aOElAAg32YQBLUEA++j00qcpQQPBs1Hc26lBAdQV2BgXLUUC8B6COpuVJQHjoXELmf1JAmYQOwn94U0B208HA/vJMQIQ1rmKYuUxAunEPFZGuUEBQDHgStJtQQN5ginzWTVRAZS6oAcZtVED1pje96U1VQMJgMBgMBlVAx3Ecx3F8VEBoXESxeABSQKEIRShCEVVAchzHcRzXUEBeEhBOxMtUQKOLLrroclVAltW75MGASUCn4OUUvBxSQBhddNFFl1BADdvN8iQyR0AyN17RtMpXQAAAAAAASFdA2NvoD4XkVUAjLPc0wnJXQCVJkiRJUlZAAAAAAABwV0C8WtyE+V1YQGIndmIndldAkiRJkiRJWEAAAAAAAABZQIeHh4eHh1dAAAAAAAAAWUAAAAAAAABZQAAAAAAAAFlAAAAAAAAAWUAAAAAAAABZQAAAAAAAAFlA"
         },
         "type": "scatter"
        },
        {
         "fill": "tonexty",
         "hovertemplate": "Share: %{y:.1f}%<br>Count: %{text}<extra></extra>",
         "line": {
          "color": "blue"
         },
         "mode": "lines",
         "name": "Target = 1",
         "text": {
          "dtype": "f8",
          "bdata": "AAAAAAAA8D8AAAAAAAAQQAAAAAAAQGpAAAAAAADAW0AAAAAAAIBzQAAAAAAAQHtAAAAAAADoiEAAAAAAAPCFQAAAAAAAJJJAAAAAAABYgkAAAAAAANB+QAAAAAAARJdAAAAAAACokUAAAAAAAACAQAAAAAAASIBAAAAAAAAIj0AAAAAAADiEQAAAAAAAcItAAAAAAABAjkAAAAAAANiQQAAAAAAAzJJAAAAAAABQhUAAAAAAABiNQAAAAAAAvJhAAAAAAADYhUAAAAAAACiDQAAAAAAAoIBAAAAAAAAQgEAAAAAAAOiPQAAAAAAAsHRAAAAAAABAbUAAAAAAAOiCQAAAAAAA8IFAAAAAAADAdkAAAAAAAPB0QAAAAAAAYGFAAAAAAABAXEAAAAAAAEBVQAAAAAAAQFlAAAAAAADAVkAAAAAAAABjQAAAAAAAAFVAAAAAAACAZ0AAAAAAAMBSQAAAAAAAAElAAAAAAADgeUAAAAAAAABbQAAAAAAAgGJAAAAAAACAc0AAAAAAAAAqQAAAAAAAACZAAAAAAAAANkAAAAAAAAAiQAAAAAAAAC5AAAAAAAAAGEAAAAAAAAAAQAAAAAAAABBAAAAAAAAA8D8AAAAAAAD4fwAAAAAAAPA/AAAAAAAA+H8AAAAAAAD4fwAAAAAAAPh/AAAAAAAA+H8AAAAAAAD4fwAAAAAAAPh/"
         },
         "x": {
          "dtype": "f8",
          "bdata": "AAAAAAAAM0AAAAAAAAA0QAAAAAAAADVAAAAAAAAANkAAAAAAAAA3QAAAAAAAADhAAAAAAAAAOUAAAAAAAAA6QAAAAAAAADtAAAAAAAAAPEAAAAAAAAA9QAAAAAAAAD5AAAAAAAAAP0AAAAAAAABAQAAAAAAAgEBAAAAAAAAAQUAAAAAAAIBBQAAAAAAAAEJAAAAAAACAQkAAAAAAAABDQAAAAAAAgENAAAAAAAAAREAAAAAAAIBEQA4ldbRe/URAAAAAAAAARUAAAAAAAIBFQAAAAAAAAEZAAAAAAACARkAAAAAAAABHQAAAAAAAgEdAAAAAAAAASEAAAAAAAIBIQAAAAAAAAElAAAAAAACASUAAAAAAAABKQAAAAAAAgEpAAAAAAAAAS0AAAAAAAIBLQAAAAAAAAExAAAAAAACATEAAAAAAAABNQAAAAAAAgE1AAAAAAAAATkAAAAAAAIBOQAAAAAAAAE9AAAAAAACAT0AAAAAAAABQQAAAAAAAQFBAAAAAAACAUEAAAAAAAMBQQAAAAAAAAFFAAAAAAABAUUAAAAAAAIBRQAAAAAAAwFFAAAAAAAAAUkAAAAAAAEBSQAAAAAAAgFJAAAAAAADAUkAAAAAAAABTQAAAAAAAQFNAAAAAAACAU0AAAAAAAMBTQAAAAAAAAFRAAAAAAABAVEAAAAAAAMBUQAAAAAAAAFVA"
         },
         "y": {
          "dtype": "f8",
          "bdata": "qqqqqqqqMEAkSZIkSZI8QF100UUX3VdAWmFzINGKU0Abq8x1KQ1UQArkn1XGmVJAWj2J/VUtU0DjsQ6neKxRQDejN7fKDlNAe5HbMlAITEBhMBgMBkNIQHOnApHbilFA9NBdXipcTkDjWA84yVBFQFE9aOSdf0NA1wiyaS37SUDj8km1dURDQO107WMeFUZAlEIplEIpRkB7EMlhDyJHQA8y/J0OhkdAGeosgTx7QEBFbAZvEdtEQM8ZyxHlx0hA+uUTPP9pQUCFC4SXrWpAQCEmVxCTK0BALeon5uvTPEBE+F9xWRpIQB1ejPZmADpAnO3F9wAeNkCKLD4/AQ1FQHzKUZ1nRkVAjRzh1d2iQEBg5w/bl8hAQIp81g2myDJAbEZf+edIMkBZyEIWspAtQPX5fD6fzy9A4ziO4zgOMkBhju46Hf47QPe6173udS9AHcdxHMdRQECItr/H7tAwQOmiiy66aCxAaipEGz5/SEBifWisD407QNFFF1100UBA8yQyDdvNSkDZjBzqslQTQAEAAAAAgBtARCG5gNfbKEDLPY2w3NMYQNu2bdu2bSVAAAAAAAAAGUCCqHRkz0AEQNmJndiJnRhAt23btm3bBkAAAAAAAAD4f4eHh4eHhxdAAAAAAAAA+H8AAAAAAAD4fwAAAAAAAPh/AAAAAAAA+H8AAAAAAAD4fwAAAAAAAPh/"
         },
         "type": "scatter"
        }
       ],
       "layout": {
        "template": {
         "data": {
          "histogram2dcontour": [
           {
            "type": "histogram2dcontour",
            "colorbar": {
             "outlinewidth": 0,
             "ticks": ""
            },
            "colorscale": [
             [
              0.0,
              "#0d0887"
             ],
             [
              0.1111111111111111,
              "#46039f"
             ],
             [
              0.2222222222222222,
              "#7201a8"
             ],
             [
              0.3333333333333333,
              "#9c179e"
             ],
             [
              0.4444444444444444,
              "#bd3786"
             ],
             [
              0.5555555555555556,
              "#d8576b"
             ],
             [
              0.6666666666666666,
              "#ed7953"
             ],
             [
              0.7777777777777778,
              "#fb9f3a"
             ],
             [
              0.8888888888888888,
              "#fdca26"
             ],
             [
              1.0,
              "#f0f921"
             ]
            ]
           }
          ],
          "choropleth": [
           {
            "type": "choropleth",
            "colorbar": {
             "outlinewidth": 0,
             "ticks": ""
            }
           }
          ],
          "histogram2d": [
           {
            "type": "histogram2d",
            "colorbar": {
             "outlinewidth": 0,
             "ticks": ""
            },
            "colorscale": [
             [
              0.0,
              "#0d0887"
             ],
             [
              0.1111111111111111,
              "#46039f"
             ],
             [
              0.2222222222222222,
              "#7201a8"
             ],
             [
              0.3333333333333333,
              "#9c179e"
             ],
             [
              0.4444444444444444,
              "#bd3786"
             ],
             [
              0.5555555555555556,
              "#d8576b"
             ],
             [
              0.6666666666666666,
              "#ed7953"
             ],
             [
              0.7777777777777778,
              "#fb9f3a"
             ],
             [
              0.8888888888888888,
              "#fdca26"
             ],
             [
              1.0,
              "#f0f921"
             ]
            ]
           }
          ],
          "heatmap": [
           {
            "type": "heatmap",
            "colorbar": {
             "outlinewidth": 0,
             "ticks": ""
            },
            "colorscale": [
             [
              0.0,
              "#0d0887"
             ],
             [
              0.1111111111111111,
              "#46039f"
             ],
             [
              0.2222222222222222,
              "#7201a8"
             ],
             [
              0.3333333333333333,
              "#9c179e"
             ],
             [
              0.4444444444444444,
              "#bd3786"
             ],
             [
              0.5555555555555556,
              "#d8576b"
             ],
             [
              0.6666666666666666,
              "#ed7953"
             ],
             [
              0.7777777777777778,
              "#fb9f3a"
             ],
             [
              0.8888888888888888,
              "#fdca26"
             ],
             [
              1.0,
              "#f0f921"
             ]
            ]
           }
          ],
          "contourcarpet": [
           {
            "type": "contourcarpet",
            "colorbar": {
             "outlinewidth": 0,
             "ticks": ""
            }
           }
          ],
          "contour": [
           {
            "type": "contour",
            "colorbar": {
             "outlinewidth": 0,
             "ticks": ""
            },
            "colorscale": [
             [
              0.0,
              "#0d0887"
             ],
             [
              0.1111111111111111,
              "#46039f"
             ],
             [
              0.2222222222222222,
              "#7201a8"
             ],
             [
              0.3333333333333333,
              "#9c179e"
             ],
             [
              0.4444444444444444,
              "#bd3786"
             ],
             [
              0.5555555555555556,
              "#d8576b"
             ],
             [
              0.6666666666666666,
              "#ed7953"
             ],
             [
              0.7777777777777778,
              "#fb9f3a"
             ],
             [
              0.8888888888888888,
              "#fdca26"
             ],
             [
              1.0,
              "#f0f921"
             ]
            ]
           }
          ],
          "surface": [
           {
            "type": "surface",
            "colorbar": {
             "outlinewidth": 0,
             "ticks": ""
            },
            "colorscale": [
             [
              0.0,
              "#0d0887"
             ],
             [
              0.1111111111111111,
              "#46039f"
             ],
             [
              0.2222222222222222,
              "#7201a8"
             ],
             [
              0.3333333333333333,
              "#9c179e"
             ],
             [
              0.4444444444444444,
              "#bd3786"
             ],
             [
              0.5555555555555556,
              "#d8576b"
             ],
             [
              0.6666666666666666,
              "#ed7953"
             ],
             [
              0.7777777777777778,
              "#fb9f3a"
             ],
             [
              0.8888888888888888,
              "#fdca26"
             ],
             [
              1.0,
              "#f0f921"
             ]
            ]
           }
          ],
          "mesh3d": [
           {
            "type": "mesh3d",
            "colorbar": {
             "outlinewidth": 0,
             "ticks": ""
            }
           }
          ],
          "scatter": [
           {
            "marker": {
             "line": {
              "color": "#283442"
             }
            },
            "type": "scatter"
           }
          ],
          "parcoords": [
           {
            "type": "parcoords",
            "line": {
             "colorbar": {
              "outlinewidth": 0,
              "ticks": ""
             }
            }
           }
          ],
          "scatterpolargl": [
           {
            "type": "scatterpolargl",
            "marker": {
             "colorbar": {
              "outlinewidth": 0,
              "ticks": ""
             }
            }
           }
          ],
          "bar": [
           {
            "error_x": {
             "color": "#f2f5fa"
            },
            "error_y": {
             "color": "#f2f5fa"
            },
            "marker": {
             "line": {
              "color": "rgb(17,17,17)",
              "width": 0.5
             },
             "pattern": {
              "fillmode": "overlay",
              "size": 10,
              "solidity": 0.2
             }
            },
            "type": "bar"
           }
          ],
          "scattergeo": [
           {
            "type": "scattergeo",
            "marker": {
             "colorbar": {
              "outlinewidth": 0,
              "ticks": ""
             }
            }
           }
          ],
          "scatterpolar": [
           {
            "type": "scatterpolar",
            "marker": {
             "colorbar": {
              "outlinewidth": 0,
              "ticks": ""
             }
            }
           }
          ],
          "histogram": [
           {
            "marker": {
             "pattern": {
              "fillmode": "overlay",
              "size": 10,
              "solidity": 0.2
             }
            },
            "type": "histogram"
           }
          ],
          "scattergl": [
           {
            "marker": {
             "line": {
              "color": "#283442"
             }
            },
            "type": "scattergl"
           }
          ],
          "scatter3d": [
           {
            "type": "scatter3d",
            "line": {
             "colorbar": {
              "outlinewidth": 0,
              "ticks": ""
             }
            },
            "marker": {
             "colorbar": {
              "outlinewidth": 0,
              "ticks": ""
             }
            }
           }
          ],
          "scattermap": [
           {
            "type": "scattermap",
            "marker": {
             "colorbar": {
              "outlinewidth": 0,
              "ticks": ""
             }
            }
           }
          ],
          "scattermapbox": [
           {
            "type": "scattermapbox",
            "marker": {
             "colorbar": {
              "outlinewidth": 0,
              "ticks": ""
             }
            }
           }
          ],
          "scatterternary": [
           {
            "type": "scatterternary",
            "marker": {
             "colorbar": {
              "outlinewidth": 0,
              "ticks": ""
             }
            }
           }
          ],
          "scattercarpet": [
           {
            "type": "scattercarpet",
            "marker": {
             "colorbar": {
              "outlinewidth": 0,
              "ticks": ""
             }
            }
           }
          ],
          "carpet": [
           {
            "aaxis": {
             "endlinecolor": "#A2B1C6",
             "gridcolor": "#506784",
             "linecolor": "#506784",
             "minorgridcolor": "#506784",
             "startlinecolor": "#A2B1C6"
            },
            "baxis": {
             "endlinecolor": "#A2B1C6",
             "gridcolor": "#506784",
             "linecolor": "#506784",
             "minorgridcolor": "#506784",
             "startlinecolor": "#A2B1C6"
            },
            "type": "carpet"
           }
          ],
          "table": [
           {
            "cells": {
             "fill": {
              "color": "#506784"
             },
             "line": {
              "color": "rgb(17,17,17)"
             }
            },
            "header": {
             "fill": {
              "color": "#2a3f5f"
             },
             "line": {
              "color": "rgb(17,17,17)"
             }
            },
            "type": "table"
           }
          ],
          "barpolar": [
           {
            "marker": {
             "line": {
              "color": "rgb(17,17,17)",
              "width": 0.5
             },
             "pattern": {
              "fillmode": "overlay",
              "size": 10,
              "solidity": 0.2
             }
            },
            "type": "barpolar"
           }
          ],
          "pie": [
           {
            "automargin": true,
            "type": "pie"
           }
          ]
         },
         "layout": {
          "autotypenumbers": "strict",
          "colorway": [
           "#636efa",
           "#EF553B",
           "#00cc96",
           "#ab63fa",
           "#FFA15A",
           "#19d3f3",
           "#FF6692",
           "#B6E880",
           "#FF97FF",
           "#FECB52"
          ],
          "font": {
           "color": "#f2f5fa"
          },
          "hovermode": "closest",
          "hoverlabel": {
           "align": "left"
          },
          "paper_bgcolor": "rgb(17,17,17)",
          "plot_bgcolor": "rgb(17,17,17)",
          "polar": {
           "bgcolor": "rgb(17,17,17)",
           "angularaxis": {
            "gridcolor": "#506784",
            "linecolor": "#506784",
            "ticks": ""
           },
           "radialaxis": {
            "gridcolor": "#506784",
            "linecolor": "#506784",
            "ticks": ""
           }
          },
          "ternary": {
           "bgcolor": "rgb(17,17,17)",
           "aaxis": {
            "gridcolor": "#506784",
            "linecolor": "#506784",
            "ticks": ""
           },
           "baxis": {
            "gridcolor": "#506784",
            "linecolor": "#506784",
            "ticks": ""
           },
           "caxis": {
            "gridcolor": "#506784",
            "linecolor": "#506784",
            "ticks": ""
           }
          },
          "coloraxis": {
           "colorbar": {
            "outlinewidth": 0,
            "ticks": ""
           }
          },
          "colorscale": {
           "sequential": [
            [
             0.0,
             "#0d0887"
            ],
            [
             0.1111111111111111,
             "#46039f"
            ],
            [
             0.2222222222222222,
             "#7201a8"
            ],
            [
             0.3333333333333333,
             "#9c179e"
            ],
            [
             0.4444444444444444,
             "#bd3786"
            ],
            [
             0.5555555555555556,
             "#d8576b"
            ],
            [
             0.6666666666666666,
             "#ed7953"
            ],
            [
             0.7777777777777778,
             "#fb9f3a"
            ],
            [
             0.8888888888888888,
             "#fdca26"
            ],
            [
             1.0,
             "#f0f921"
            ]
           ],
           "sequentialminus": [
            [
             0.0,
             "#0d0887"
            ],
            [
             0.1111111111111111,
             "#46039f"
            ],
            [
             0.2222222222222222,
             "#7201a8"
            ],
            [
             0.3333333333333333,
             "#9c179e"
            ],
            [
             0.4444444444444444,
             "#bd3786"
            ],
            [
             0.5555555555555556,
             "#d8576b"
            ],
            [
             0.6666666666666666,
             "#ed7953"
            ],
            [
             0.7777777777777778,
             "#fb9f3a"
            ],
            [
             0.8888888888888888,
             "#fdca26"
            ],
            [
             1.0,
             "#f0f921"
            ]
           ],
           "diverging": [
            [
             0,
             "#8e0152"
            ],
            [
             0.1,
             "#c51b7d"
            ],
            [
             0.2,
             "#de77ae"
            ],
            [
             0.3,
             "#f1b6da"
            ],
            [
             0.4,
             "#fde0ef"
            ],
            [
             0.5,
             "#f7f7f7"
            ],
            [
             0.6,
             "#e6f5d0"
            ],
            [
             0.7,
             "#b8e186"
            ],
            [
             0.8,
             "#7fbc41"
            ],
            [
             0.9,
             "#4d9221"
            ],
            [
             1,
             "#276419"
            ]
           ]
          },
          "xaxis": {
           "gridcolor": "#283442",
           "linecolor": "#506784",
           "ticks": "",
           "title": {
            "standoff": 15
           },
           "zerolinecolor": "#283442",
           "automargin": true,
           "zerolinewidth": 2
          },
          "yaxis": {
           "gridcolor": "#283442",
           "linecolor": "#506784",
           "ticks": "",
           "title": {
            "standoff": 15
           },
           "zerolinecolor": "#283442",
           "automargin": true,
           "zerolinewidth": 2
          },
          "scene": {
           "xaxis": {
            "backgroundcolor": "rgb(17,17,17)",
            "gridcolor": "#506784",
            "linecolor": "#506784",
            "showbackground": true,
            "ticks": "",
            "zerolinecolor": "#C8D4E3",
            "gridwidth": 2
           },
           "yaxis": {
            "backgroundcolor": "rgb(17,17,17)",
            "gridcolor": "#506784",
            "linecolor": "#506784",
            "showbackground": true,
            "ticks": "",
            "zerolinecolor": "#C8D4E3",
            "gridwidth": 2
           },
           "zaxis": {
            "backgroundcolor": "rgb(17,17,17)",
            "gridcolor": "#506784",
            "linecolor": "#506784",
            "showbackground": true,
            "ticks": "",
            "zerolinecolor": "#C8D4E3",
            "gridwidth": 2
           }
          },
          "shapedefaults": {
           "line": {
            "color": "#f2f5fa"
           }
          },
          "annotationdefaults": {
           "arrowcolor": "#f2f5fa",
           "arrowhead": 0,
           "arrowwidth": 1
          },
          "geo": {
           "bgcolor": "rgb(17,17,17)",
           "landcolor": "rgb(17,17,17)",
           "subunitcolor": "#506784",
           "showland": true,
           "showlakes": true,
           "lakecolor": "rgb(17,17,17)"
          },
          "title": {
           "x": 0.05
          },
          "updatemenudefaults": {
           "bgcolor": "#506784",
           "borderwidth": 0
          },
          "sliderdefaults": {
           "bgcolor": "#C8D4E3",
           "borderwidth": 1,
           "bordercolor": "rgb(17,17,17)",
           "tickwidth": 0
          },
          "mapbox": {
           "style": "dark"
          }
         }
        },
        "yaxis": {
         "title": {
          "text": "%"
         },
         "range": [
          0,
          100
         ],
         "ticksuffix": "%"
        },
        "title": {
         "text": "Распределение целевого признака по resume_age"
        },
        "xaxis": {
         "title": {
          "text": "resume_age"
         }
        },
        "plot_bgcolor": "white"
       },
       "config": {
        "plotlyServerURL": "https://plot.ly"
       }
      }
     },
     "metadata": {},
     "output_type": "display_data",
     "jetTransient": {
      "display_id": null
     }
    }
   ],
   "execution_count": 38
  },
  {
   "metadata": {
    "ExecuteTime": {
     "end_time": "2025-10-26T11:44:15.160046Z",
     "start_time": "2025-10-26T11:44:15.127167Z"
    }
   },
   "cell_type": "code",
   "source": "create_scatter_chart(df[df.resume_gender == 'Мужчина'], 'resume_age')",
   "id": "8e70adc7f8f0efb8",
   "outputs": [
    {
     "data": {
      "application/vnd.plotly.v1+json": {
       "data": [
        {
         "fill": "tonexty",
         "hovertemplate": "Share: %{y:.1f}%<br>Count: %{text}<extra></extra>",
         "line": {
          "color": "red"
         },
         "mode": "lines",
         "name": "Target = 0",
         "text": {
          "dtype": "f8",
          "bdata": "AAAAAAAAFEAAAAAAAAAkQAAAAAAAACRAAAAAAAAAOkAAAAAAAABSQAAAAAAAQGBAAAAAAAAAaUAAAAAAAABuQAAAAAAAYHJAAAAAAABgd0AAAAAAABB7QAAAAAAAkH5AAAAAAAAwgkAAAAAAABCBQAAAAAAAOIRAAAAAAADIhkAAAAAAADiLQAAAAAAAoI1AAAAAAAAQj0AAAAAAACSQQAAAAAAAjJFAAAAAAADkkUAAAAAAAJSQQAAAAAAAcJJAAAAAAACskUAAAAAAAIiQQAAAAAAAsIxAAAAAAAAMkUAAAAAAAGiNQAAAAAAAsIlAAAAAAACQhkAAAAAAAMCGQAAAAAAAmIVAAAAAAACghEAAAAAAAIiBQAAAAAAAGIBAAAAAAAAAfEAAAAAAAAB7QAAAAAAAcH5AAAAAAABAdkAAAAAAACB0QAAAAAAAYHhAAAAAAABAdkAAAAAAAFB1QAAAAAAAgHFAAAAAAACwd0AAAAAAAIBtQAAAAAAA0HBAAAAAAADAbUAAAAAAAEBtQAAAAAAAwGBAAAAAAADAYkAAAAAAAIBcQAAAAAAAgFtAAAAAAACAVEAAAAAAAMBQQAAAAAAAgExAAAAAAAAAPUAAAAAAAAA6QAAAAAAAADBAAAAAAAAANEAAAAAAAAAAQAAAAAAAAPA/AAAAAAAAHEAAAAAAAADwPwAAAAAAAPA/"
         },
         "x": {
          "dtype": "f8",
          "bdata": "AAAAAAAAM0AAAAAAAAA0QAAAAAAAADVAAAAAAAAANkAAAAAAAAA3QAAAAAAAADhAAAAAAAAAOUAAAAAAAAA6QAAAAAAAADtAAAAAAAAAPEAAAAAAAAA9QAAAAAAAAD5AAAAAAAAAP0AAAAAAAABAQAAAAAAAgEBAAAAAAAAAQUAAAAAAAIBBQAAAAAAAAEJAAAAAAACAQkAAAAAAAABDQAAAAAAAgENAAAAAAAAAREAAAAAAAIBEQA4ldbRe/URAAAAAAAAARUAAAAAAAIBFQAAAAAAAAEZAAAAAAACARkAAAAAAAABHQAAAAAAAgEdAAAAAAAAASEAAAAAAAIBIQAAAAAAAAElAAAAAAACASUAAAAAAAABKQAAAAAAAgEpAAAAAAAAAS0AAAAAAAIBLQAAAAAAAAExAAAAAAACATEAAAAAAAABNQAAAAAAAgE1AAAAAAAAATkAAAAAAAIBOQAAAAAAAAE9AAAAAAACAT0AAAAAAAABQQAAAAAAAQFBAAAAAAACAUEAAAAAAAMBQQAAAAAAAAFFAAAAAAABAUUAAAAAAAIBRQAAAAAAAwFFAAAAAAAAAUkAAAAAAAEBSQAAAAAAAgFJAAAAAAADAUkAAAAAAAABTQAAAAAAAQFNAAAAAAACAU0AAAAAAAMBTQAAAAAAAAFRAAAAAAABAVEAAAAAAAMBUQAAAAAAAAFVA"
         },
         "y": {
          "dtype": "f8",
          "bdata": "VlVVVVXVVEC3bdu2bdtRQC+66KKLLhJAHh4eHh4eM0Cgd+paDm42QD8k8PZDAjdAntiJndgJOEBdxbLxzdA6QJ4n5ixaqjVAT++x7dupQ0AsZjnyc0VIQAAAAAAAeDlAYr7qek+CQUBFF1100UVLQMrayMDWU0xA6I56YVp1RkBWpUMv4+NNQEyJ4JH+ekpAPIVEmOBkSkApcz2ExMtIQIWYajg/F09AIN72Mld4UEB9ikuGYC1LQDEa+jqyCUdA3lQ/mqgWT0A0+cizVVZQQPZJolwOGFBAB6LSkT1DUUC63UUFRDpIQLaRga2n/lFA91agz04pU0C/s1Hf2ahLQI19j8gJgktAzn4hVpRGU0DQhRzppkpTQLYR69JjPlRAlpaWlpaWVED9Av0C/QJVQP7cz/3cz1RAK8ohexfpU0CKMgJOUUZRQFZVVVVV1VRA9feE03VzUEBiJ3ZiJ35UQPWdjfrORlVAA7V+pUDtR0AG9BfQX0BRQIZki2jOmlFAXJ2RirnVRUB4OQUvp+BXQDmO4ziOQ1dA4D6C+wjuVUAsUbsStStXQK211lprLVZAiy666KJLV0CU+BklfkZYQAAAAAAAwFdAAAAAAAAAWUAAAAAAAABZQIeHh4eHh1dAAAAAAAAAWUAAAAAAAABZQAAAAAAAAFlAAAAAAAAAWUAAAAAAAABZQAAAAAAAAFlA"
         },
         "type": "scatter"
        },
        {
         "fill": "tonexty",
         "hovertemplate": "Share: %{y:.1f}%<br>Count: %{text}<extra></extra>",
         "line": {
          "color": "blue"
         },
         "mode": "lines",
         "name": "Target = 1",
         "text": {
          "dtype": "f8",
          "bdata": "AAAAAAAA8D8AAAAAAAAQQAAAAAAAQGpAAAAAAACAW0AAAAAAACBvQAAAAAAAMHtAAAAAAADAg0AAAAAAAHiEQAAAAAAAnJBAAAAAAAAIgkAAAAAAALB8QAAAAAAAXJZAAAAAAADgkEAAAAAAAHB8QAAAAAAA8H5AAAAAAADwi0AAAAAAAFCCQAAAAAAAUIpAAAAAAADIi0AAAAAAAGiQQAAAAAAAWIVAAAAAAACIgkAAAAAAANiLQAAAAAAAlJVAAAAAAACAhUAAAAAAAIiBQAAAAAAAwH9AAAAAAACQfkAAAAAAAEiPQAAAAAAAAHRAAAAAAACAa0AAAAAAAGCCQAAAAAAAqIFAAAAAAACAaEAAAAAAAMBkQAAAAAAAQF5AAAAAAAAAWEAAAAAAAIBUQAAAAAAAgFhAAAAAAADAVkAAAAAAAABiQAAAAAAAgFNAAAAAAAAgZ0AAAAAAAMBSQAAAAAAAgEhAAAAAAADQeUAAAAAAAIBaQAAAAAAAQFxAAAAAAAAwc0AAAAAAAAAmQAAAAAAAACRAAAAAAAAANUAAAAAAAAAiQAAAAAAAACxAAAAAAAAAGEAAAAAAAAAAQAAAAAAAAAhAAAAAAAAA+H8AAAAAAAD4fwAAAAAAAPA/AAAAAAAA+H8AAAAAAAD4fwAAAAAAAPh/AAAAAAAA+H8AAAAAAAD4fwAAAAAAAPh/"
         },
         "x": {
          "dtype": "f8",
          "bdata": "AAAAAAAAM0AAAAAAAAA0QAAAAAAAADVAAAAAAAAANkAAAAAAAAA3QAAAAAAAADhAAAAAAAAAOUAAAAAAAAA6QAAAAAAAADtAAAAAAAAAPEAAAAAAAAA9QAAAAAAAAD5AAAAAAAAAP0AAAAAAAABAQAAAAAAAgEBAAAAAAAAAQUAAAAAAAIBBQAAAAAAAAEJAAAAAAACAQkAAAAAAAABDQAAAAAAAgENAAAAAAAAAREAAAAAAAIBEQA4ldbRe/URAAAAAAAAARUAAAAAAAIBFQAAAAAAAAEZAAAAAAACARkAAAAAAAABHQAAAAAAAgEdAAAAAAAAASEAAAAAAAIBIQAAAAAAAAElAAAAAAACASUAAAAAAAABKQAAAAAAAgEpAAAAAAAAAS0AAAAAAAIBLQAAAAAAAAExAAAAAAACATEAAAAAAAABNQAAAAAAAgE1AAAAAAAAATkAAAAAAAIBOQAAAAAAAAE9AAAAAAACAT0AAAAAAAABQQAAAAAAAQFBAAAAAAACAUEAAAAAAAMBQQAAAAAAAAFFAAAAAAABAUUAAAAAAAIBRQAAAAAAAwFFAAAAAAAAAUkAAAAAAAEBSQAAAAAAAgFJAAAAAAADAUkAAAAAAAABTQAAAAAAAQFNAAAAAAACAU0AAAAAAAMBTQAAAAAAAAFRAAAAAAABAVEAAAAAAAMBUQAAAAAAAAFVA"
         },
         "y": {
          "dtype": "f8",
          "bdata": "qqqqqqqqMEAkSZIkSZI8QF100UUX3VdAeXh4eHg4VEAYYkVpfGRTQPD2QwJvP1NA2Imd2In9UkCoTpODzEtSQBh2xnRplVNAsRBOEiRWTkDUmcYNjLpJQAAAAAAAolJAz6CKQtg+UEC66KKLLrpGQDYlNz8prEVAGHGFnqWKS0CpWrzQHBxEQLR2H24BhUdAxHq7Zx+bR0DXjMJ7OzRJQHpnlcfA6EJAwkMSmlEPQUCCdbR5n9JGQNDlBcVN9kpAI6vAZVfpQkCZDW6YVFNBQBNsu0bjz0FA5ne1uAnzPkBGIrr6u8VJQCq5+UlhBTxAJaR+wcRaN0BBTK4gJldGQHKCcDf2fUZAyQR6p67lNkDC6I1bZNU2QCm5U7RwBjNApqWlpaWlMUAX6BfoF+gvQAiMwAiMwDBAVtd4E6JbNEDXNffHuuY+QKqqqqqqqjBAFxD2WBQZQUB2Yid2YgcyQFcQkyuIyS1A/kqBWr8SSkDoL6C/gP4+QOht0l3GlD1ApGJudUYqTEB9aKwPjfURQHIcx3EcxxtA+wjuI7iPKEBE7UrUrkQdQJRSSimllCZARRdddNFFG0Bz7cBcOzAHQAAAAAAAABRAAAAAAAAA+H8AAAAAAAD4f4eHh4eHhxdAAAAAAAAA+H8AAAAAAAD4fwAAAAAAAPh/AAAAAAAA+H8AAAAAAAD4fwAAAAAAAPh/"
         },
         "type": "scatter"
        }
       ],
       "layout": {
        "template": {
         "data": {
          "histogram2dcontour": [
           {
            "type": "histogram2dcontour",
            "colorbar": {
             "outlinewidth": 0,
             "ticks": ""
            },
            "colorscale": [
             [
              0.0,
              "#0d0887"
             ],
             [
              0.1111111111111111,
              "#46039f"
             ],
             [
              0.2222222222222222,
              "#7201a8"
             ],
             [
              0.3333333333333333,
              "#9c179e"
             ],
             [
              0.4444444444444444,
              "#bd3786"
             ],
             [
              0.5555555555555556,
              "#d8576b"
             ],
             [
              0.6666666666666666,
              "#ed7953"
             ],
             [
              0.7777777777777778,
              "#fb9f3a"
             ],
             [
              0.8888888888888888,
              "#fdca26"
             ],
             [
              1.0,
              "#f0f921"
             ]
            ]
           }
          ],
          "choropleth": [
           {
            "type": "choropleth",
            "colorbar": {
             "outlinewidth": 0,
             "ticks": ""
            }
           }
          ],
          "histogram2d": [
           {
            "type": "histogram2d",
            "colorbar": {
             "outlinewidth": 0,
             "ticks": ""
            },
            "colorscale": [
             [
              0.0,
              "#0d0887"
             ],
             [
              0.1111111111111111,
              "#46039f"
             ],
             [
              0.2222222222222222,
              "#7201a8"
             ],
             [
              0.3333333333333333,
              "#9c179e"
             ],
             [
              0.4444444444444444,
              "#bd3786"
             ],
             [
              0.5555555555555556,
              "#d8576b"
             ],
             [
              0.6666666666666666,
              "#ed7953"
             ],
             [
              0.7777777777777778,
              "#fb9f3a"
             ],
             [
              0.8888888888888888,
              "#fdca26"
             ],
             [
              1.0,
              "#f0f921"
             ]
            ]
           }
          ],
          "heatmap": [
           {
            "type": "heatmap",
            "colorbar": {
             "outlinewidth": 0,
             "ticks": ""
            },
            "colorscale": [
             [
              0.0,
              "#0d0887"
             ],
             [
              0.1111111111111111,
              "#46039f"
             ],
             [
              0.2222222222222222,
              "#7201a8"
             ],
             [
              0.3333333333333333,
              "#9c179e"
             ],
             [
              0.4444444444444444,
              "#bd3786"
             ],
             [
              0.5555555555555556,
              "#d8576b"
             ],
             [
              0.6666666666666666,
              "#ed7953"
             ],
             [
              0.7777777777777778,
              "#fb9f3a"
             ],
             [
              0.8888888888888888,
              "#fdca26"
             ],
             [
              1.0,
              "#f0f921"
             ]
            ]
           }
          ],
          "contourcarpet": [
           {
            "type": "contourcarpet",
            "colorbar": {
             "outlinewidth": 0,
             "ticks": ""
            }
           }
          ],
          "contour": [
           {
            "type": "contour",
            "colorbar": {
             "outlinewidth": 0,
             "ticks": ""
            },
            "colorscale": [
             [
              0.0,
              "#0d0887"
             ],
             [
              0.1111111111111111,
              "#46039f"
             ],
             [
              0.2222222222222222,
              "#7201a8"
             ],
             [
              0.3333333333333333,
              "#9c179e"
             ],
             [
              0.4444444444444444,
              "#bd3786"
             ],
             [
              0.5555555555555556,
              "#d8576b"
             ],
             [
              0.6666666666666666,
              "#ed7953"
             ],
             [
              0.7777777777777778,
              "#fb9f3a"
             ],
             [
              0.8888888888888888,
              "#fdca26"
             ],
             [
              1.0,
              "#f0f921"
             ]
            ]
           }
          ],
          "surface": [
           {
            "type": "surface",
            "colorbar": {
             "outlinewidth": 0,
             "ticks": ""
            },
            "colorscale": [
             [
              0.0,
              "#0d0887"
             ],
             [
              0.1111111111111111,
              "#46039f"
             ],
             [
              0.2222222222222222,
              "#7201a8"
             ],
             [
              0.3333333333333333,
              "#9c179e"
             ],
             [
              0.4444444444444444,
              "#bd3786"
             ],
             [
              0.5555555555555556,
              "#d8576b"
             ],
             [
              0.6666666666666666,
              "#ed7953"
             ],
             [
              0.7777777777777778,
              "#fb9f3a"
             ],
             [
              0.8888888888888888,
              "#fdca26"
             ],
             [
              1.0,
              "#f0f921"
             ]
            ]
           }
          ],
          "mesh3d": [
           {
            "type": "mesh3d",
            "colorbar": {
             "outlinewidth": 0,
             "ticks": ""
            }
           }
          ],
          "scatter": [
           {
            "marker": {
             "line": {
              "color": "#283442"
             }
            },
            "type": "scatter"
           }
          ],
          "parcoords": [
           {
            "type": "parcoords",
            "line": {
             "colorbar": {
              "outlinewidth": 0,
              "ticks": ""
             }
            }
           }
          ],
          "scatterpolargl": [
           {
            "type": "scatterpolargl",
            "marker": {
             "colorbar": {
              "outlinewidth": 0,
              "ticks": ""
             }
            }
           }
          ],
          "bar": [
           {
            "error_x": {
             "color": "#f2f5fa"
            },
            "error_y": {
             "color": "#f2f5fa"
            },
            "marker": {
             "line": {
              "color": "rgb(17,17,17)",
              "width": 0.5
             },
             "pattern": {
              "fillmode": "overlay",
              "size": 10,
              "solidity": 0.2
             }
            },
            "type": "bar"
           }
          ],
          "scattergeo": [
           {
            "type": "scattergeo",
            "marker": {
             "colorbar": {
              "outlinewidth": 0,
              "ticks": ""
             }
            }
           }
          ],
          "scatterpolar": [
           {
            "type": "scatterpolar",
            "marker": {
             "colorbar": {
              "outlinewidth": 0,
              "ticks": ""
             }
            }
           }
          ],
          "histogram": [
           {
            "marker": {
             "pattern": {
              "fillmode": "overlay",
              "size": 10,
              "solidity": 0.2
             }
            },
            "type": "histogram"
           }
          ],
          "scattergl": [
           {
            "marker": {
             "line": {
              "color": "#283442"
             }
            },
            "type": "scattergl"
           }
          ],
          "scatter3d": [
           {
            "type": "scatter3d",
            "line": {
             "colorbar": {
              "outlinewidth": 0,
              "ticks": ""
             }
            },
            "marker": {
             "colorbar": {
              "outlinewidth": 0,
              "ticks": ""
             }
            }
           }
          ],
          "scattermap": [
           {
            "type": "scattermap",
            "marker": {
             "colorbar": {
              "outlinewidth": 0,
              "ticks": ""
             }
            }
           }
          ],
          "scattermapbox": [
           {
            "type": "scattermapbox",
            "marker": {
             "colorbar": {
              "outlinewidth": 0,
              "ticks": ""
             }
            }
           }
          ],
          "scatterternary": [
           {
            "type": "scatterternary",
            "marker": {
             "colorbar": {
              "outlinewidth": 0,
              "ticks": ""
             }
            }
           }
          ],
          "scattercarpet": [
           {
            "type": "scattercarpet",
            "marker": {
             "colorbar": {
              "outlinewidth": 0,
              "ticks": ""
             }
            }
           }
          ],
          "carpet": [
           {
            "aaxis": {
             "endlinecolor": "#A2B1C6",
             "gridcolor": "#506784",
             "linecolor": "#506784",
             "minorgridcolor": "#506784",
             "startlinecolor": "#A2B1C6"
            },
            "baxis": {
             "endlinecolor": "#A2B1C6",
             "gridcolor": "#506784",
             "linecolor": "#506784",
             "minorgridcolor": "#506784",
             "startlinecolor": "#A2B1C6"
            },
            "type": "carpet"
           }
          ],
          "table": [
           {
            "cells": {
             "fill": {
              "color": "#506784"
             },
             "line": {
              "color": "rgb(17,17,17)"
             }
            },
            "header": {
             "fill": {
              "color": "#2a3f5f"
             },
             "line": {
              "color": "rgb(17,17,17)"
             }
            },
            "type": "table"
           }
          ],
          "barpolar": [
           {
            "marker": {
             "line": {
              "color": "rgb(17,17,17)",
              "width": 0.5
             },
             "pattern": {
              "fillmode": "overlay",
              "size": 10,
              "solidity": 0.2
             }
            },
            "type": "barpolar"
           }
          ],
          "pie": [
           {
            "automargin": true,
            "type": "pie"
           }
          ]
         },
         "layout": {
          "autotypenumbers": "strict",
          "colorway": [
           "#636efa",
           "#EF553B",
           "#00cc96",
           "#ab63fa",
           "#FFA15A",
           "#19d3f3",
           "#FF6692",
           "#B6E880",
           "#FF97FF",
           "#FECB52"
          ],
          "font": {
           "color": "#f2f5fa"
          },
          "hovermode": "closest",
          "hoverlabel": {
           "align": "left"
          },
          "paper_bgcolor": "rgb(17,17,17)",
          "plot_bgcolor": "rgb(17,17,17)",
          "polar": {
           "bgcolor": "rgb(17,17,17)",
           "angularaxis": {
            "gridcolor": "#506784",
            "linecolor": "#506784",
            "ticks": ""
           },
           "radialaxis": {
            "gridcolor": "#506784",
            "linecolor": "#506784",
            "ticks": ""
           }
          },
          "ternary": {
           "bgcolor": "rgb(17,17,17)",
           "aaxis": {
            "gridcolor": "#506784",
            "linecolor": "#506784",
            "ticks": ""
           },
           "baxis": {
            "gridcolor": "#506784",
            "linecolor": "#506784",
            "ticks": ""
           },
           "caxis": {
            "gridcolor": "#506784",
            "linecolor": "#506784",
            "ticks": ""
           }
          },
          "coloraxis": {
           "colorbar": {
            "outlinewidth": 0,
            "ticks": ""
           }
          },
          "colorscale": {
           "sequential": [
            [
             0.0,
             "#0d0887"
            ],
            [
             0.1111111111111111,
             "#46039f"
            ],
            [
             0.2222222222222222,
             "#7201a8"
            ],
            [
             0.3333333333333333,
             "#9c179e"
            ],
            [
             0.4444444444444444,
             "#bd3786"
            ],
            [
             0.5555555555555556,
             "#d8576b"
            ],
            [
             0.6666666666666666,
             "#ed7953"
            ],
            [
             0.7777777777777778,
             "#fb9f3a"
            ],
            [
             0.8888888888888888,
             "#fdca26"
            ],
            [
             1.0,
             "#f0f921"
            ]
           ],
           "sequentialminus": [
            [
             0.0,
             "#0d0887"
            ],
            [
             0.1111111111111111,
             "#46039f"
            ],
            [
             0.2222222222222222,
             "#7201a8"
            ],
            [
             0.3333333333333333,
             "#9c179e"
            ],
            [
             0.4444444444444444,
             "#bd3786"
            ],
            [
             0.5555555555555556,
             "#d8576b"
            ],
            [
             0.6666666666666666,
             "#ed7953"
            ],
            [
             0.7777777777777778,
             "#fb9f3a"
            ],
            [
             0.8888888888888888,
             "#fdca26"
            ],
            [
             1.0,
             "#f0f921"
            ]
           ],
           "diverging": [
            [
             0,
             "#8e0152"
            ],
            [
             0.1,
             "#c51b7d"
            ],
            [
             0.2,
             "#de77ae"
            ],
            [
             0.3,
             "#f1b6da"
            ],
            [
             0.4,
             "#fde0ef"
            ],
            [
             0.5,
             "#f7f7f7"
            ],
            [
             0.6,
             "#e6f5d0"
            ],
            [
             0.7,
             "#b8e186"
            ],
            [
             0.8,
             "#7fbc41"
            ],
            [
             0.9,
             "#4d9221"
            ],
            [
             1,
             "#276419"
            ]
           ]
          },
          "xaxis": {
           "gridcolor": "#283442",
           "linecolor": "#506784",
           "ticks": "",
           "title": {
            "standoff": 15
           },
           "zerolinecolor": "#283442",
           "automargin": true,
           "zerolinewidth": 2
          },
          "yaxis": {
           "gridcolor": "#283442",
           "linecolor": "#506784",
           "ticks": "",
           "title": {
            "standoff": 15
           },
           "zerolinecolor": "#283442",
           "automargin": true,
           "zerolinewidth": 2
          },
          "scene": {
           "xaxis": {
            "backgroundcolor": "rgb(17,17,17)",
            "gridcolor": "#506784",
            "linecolor": "#506784",
            "showbackground": true,
            "ticks": "",
            "zerolinecolor": "#C8D4E3",
            "gridwidth": 2
           },
           "yaxis": {
            "backgroundcolor": "rgb(17,17,17)",
            "gridcolor": "#506784",
            "linecolor": "#506784",
            "showbackground": true,
            "ticks": "",
            "zerolinecolor": "#C8D4E3",
            "gridwidth": 2
           },
           "zaxis": {
            "backgroundcolor": "rgb(17,17,17)",
            "gridcolor": "#506784",
            "linecolor": "#506784",
            "showbackground": true,
            "ticks": "",
            "zerolinecolor": "#C8D4E3",
            "gridwidth": 2
           }
          },
          "shapedefaults": {
           "line": {
            "color": "#f2f5fa"
           }
          },
          "annotationdefaults": {
           "arrowcolor": "#f2f5fa",
           "arrowhead": 0,
           "arrowwidth": 1
          },
          "geo": {
           "bgcolor": "rgb(17,17,17)",
           "landcolor": "rgb(17,17,17)",
           "subunitcolor": "#506784",
           "showland": true,
           "showlakes": true,
           "lakecolor": "rgb(17,17,17)"
          },
          "title": {
           "x": 0.05
          },
          "updatemenudefaults": {
           "bgcolor": "#506784",
           "borderwidth": 0
          },
          "sliderdefaults": {
           "bgcolor": "#C8D4E3",
           "borderwidth": 1,
           "bordercolor": "rgb(17,17,17)",
           "tickwidth": 0
          },
          "mapbox": {
           "style": "dark"
          }
         }
        },
        "yaxis": {
         "title": {
          "text": "%"
         },
         "range": [
          0,
          100
         ],
         "ticksuffix": "%"
        },
        "title": {
         "text": "Распределение целевого признака по resume_age"
        },
        "xaxis": {
         "title": {
          "text": "resume_age"
         }
        },
        "plot_bgcolor": "white"
       },
       "config": {
        "plotlyServerURL": "https://plot.ly"
       }
      }
     },
     "metadata": {},
     "output_type": "display_data",
     "jetTransient": {
      "display_id": null
     }
    }
   ],
   "execution_count": 39
  },
  {
   "metadata": {
    "ExecuteTime": {
     "end_time": "2025-10-26T11:44:15.200568Z",
     "start_time": "2025-10-26T11:44:15.184509Z"
    }
   },
   "cell_type": "code",
   "source": "create_scatter_chart(df[df.resume_gender == 'Женщина'], 'resume_age')",
   "id": "cb06d9ee6239d48e",
   "outputs": [
    {
     "data": {
      "application/vnd.plotly.v1+json": {
       "data": [
        {
         "fill": "tonexty",
         "hovertemplate": "Share: %{y:.1f}%<br>Count: %{text}<extra></extra>",
         "line": {
          "color": "red"
         },
         "mode": "lines",
         "name": "Target = 0",
         "text": {
          "dtype": "f8",
          "bdata": "AAAAAAAAFEAAAAAAAAAUQAAAAAAAADRAAAAAAAAARUAAAAAAAIBJQAAAAAAAAFFAAAAAAACAVUAAAAAAAIBWQAAAAAAAAGJAAAAAAACgYkAAAAAAAOBhQAAAAAAAAGVAAAAAAACgZ0AAAAAAAKBjQAAAAAAAQGRAAAAAAABga0AAAAAAAEBrQAAAAAAAoGxAAAAAAADgbUAAAAAAAABuQAAAAAAAgHhAAAAAAAAgZUAAAAAAACBoQAAAAAAAIGhAAAAAAABgZUAAAAAAACBiQAAAAAAAgFtAAAAAAADAWEAAAAAAAABaQAAAAAAAgFNAAAAAAABAUUAAAAAAAIBYQAAAAAAAwFRAAAAAAAAAS0AAAAAAAABLQAAAAAAAAEdAAAAAAACATEAAAAAAAEBQQAAAAAAAgE1AAAAAAAAAPUAAAAAAAAA+QAAAAAAAADRAAAAAAACASUAAAAAAAIBDQAAAAAAAADdAAAAAAAAAQEAAAAAAAAA2QAAAAAAAACZAAAAAAAAAFEAAAAAAAAAzQAAAAAAAAC5AAAAAAAAAIEAAAAAAAAAiQAAAAAAAAABAAAAAAAAA8D8="
         },
         "x": {
          "dtype": "f8",
          "bdata": "AAAAAAAANkAAAAAAAAA3QAAAAAAAADhAAAAAAAAAOUAAAAAAAAA6QAAAAAAAADtAAAAAAAAAPEAAAAAAAAA9QAAAAAAAAD5AAAAAAAAAP0AAAAAAAABAQAAAAAAAgEBAAAAAAAAAQUAAAAAAAIBBQAAAAAAAAEJAAAAAAACAQkAAAAAAAABDQAAAAAAAgENAAAAAAAAAREAAAAAAAIBEQA4ldbRe/URAAAAAAAAARUAAAAAAAIBFQAAAAAAAAEZAAAAAAACARkAAAAAAAABHQAAAAAAAgEdAAAAAAAAASEAAAAAAAIBIQAAAAAAAAElAAAAAAACASUAAAAAAAABKQAAAAAAAgEpAAAAAAAAAS0AAAAAAAIBLQAAAAAAAAExAAAAAAACATEAAAAAAAABNQAAAAAAAgE1AAAAAAAAATkAAAAAAAIBOQAAAAAAAAE9AAAAAAACAT0AAAAAAAABQQAAAAAAAQFBAAAAAAACAUEAAAAAAAMBQQAAAAAAAAFFAAAAAAABAUUAAAAAAAIBRQAAAAAAAwFFAAAAAAAAAUkAAAAAAAEBSQAAAAAAAwFJAAAAAAAAAVEA="
         },
         "y": {
          "dtype": "f8",
          "bdata": "VlVVVVXVVEBqaWlpaWkdQPM8z/M8z1dAxc8o8TNKNEDCyyl4OQVKQMIbTZ1fe0RAVlVVVVVlVkCllFJKKSVSQJXhG1Fg0lFAJw5jtfW3UkAAAAAAAOBRQGK7WZ5EplVAAAAAAABoUEAT2LSfLAFSQHXRRRdddFRAxLydITFvUkAot3hyiydWQJ5XQONunT5AV6J2JWo3UkDbtm3btm1VQJxTh6uRf1BAjuM4juN4V0CsD431obFTQKrwVHgqPFZATMN2szwJVkD44IMPPvhVQLrooosuulZARnGuYxTnVUDDxPuR03xVQOaeRljuaVZAOrJnICodPUBmgmiZIFpCQJoHuetni1RAcyDRCpsDU0DyGsprKK9XQF5OwcspeFdAAAAAAAAAWUAqVKhQoUJWQBQ7sRM7sVZAAAAAAACoVkAAAAAAAABZQAAAAAAAAFlATuzETuyEWEDI4HwMzsdXQAAAAAAAAFlA8lk3mCKfVUCqqqqqqupWQKqqqqqq6lZAVlVVVVXVVEAAAAAAAABZQAAAAAAAcFdAAAAAAAAAWUAAAAAAAABZQKqqqqqqqlBAAAAAAAAAWUA="
         },
         "type": "scatter"
        },
        {
         "fill": "tonexty",
         "hovertemplate": "Share: %{y:.1f}%<br>Count: %{text}<extra></extra>",
         "line": {
          "color": "blue"
         },
         "mode": "lines",
         "name": "Target = 1",
         "text": {
          "dtype": "f8",
          "bdata": "AAAAAAAA8D8AAAAAAIBPQAAAAAAAAPA/AAAAAACgZEAAAAAAAIBHQAAAAAAAgFhAAAAAAAAAJEAAAAAAAABBQAAAAAAAAE1AAAAAAAAASUAAAAAAAIBMQAAAAAAAADpAAAAAAADAWEAAAAAAAIBOQAAAAAAAAEJAAAAAAACAU0AAAAAAAAA8QAAAAAAAOIBAAAAAAABAVkAAAAAAAABEQAAAAAAAQGlAAAAAAAAAJkAAAAAAAABKQAAAAAAAADhAAAAAAAAAN0AAAAAAAAA0QAAAAAAAACZAAAAAAAAALEAAAAAAAAAxQAAAAAAAACJAAAAAAAAAZUAAAAAAACBlQAAAAAAAADJAAAAAAAAAMUAAAAAAAAAIQAAAAAAAAAhAAAAAAAAA+H8AAAAAAAAgQAAAAAAAABhAAAAAAAAACEAAAAAAAAD4fwAAAAAAAPh/AAAAAAAA8D8AAAAAAAAAQAAAAAAAAPh/AAAAAAAAFEAAAAAAAAAAQAAAAAAAAPA/AAAAAAAA8D8AAAAAAAD4fwAAAAAAAPA/AAAAAAAA+H8AAAAAAAD4fwAAAAAAAPA/AAAAAAAA+H8="
         },
         "x": {
          "dtype": "f8",
          "bdata": "AAAAAAAANkAAAAAAAAA3QAAAAAAAADhAAAAAAAAAOUAAAAAAAAA6QAAAAAAAADtAAAAAAAAAPEAAAAAAAAA9QAAAAAAAAD5AAAAAAAAAP0AAAAAAAABAQAAAAAAAgEBAAAAAAAAAQUAAAAAAAIBBQAAAAAAAAEJAAAAAAACAQkAAAAAAAABDQAAAAAAAgENAAAAAAAAAREAAAAAAAIBEQA4ldbRe/URAAAAAAAAARUAAAAAAAIBFQAAAAAAAAEZAAAAAAACARkAAAAAAAABHQAAAAAAAgEdAAAAAAAAASEAAAAAAAIBIQAAAAAAAAElAAAAAAACASUAAAAAAAABKQAAAAAAAgEpAAAAAAAAAS0AAAAAAAIBLQAAAAAAAAExAAAAAAACATEAAAAAAAABNQAAAAAAAgE1AAAAAAAAATkAAAAAAAIBOQAAAAAAAAE9AAAAAAACAT0AAAAAAAABQQAAAAAAAQFBAAAAAAACAUEAAAAAAAMBQQAAAAAAAAFFAAAAAAABAUUAAAAAAAIBRQAAAAAAAwFFAAAAAAAAAUkAAAAAAAEBSQAAAAAAAwFJAAAAAAAAAVEA="
         },
         "y": {
          "dtype": "f8",
          "bdata": "qqqqqqqqMEBqaWlpaSlXQMMwDMMwDBNAD8y1A3PtU0A+NNaHxvpHQD7ksmKghE1AVlVVVVXVJEBrrbXWWms7QKl5kLt+tjxAZcdzKikgOUD//////388QPMkMg3bzSpAAAAAAAAwQUC0nyyBTfs7QC+66KKLLjJA7wyJeTtDOkDDRjpspMMmQBnqL0ekWFFAo3YlalciO0AkSZIkSZIsQMhY8ajcAEFAHMdxHMdxGEBOwcspeDk1QLF6WD2sHiZAm+VJZBq2J0A++OCDDz4oQC+66KKLLiJAznWM4lzHKEDr2SFwYxksQNQIyz2NsCRAcRPmd7W4UUCafZdm36VPQJXhG1Fg0jFAMn671JPxN0DXUF5DeQ0VQB8a60NjfRhAAAAAAAAA+H+vXr169eolQGMndmIndiJAAAAAAADAIkAAAAAAAAD4fwAAAAAAAPh/T+zETuzE/j+D8zE4H4MTQAAAAAAAAPh/bzBFPusGK0CqqqqqqqogQKqqqqqqqiBAqqqqqqqqMEAAAAAAAAD4fwAAAAAAABlAAAAAAAAA+H8AAAAAAAD4f6qqqqqqqkBAAAAAAAAA+H8="
         },
         "type": "scatter"
        }
       ],
       "layout": {
        "template": {
         "data": {
          "histogram2dcontour": [
           {
            "type": "histogram2dcontour",
            "colorbar": {
             "outlinewidth": 0,
             "ticks": ""
            },
            "colorscale": [
             [
              0.0,
              "#0d0887"
             ],
             [
              0.1111111111111111,
              "#46039f"
             ],
             [
              0.2222222222222222,
              "#7201a8"
             ],
             [
              0.3333333333333333,
              "#9c179e"
             ],
             [
              0.4444444444444444,
              "#bd3786"
             ],
             [
              0.5555555555555556,
              "#d8576b"
             ],
             [
              0.6666666666666666,
              "#ed7953"
             ],
             [
              0.7777777777777778,
              "#fb9f3a"
             ],
             [
              0.8888888888888888,
              "#fdca26"
             ],
             [
              1.0,
              "#f0f921"
             ]
            ]
           }
          ],
          "choropleth": [
           {
            "type": "choropleth",
            "colorbar": {
             "outlinewidth": 0,
             "ticks": ""
            }
           }
          ],
          "histogram2d": [
           {
            "type": "histogram2d",
            "colorbar": {
             "outlinewidth": 0,
             "ticks": ""
            },
            "colorscale": [
             [
              0.0,
              "#0d0887"
             ],
             [
              0.1111111111111111,
              "#46039f"
             ],
             [
              0.2222222222222222,
              "#7201a8"
             ],
             [
              0.3333333333333333,
              "#9c179e"
             ],
             [
              0.4444444444444444,
              "#bd3786"
             ],
             [
              0.5555555555555556,
              "#d8576b"
             ],
             [
              0.6666666666666666,
              "#ed7953"
             ],
             [
              0.7777777777777778,
              "#fb9f3a"
             ],
             [
              0.8888888888888888,
              "#fdca26"
             ],
             [
              1.0,
              "#f0f921"
             ]
            ]
           }
          ],
          "heatmap": [
           {
            "type": "heatmap",
            "colorbar": {
             "outlinewidth": 0,
             "ticks": ""
            },
            "colorscale": [
             [
              0.0,
              "#0d0887"
             ],
             [
              0.1111111111111111,
              "#46039f"
             ],
             [
              0.2222222222222222,
              "#7201a8"
             ],
             [
              0.3333333333333333,
              "#9c179e"
             ],
             [
              0.4444444444444444,
              "#bd3786"
             ],
             [
              0.5555555555555556,
              "#d8576b"
             ],
             [
              0.6666666666666666,
              "#ed7953"
             ],
             [
              0.7777777777777778,
              "#fb9f3a"
             ],
             [
              0.8888888888888888,
              "#fdca26"
             ],
             [
              1.0,
              "#f0f921"
             ]
            ]
           }
          ],
          "contourcarpet": [
           {
            "type": "contourcarpet",
            "colorbar": {
             "outlinewidth": 0,
             "ticks": ""
            }
           }
          ],
          "contour": [
           {
            "type": "contour",
            "colorbar": {
             "outlinewidth": 0,
             "ticks": ""
            },
            "colorscale": [
             [
              0.0,
              "#0d0887"
             ],
             [
              0.1111111111111111,
              "#46039f"
             ],
             [
              0.2222222222222222,
              "#7201a8"
             ],
             [
              0.3333333333333333,
              "#9c179e"
             ],
             [
              0.4444444444444444,
              "#bd3786"
             ],
             [
              0.5555555555555556,
              "#d8576b"
             ],
             [
              0.6666666666666666,
              "#ed7953"
             ],
             [
              0.7777777777777778,
              "#fb9f3a"
             ],
             [
              0.8888888888888888,
              "#fdca26"
             ],
             [
              1.0,
              "#f0f921"
             ]
            ]
           }
          ],
          "surface": [
           {
            "type": "surface",
            "colorbar": {
             "outlinewidth": 0,
             "ticks": ""
            },
            "colorscale": [
             [
              0.0,
              "#0d0887"
             ],
             [
              0.1111111111111111,
              "#46039f"
             ],
             [
              0.2222222222222222,
              "#7201a8"
             ],
             [
              0.3333333333333333,
              "#9c179e"
             ],
             [
              0.4444444444444444,
              "#bd3786"
             ],
             [
              0.5555555555555556,
              "#d8576b"
             ],
             [
              0.6666666666666666,
              "#ed7953"
             ],
             [
              0.7777777777777778,
              "#fb9f3a"
             ],
             [
              0.8888888888888888,
              "#fdca26"
             ],
             [
              1.0,
              "#f0f921"
             ]
            ]
           }
          ],
          "mesh3d": [
           {
            "type": "mesh3d",
            "colorbar": {
             "outlinewidth": 0,
             "ticks": ""
            }
           }
          ],
          "scatter": [
           {
            "marker": {
             "line": {
              "color": "#283442"
             }
            },
            "type": "scatter"
           }
          ],
          "parcoords": [
           {
            "type": "parcoords",
            "line": {
             "colorbar": {
              "outlinewidth": 0,
              "ticks": ""
             }
            }
           }
          ],
          "scatterpolargl": [
           {
            "type": "scatterpolargl",
            "marker": {
             "colorbar": {
              "outlinewidth": 0,
              "ticks": ""
             }
            }
           }
          ],
          "bar": [
           {
            "error_x": {
             "color": "#f2f5fa"
            },
            "error_y": {
             "color": "#f2f5fa"
            },
            "marker": {
             "line": {
              "color": "rgb(17,17,17)",
              "width": 0.5
             },
             "pattern": {
              "fillmode": "overlay",
              "size": 10,
              "solidity": 0.2
             }
            },
            "type": "bar"
           }
          ],
          "scattergeo": [
           {
            "type": "scattergeo",
            "marker": {
             "colorbar": {
              "outlinewidth": 0,
              "ticks": ""
             }
            }
           }
          ],
          "scatterpolar": [
           {
            "type": "scatterpolar",
            "marker": {
             "colorbar": {
              "outlinewidth": 0,
              "ticks": ""
             }
            }
           }
          ],
          "histogram": [
           {
            "marker": {
             "pattern": {
              "fillmode": "overlay",
              "size": 10,
              "solidity": 0.2
             }
            },
            "type": "histogram"
           }
          ],
          "scattergl": [
           {
            "marker": {
             "line": {
              "color": "#283442"
             }
            },
            "type": "scattergl"
           }
          ],
          "scatter3d": [
           {
            "type": "scatter3d",
            "line": {
             "colorbar": {
              "outlinewidth": 0,
              "ticks": ""
             }
            },
            "marker": {
             "colorbar": {
              "outlinewidth": 0,
              "ticks": ""
             }
            }
           }
          ],
          "scattermap": [
           {
            "type": "scattermap",
            "marker": {
             "colorbar": {
              "outlinewidth": 0,
              "ticks": ""
             }
            }
           }
          ],
          "scattermapbox": [
           {
            "type": "scattermapbox",
            "marker": {
             "colorbar": {
              "outlinewidth": 0,
              "ticks": ""
             }
            }
           }
          ],
          "scatterternary": [
           {
            "type": "scatterternary",
            "marker": {
             "colorbar": {
              "outlinewidth": 0,
              "ticks": ""
             }
            }
           }
          ],
          "scattercarpet": [
           {
            "type": "scattercarpet",
            "marker": {
             "colorbar": {
              "outlinewidth": 0,
              "ticks": ""
             }
            }
           }
          ],
          "carpet": [
           {
            "aaxis": {
             "endlinecolor": "#A2B1C6",
             "gridcolor": "#506784",
             "linecolor": "#506784",
             "minorgridcolor": "#506784",
             "startlinecolor": "#A2B1C6"
            },
            "baxis": {
             "endlinecolor": "#A2B1C6",
             "gridcolor": "#506784",
             "linecolor": "#506784",
             "minorgridcolor": "#506784",
             "startlinecolor": "#A2B1C6"
            },
            "type": "carpet"
           }
          ],
          "table": [
           {
            "cells": {
             "fill": {
              "color": "#506784"
             },
             "line": {
              "color": "rgb(17,17,17)"
             }
            },
            "header": {
             "fill": {
              "color": "#2a3f5f"
             },
             "line": {
              "color": "rgb(17,17,17)"
             }
            },
            "type": "table"
           }
          ],
          "barpolar": [
           {
            "marker": {
             "line": {
              "color": "rgb(17,17,17)",
              "width": 0.5
             },
             "pattern": {
              "fillmode": "overlay",
              "size": 10,
              "solidity": 0.2
             }
            },
            "type": "barpolar"
           }
          ],
          "pie": [
           {
            "automargin": true,
            "type": "pie"
           }
          ]
         },
         "layout": {
          "autotypenumbers": "strict",
          "colorway": [
           "#636efa",
           "#EF553B",
           "#00cc96",
           "#ab63fa",
           "#FFA15A",
           "#19d3f3",
           "#FF6692",
           "#B6E880",
           "#FF97FF",
           "#FECB52"
          ],
          "font": {
           "color": "#f2f5fa"
          },
          "hovermode": "closest",
          "hoverlabel": {
           "align": "left"
          },
          "paper_bgcolor": "rgb(17,17,17)",
          "plot_bgcolor": "rgb(17,17,17)",
          "polar": {
           "bgcolor": "rgb(17,17,17)",
           "angularaxis": {
            "gridcolor": "#506784",
            "linecolor": "#506784",
            "ticks": ""
           },
           "radialaxis": {
            "gridcolor": "#506784",
            "linecolor": "#506784",
            "ticks": ""
           }
          },
          "ternary": {
           "bgcolor": "rgb(17,17,17)",
           "aaxis": {
            "gridcolor": "#506784",
            "linecolor": "#506784",
            "ticks": ""
           },
           "baxis": {
            "gridcolor": "#506784",
            "linecolor": "#506784",
            "ticks": ""
           },
           "caxis": {
            "gridcolor": "#506784",
            "linecolor": "#506784",
            "ticks": ""
           }
          },
          "coloraxis": {
           "colorbar": {
            "outlinewidth": 0,
            "ticks": ""
           }
          },
          "colorscale": {
           "sequential": [
            [
             0.0,
             "#0d0887"
            ],
            [
             0.1111111111111111,
             "#46039f"
            ],
            [
             0.2222222222222222,
             "#7201a8"
            ],
            [
             0.3333333333333333,
             "#9c179e"
            ],
            [
             0.4444444444444444,
             "#bd3786"
            ],
            [
             0.5555555555555556,
             "#d8576b"
            ],
            [
             0.6666666666666666,
             "#ed7953"
            ],
            [
             0.7777777777777778,
             "#fb9f3a"
            ],
            [
             0.8888888888888888,
             "#fdca26"
            ],
            [
             1.0,
             "#f0f921"
            ]
           ],
           "sequentialminus": [
            [
             0.0,
             "#0d0887"
            ],
            [
             0.1111111111111111,
             "#46039f"
            ],
            [
             0.2222222222222222,
             "#7201a8"
            ],
            [
             0.3333333333333333,
             "#9c179e"
            ],
            [
             0.4444444444444444,
             "#bd3786"
            ],
            [
             0.5555555555555556,
             "#d8576b"
            ],
            [
             0.6666666666666666,
             "#ed7953"
            ],
            [
             0.7777777777777778,
             "#fb9f3a"
            ],
            [
             0.8888888888888888,
             "#fdca26"
            ],
            [
             1.0,
             "#f0f921"
            ]
           ],
           "diverging": [
            [
             0,
             "#8e0152"
            ],
            [
             0.1,
             "#c51b7d"
            ],
            [
             0.2,
             "#de77ae"
            ],
            [
             0.3,
             "#f1b6da"
            ],
            [
             0.4,
             "#fde0ef"
            ],
            [
             0.5,
             "#f7f7f7"
            ],
            [
             0.6,
             "#e6f5d0"
            ],
            [
             0.7,
             "#b8e186"
            ],
            [
             0.8,
             "#7fbc41"
            ],
            [
             0.9,
             "#4d9221"
            ],
            [
             1,
             "#276419"
            ]
           ]
          },
          "xaxis": {
           "gridcolor": "#283442",
           "linecolor": "#506784",
           "ticks": "",
           "title": {
            "standoff": 15
           },
           "zerolinecolor": "#283442",
           "automargin": true,
           "zerolinewidth": 2
          },
          "yaxis": {
           "gridcolor": "#283442",
           "linecolor": "#506784",
           "ticks": "",
           "title": {
            "standoff": 15
           },
           "zerolinecolor": "#283442",
           "automargin": true,
           "zerolinewidth": 2
          },
          "scene": {
           "xaxis": {
            "backgroundcolor": "rgb(17,17,17)",
            "gridcolor": "#506784",
            "linecolor": "#506784",
            "showbackground": true,
            "ticks": "",
            "zerolinecolor": "#C8D4E3",
            "gridwidth": 2
           },
           "yaxis": {
            "backgroundcolor": "rgb(17,17,17)",
            "gridcolor": "#506784",
            "linecolor": "#506784",
            "showbackground": true,
            "ticks": "",
            "zerolinecolor": "#C8D4E3",
            "gridwidth": 2
           },
           "zaxis": {
            "backgroundcolor": "rgb(17,17,17)",
            "gridcolor": "#506784",
            "linecolor": "#506784",
            "showbackground": true,
            "ticks": "",
            "zerolinecolor": "#C8D4E3",
            "gridwidth": 2
           }
          },
          "shapedefaults": {
           "line": {
            "color": "#f2f5fa"
           }
          },
          "annotationdefaults": {
           "arrowcolor": "#f2f5fa",
           "arrowhead": 0,
           "arrowwidth": 1
          },
          "geo": {
           "bgcolor": "rgb(17,17,17)",
           "landcolor": "rgb(17,17,17)",
           "subunitcolor": "#506784",
           "showland": true,
           "showlakes": true,
           "lakecolor": "rgb(17,17,17)"
          },
          "title": {
           "x": 0.05
          },
          "updatemenudefaults": {
           "bgcolor": "#506784",
           "borderwidth": 0
          },
          "sliderdefaults": {
           "bgcolor": "#C8D4E3",
           "borderwidth": 1,
           "bordercolor": "rgb(17,17,17)",
           "tickwidth": 0
          },
          "mapbox": {
           "style": "dark"
          }
         }
        },
        "yaxis": {
         "title": {
          "text": "%"
         },
         "range": [
          0,
          100
         ],
         "ticksuffix": "%"
        },
        "title": {
         "text": "Распределение целевого признака по resume_age"
        },
        "xaxis": {
         "title": {
          "text": "resume_age"
         }
        },
        "plot_bgcolor": "white"
       },
       "config": {
        "plotlyServerURL": "https://plot.ly"
       }
      }
     },
     "metadata": {},
     "output_type": "display_data",
     "jetTransient": {
      "display_id": null
     }
    }
   ],
   "execution_count": 40
  },
  {
   "metadata": {},
   "cell_type": "markdown",
   "source": [
    "<div style=\"background-color: #98FB98; color: black; padding: 10px; border-radius: 5px;\">\n",
    "\n",
    "Видим линейную зависимость: чем больше возраст, тем выше доля отказов, как у женщин, так и мужчин.\n",
    "\n",
    "Но надо сразу отметить, что у женщин доля отказов достигает 80% гораздо раньше, чем у мужчин (28 лет у женщин против 54 лет у мужчин)\n",
    "\n",
    "</div>"
   ],
   "id": "71d5b7414f18dd71"
  },
  {
   "metadata": {},
   "cell_type": "markdown",
   "source": [
    "<div style=\"background-color: #98FB98; color: black; padding: 10px; border-radius: 5px;\">\n",
    "\n",
    "Теперь рассмотрим влияние ожидаемой заработной платы на таргет\n",
    "\n",
    "Для этого поделим зарплату на разные бакеты, чтобы график читался легче\n",
    "\n",
    "</div>"
   ],
   "id": "8dd1befb9756605d"
  },
  {
   "metadata": {
    "ExecuteTime": {
     "end_time": "2025-10-26T11:44:15.259127Z",
     "start_time": "2025-10-26T11:44:15.229253Z"
    }
   },
   "cell_type": "code",
   "source": [
    "bucket = list(range(0, 1_000_001, 20_000)) + [np.inf]\n",
    "\n",
    "labels = [f\"{bucket[i]}–{bucket[i+1]}\" for i in range(len(bucket)-2)] + [\"1000000+\"]\n",
    "\n",
    "df[\"resume_salary_bin\"] = pd.cut(\n",
    "    df[\"resume_salary\"],\n",
    "    bins=bucket,\n",
    "    labels=labels,\n",
    "    include_lowest=True\n",
    ")\n",
    "\n",
    "create_scatter_chart(df[(df.resume_salary > 0)], 'resume_salary_bin')\n"
   ],
   "id": "b2b0b4cec0db4df7",
   "outputs": [
    {
     "name": "stderr",
     "output_type": "stream",
     "text": [
      "/var/folders/xs/dv8c_70n5xlb5kqv6rsplk15q5qd1j/T/ipykernel_1065/3721431036.py:3: FutureWarning:\n",
      "\n",
      "The default of observed=False is deprecated and will be changed to True in a future version of pandas. Pass observed=False to retain current behavior or observed=True to adopt the future default and silence this warning.\n",
      "\n",
      "/var/folders/xs/dv8c_70n5xlb5kqv6rsplk15q5qd1j/T/ipykernel_1065/3721431036.py:4: FutureWarning:\n",
      "\n",
      "The default of observed=False is deprecated and will be changed to True in a future version of pandas. Pass observed=False to retain current behavior or observed=True to adopt the future default and silence this warning.\n",
      "\n",
      "/var/folders/xs/dv8c_70n5xlb5kqv6rsplk15q5qd1j/T/ipykernel_1065/3721431036.py:5: FutureWarning:\n",
      "\n",
      "The default of observed=False is deprecated and will be changed to True in a future version of pandas. Pass observed=False to retain current behavior or observed=True to adopt the future default and silence this warning.\n",
      "\n",
      "/var/folders/xs/dv8c_70n5xlb5kqv6rsplk15q5qd1j/T/ipykernel_1065/3721431036.py:8: FutureWarning:\n",
      "\n",
      "The default of observed=False is deprecated and will be changed to True in a future version of pandas. Pass observed=False to retain current behavior or observed=True to adopt the future default and silence this warning.\n",
      "\n",
      "/var/folders/xs/dv8c_70n5xlb5kqv6rsplk15q5qd1j/T/ipykernel_1065/3721431036.py:9: FutureWarning:\n",
      "\n",
      "The default of observed=False is deprecated and will be changed to True in a future version of pandas. Pass observed=False to retain current behavior or observed=True to adopt the future default and silence this warning.\n",
      "\n",
      "/var/folders/xs/dv8c_70n5xlb5kqv6rsplk15q5qd1j/T/ipykernel_1065/3721431036.py:10: FutureWarning:\n",
      "\n",
      "The default of observed=False is deprecated and will be changed to True in a future version of pandas. Pass observed=False to retain current behavior or observed=True to adopt the future default and silence this warning.\n",
      "\n"
     ]
    },
    {
     "data": {
      "application/vnd.plotly.v1+json": {
       "data": [
        {
         "fill": "tonexty",
         "hovertemplate": "Share: %{y:.1f}%<br>Count: %{text}<extra></extra>",
         "line": {
          "color": "red"
         },
         "mode": "lines",
         "name": "Target = 0",
         "text": {
          "dtype": "f8",
          "bdata": "AAAAAABgfEAAAAAAAFSgQAAAAAAA+qdAAAAAAACqokAAAAAAAIilQAAAAAAAwI9AAAAAAACYjkAAAAAAAFSaQAAAAAAAGI5AAAAAAACQjkAAAAAAAJB2QAAAAAAA4GJAAAAAAADYi0AAAAAAAIBSQAAAAAAAoIRAAAAAAAAAPUAAAAAAAKBrQAAAAAAA4GtAAAAAAADAWEAAAAAAACBtQAAAAAAAgGJAAAAAAAAAN0AAAAAAAMBgQAAAAAAAgE1AAAAAAADgakAAAAAAAAAoQAAAAAAAACRAAAAAAAAANUAAAAAAAIBRQAAAAAAAAEJAAAAAAAAAJEAAAAAAAAAkQAAAAAAAAFBAAAAAAAAAAAAAAAAAAIBBQAAAAAAAAABAAAAAAAAAIkAAAAAAAAA/QAAAAAAAAAhAAAAAAAAAN0AAAAAAAABLQAAAAAAAAABAAAAAAAAAFEAAAAAAAAAAAAAAAAAAABBAAAAAAAAAAAAAAAAAAAAAAAAAAAAAADBAAAAAAAAAIkAAAAAAAAAqQAAAAAAAAFNA"
         },
         "x": [
          "0–20000",
          "20000–40000",
          "40000–60000",
          "60000–80000",
          "80000–100000",
          "100000–120000",
          "120000–140000",
          "140000–160000",
          "160000–180000",
          "180000–200000",
          "200000–220000",
          "220000–240000",
          "240000–260000",
          "260000–280000",
          "280000–300000",
          "300000–320000",
          "320000–340000",
          "340000–360000",
          "360000–380000",
          "380000–400000",
          "400000–420000",
          "420000–440000",
          "440000–460000",
          "460000–480000",
          "480000–500000",
          "500000–520000",
          "520000–540000",
          "540000–560000",
          "560000–580000",
          "580000–600000",
          "600000–620000",
          "620000–640000",
          "640000–660000",
          "660000–680000",
          "680000–700000",
          "700000–720000",
          "720000–740000",
          "740000–760000",
          "760000–780000",
          "780000–800000",
          "800000–820000",
          "820000–840000",
          "840000–860000",
          "860000–880000",
          "880000–900000",
          "900000–920000",
          "920000–940000",
          "940000–960000",
          "960000–980000",
          "980000–1000000",
          "1000000+"
         ],
         "y": {
          "dtype": "f8",
          "bdata": "rVwdICtXVEBpTrQJgs5TQNlCmjyzWFJAMT8TUVzeU0C9y+/g6DxRQOpbKKufOk1ARWVo1dF5TEBVVVVV1WxLQKfVbtSBY1BAcqwCBAaJSUA8Dt2yMUBCQHIcx3Ecx1BAOhR9UWARSkBxBoSSO0VHQHDOUh6UDklAKHZiJ3biS0DjOI7jOA5SQNbD6mH1sElAla/DEo7qSUAXJquPkvA1QBPaS2gvIVFAzmI6i+ksRECdc84555xFQIfyGspraFNAe6Jso33VQ0A7sRM7sRNXQLrooosuulZA0UUXXXTRP0C3bdu2bdtRQKqqqqqqqlBAAAAAAAAAWUAAAAAAAABZQJh0ah7krk9AAAAAAAAA+H8AAAAAAFhLQCRJkiRJkixAAAAAAAAgTEB88MEHH3xXQAAAAAAAAFlAhdLGO6pZJ0C3bdu2bRtYQAAAAAAAAFlAAAAAAAAAWUAAAAAAAAD4f6qqqqqqqkBAAAAAAAAA+H8AAAAAAAD4f9dQXkN5DUVAAAAAAAAAWUAAAAAAAABZQOBsHfrN1lVA"
         },
         "type": "scatter"
        },
        {
         "fill": "tonexty",
         "hovertemplate": "Share: %{y:.1f}%<br>Count: %{text}<extra></extra>",
         "line": {
          "color": "blue"
         },
         "mode": "lines",
         "name": "Target = 1",
         "text": {
          "dtype": "f8",
          "bdata": "AAAAAAAAWkAAAAAAACCBQAAAAAAAZJFAAAAAAABIg0AAAAAAAGSTQAAAAAAAkIZAAAAAAAAgh0AAAAAAAKyVQAAAAAAAoH9AAAAAAABIjUAAAAAAAKCDQAAAAAAAgFJAAAAAAACQiUAAAAAAAEBVQAAAAAAAiIRAAAAAAAAAN0AAAAAAAEBVQAAAAAAAYGpAAAAAAAAAV0AAAAAAAOiJQAAAAAAAAFFAAAAAAAAAQUAAAAAAAABmQAAAAAAAADFAAAAAAABwdEAAAAAAAADwPwAAAAAAAPA/AAAAAACARkAAAAAAAAA8QAAAAAAAADJAAAAAAAAAAAAAAAAAAAAAAAAAAAAAgEJAAAAAAAAAAAAAAAAAAAA9QAAAAAAAAChAAAAAAAAAHEAAAAAAAAAAQAAAAAAAAAAAAAAAAADAZUAAAAAAAAAAQAAAAAAAAAAAAAAAAAAAAAAAAAAAAAAAAAAAAAAAACBAAAAAAAAAAAAAAAAAAAAAAAAAAAAAADZAAAAAAAAAAAAAAAAAAAAAAAAAAAAAACZA"
         },
         "x": [
          "0–20000",
          "20000–40000",
          "40000–60000",
          "60000–80000",
          "80000–100000",
          "100000–120000",
          "120000–140000",
          "140000–160000",
          "160000–180000",
          "180000–200000",
          "200000–220000",
          "220000–240000",
          "240000–260000",
          "260000–280000",
          "280000–300000",
          "300000–320000",
          "320000–340000",
          "340000–360000",
          "360000–380000",
          "380000–400000",
          "400000–420000",
          "420000–440000",
          "440000–460000",
          "460000–480000",
          "480000–500000",
          "500000–520000",
          "520000–540000",
          "540000–560000",
          "560000–580000",
          "580000–600000",
          "600000–620000",
          "620000–640000",
          "640000–660000",
          "660000–680000",
          "680000–700000",
          "700000–720000",
          "720000–740000",
          "740000–760000",
          "760000–780000",
          "780000–800000",
          "800000–820000",
          "820000–840000",
          "840000–860000",
          "860000–880000",
          "880000–900000",
          "900000–920000",
          "920000–940000",
          "940000–960000",
          "960000–980000",
          "980000–1000000",
          "1000000+"
         ],
         "y": {
          "dtype": "f8",
          "bdata": "To2Kf1OjMkBbxi7Z98U0QJz0lg0znTpAPQOzu46GNEAO0UB8XAw/QBak11RgxURAu5qXKi6GRUCqqqqqKpNGQLJUIlf8OEFAjVP9+/l2SEDD8SJNzr9PQB3HcRzHcUBAx+uCrp/uR0CP+XttxLpKQJExreFr8UhA2Imd2IkdRkByHMdxHMc7QCs8FZ4KT0hAa1A87XEVSEB7NhVc24NTQLSX0F5Cez9AMZ3FdBbTTUBjjDHGGGNMQOU1lNdQXjZAhl2TXIIqTkBP7MRO7MQeQC+66KKLLiJAiy666KILUUAkSZIkSZI8QKqqqqqqqkBAAAAAAAAAAAAAAAAAAAAAAGiLleEbUUJAAAAAAAAA+H8AAAAAAKhGQNu2bdu2bVVAAAAAAADgRUA++OCDDz4YQAAAAAAAAAAAryWHuMoUVkAkSZIkSZIMQAAAAAAAAAAAAAAAAAAAAAAAAAAAAAD4f6qqqqqqqlBAAAAAAAAA+H8AAAAAAAD4fymvobyG8kxAAAAAAAAAAAAAAAAAAAAAAASZFC+QSSlA"
         },
         "type": "scatter"
        }
       ],
       "layout": {
        "template": {
         "data": {
          "histogram2dcontour": [
           {
            "type": "histogram2dcontour",
            "colorbar": {
             "outlinewidth": 0,
             "ticks": ""
            },
            "colorscale": [
             [
              0.0,
              "#0d0887"
             ],
             [
              0.1111111111111111,
              "#46039f"
             ],
             [
              0.2222222222222222,
              "#7201a8"
             ],
             [
              0.3333333333333333,
              "#9c179e"
             ],
             [
              0.4444444444444444,
              "#bd3786"
             ],
             [
              0.5555555555555556,
              "#d8576b"
             ],
             [
              0.6666666666666666,
              "#ed7953"
             ],
             [
              0.7777777777777778,
              "#fb9f3a"
             ],
             [
              0.8888888888888888,
              "#fdca26"
             ],
             [
              1.0,
              "#f0f921"
             ]
            ]
           }
          ],
          "choropleth": [
           {
            "type": "choropleth",
            "colorbar": {
             "outlinewidth": 0,
             "ticks": ""
            }
           }
          ],
          "histogram2d": [
           {
            "type": "histogram2d",
            "colorbar": {
             "outlinewidth": 0,
             "ticks": ""
            },
            "colorscale": [
             [
              0.0,
              "#0d0887"
             ],
             [
              0.1111111111111111,
              "#46039f"
             ],
             [
              0.2222222222222222,
              "#7201a8"
             ],
             [
              0.3333333333333333,
              "#9c179e"
             ],
             [
              0.4444444444444444,
              "#bd3786"
             ],
             [
              0.5555555555555556,
              "#d8576b"
             ],
             [
              0.6666666666666666,
              "#ed7953"
             ],
             [
              0.7777777777777778,
              "#fb9f3a"
             ],
             [
              0.8888888888888888,
              "#fdca26"
             ],
             [
              1.0,
              "#f0f921"
             ]
            ]
           }
          ],
          "heatmap": [
           {
            "type": "heatmap",
            "colorbar": {
             "outlinewidth": 0,
             "ticks": ""
            },
            "colorscale": [
             [
              0.0,
              "#0d0887"
             ],
             [
              0.1111111111111111,
              "#46039f"
             ],
             [
              0.2222222222222222,
              "#7201a8"
             ],
             [
              0.3333333333333333,
              "#9c179e"
             ],
             [
              0.4444444444444444,
              "#bd3786"
             ],
             [
              0.5555555555555556,
              "#d8576b"
             ],
             [
              0.6666666666666666,
              "#ed7953"
             ],
             [
              0.7777777777777778,
              "#fb9f3a"
             ],
             [
              0.8888888888888888,
              "#fdca26"
             ],
             [
              1.0,
              "#f0f921"
             ]
            ]
           }
          ],
          "contourcarpet": [
           {
            "type": "contourcarpet",
            "colorbar": {
             "outlinewidth": 0,
             "ticks": ""
            }
           }
          ],
          "contour": [
           {
            "type": "contour",
            "colorbar": {
             "outlinewidth": 0,
             "ticks": ""
            },
            "colorscale": [
             [
              0.0,
              "#0d0887"
             ],
             [
              0.1111111111111111,
              "#46039f"
             ],
             [
              0.2222222222222222,
              "#7201a8"
             ],
             [
              0.3333333333333333,
              "#9c179e"
             ],
             [
              0.4444444444444444,
              "#bd3786"
             ],
             [
              0.5555555555555556,
              "#d8576b"
             ],
             [
              0.6666666666666666,
              "#ed7953"
             ],
             [
              0.7777777777777778,
              "#fb9f3a"
             ],
             [
              0.8888888888888888,
              "#fdca26"
             ],
             [
              1.0,
              "#f0f921"
             ]
            ]
           }
          ],
          "surface": [
           {
            "type": "surface",
            "colorbar": {
             "outlinewidth": 0,
             "ticks": ""
            },
            "colorscale": [
             [
              0.0,
              "#0d0887"
             ],
             [
              0.1111111111111111,
              "#46039f"
             ],
             [
              0.2222222222222222,
              "#7201a8"
             ],
             [
              0.3333333333333333,
              "#9c179e"
             ],
             [
              0.4444444444444444,
              "#bd3786"
             ],
             [
              0.5555555555555556,
              "#d8576b"
             ],
             [
              0.6666666666666666,
              "#ed7953"
             ],
             [
              0.7777777777777778,
              "#fb9f3a"
             ],
             [
              0.8888888888888888,
              "#fdca26"
             ],
             [
              1.0,
              "#f0f921"
             ]
            ]
           }
          ],
          "mesh3d": [
           {
            "type": "mesh3d",
            "colorbar": {
             "outlinewidth": 0,
             "ticks": ""
            }
           }
          ],
          "scatter": [
           {
            "marker": {
             "line": {
              "color": "#283442"
             }
            },
            "type": "scatter"
           }
          ],
          "parcoords": [
           {
            "type": "parcoords",
            "line": {
             "colorbar": {
              "outlinewidth": 0,
              "ticks": ""
             }
            }
           }
          ],
          "scatterpolargl": [
           {
            "type": "scatterpolargl",
            "marker": {
             "colorbar": {
              "outlinewidth": 0,
              "ticks": ""
             }
            }
           }
          ],
          "bar": [
           {
            "error_x": {
             "color": "#f2f5fa"
            },
            "error_y": {
             "color": "#f2f5fa"
            },
            "marker": {
             "line": {
              "color": "rgb(17,17,17)",
              "width": 0.5
             },
             "pattern": {
              "fillmode": "overlay",
              "size": 10,
              "solidity": 0.2
             }
            },
            "type": "bar"
           }
          ],
          "scattergeo": [
           {
            "type": "scattergeo",
            "marker": {
             "colorbar": {
              "outlinewidth": 0,
              "ticks": ""
             }
            }
           }
          ],
          "scatterpolar": [
           {
            "type": "scatterpolar",
            "marker": {
             "colorbar": {
              "outlinewidth": 0,
              "ticks": ""
             }
            }
           }
          ],
          "histogram": [
           {
            "marker": {
             "pattern": {
              "fillmode": "overlay",
              "size": 10,
              "solidity": 0.2
             }
            },
            "type": "histogram"
           }
          ],
          "scattergl": [
           {
            "marker": {
             "line": {
              "color": "#283442"
             }
            },
            "type": "scattergl"
           }
          ],
          "scatter3d": [
           {
            "type": "scatter3d",
            "line": {
             "colorbar": {
              "outlinewidth": 0,
              "ticks": ""
             }
            },
            "marker": {
             "colorbar": {
              "outlinewidth": 0,
              "ticks": ""
             }
            }
           }
          ],
          "scattermap": [
           {
            "type": "scattermap",
            "marker": {
             "colorbar": {
              "outlinewidth": 0,
              "ticks": ""
             }
            }
           }
          ],
          "scattermapbox": [
           {
            "type": "scattermapbox",
            "marker": {
             "colorbar": {
              "outlinewidth": 0,
              "ticks": ""
             }
            }
           }
          ],
          "scatterternary": [
           {
            "type": "scatterternary",
            "marker": {
             "colorbar": {
              "outlinewidth": 0,
              "ticks": ""
             }
            }
           }
          ],
          "scattercarpet": [
           {
            "type": "scattercarpet",
            "marker": {
             "colorbar": {
              "outlinewidth": 0,
              "ticks": ""
             }
            }
           }
          ],
          "carpet": [
           {
            "aaxis": {
             "endlinecolor": "#A2B1C6",
             "gridcolor": "#506784",
             "linecolor": "#506784",
             "minorgridcolor": "#506784",
             "startlinecolor": "#A2B1C6"
            },
            "baxis": {
             "endlinecolor": "#A2B1C6",
             "gridcolor": "#506784",
             "linecolor": "#506784",
             "minorgridcolor": "#506784",
             "startlinecolor": "#A2B1C6"
            },
            "type": "carpet"
           }
          ],
          "table": [
           {
            "cells": {
             "fill": {
              "color": "#506784"
             },
             "line": {
              "color": "rgb(17,17,17)"
             }
            },
            "header": {
             "fill": {
              "color": "#2a3f5f"
             },
             "line": {
              "color": "rgb(17,17,17)"
             }
            },
            "type": "table"
           }
          ],
          "barpolar": [
           {
            "marker": {
             "line": {
              "color": "rgb(17,17,17)",
              "width": 0.5
             },
             "pattern": {
              "fillmode": "overlay",
              "size": 10,
              "solidity": 0.2
             }
            },
            "type": "barpolar"
           }
          ],
          "pie": [
           {
            "automargin": true,
            "type": "pie"
           }
          ]
         },
         "layout": {
          "autotypenumbers": "strict",
          "colorway": [
           "#636efa",
           "#EF553B",
           "#00cc96",
           "#ab63fa",
           "#FFA15A",
           "#19d3f3",
           "#FF6692",
           "#B6E880",
           "#FF97FF",
           "#FECB52"
          ],
          "font": {
           "color": "#f2f5fa"
          },
          "hovermode": "closest",
          "hoverlabel": {
           "align": "left"
          },
          "paper_bgcolor": "rgb(17,17,17)",
          "plot_bgcolor": "rgb(17,17,17)",
          "polar": {
           "bgcolor": "rgb(17,17,17)",
           "angularaxis": {
            "gridcolor": "#506784",
            "linecolor": "#506784",
            "ticks": ""
           },
           "radialaxis": {
            "gridcolor": "#506784",
            "linecolor": "#506784",
            "ticks": ""
           }
          },
          "ternary": {
           "bgcolor": "rgb(17,17,17)",
           "aaxis": {
            "gridcolor": "#506784",
            "linecolor": "#506784",
            "ticks": ""
           },
           "baxis": {
            "gridcolor": "#506784",
            "linecolor": "#506784",
            "ticks": ""
           },
           "caxis": {
            "gridcolor": "#506784",
            "linecolor": "#506784",
            "ticks": ""
           }
          },
          "coloraxis": {
           "colorbar": {
            "outlinewidth": 0,
            "ticks": ""
           }
          },
          "colorscale": {
           "sequential": [
            [
             0.0,
             "#0d0887"
            ],
            [
             0.1111111111111111,
             "#46039f"
            ],
            [
             0.2222222222222222,
             "#7201a8"
            ],
            [
             0.3333333333333333,
             "#9c179e"
            ],
            [
             0.4444444444444444,
             "#bd3786"
            ],
            [
             0.5555555555555556,
             "#d8576b"
            ],
            [
             0.6666666666666666,
             "#ed7953"
            ],
            [
             0.7777777777777778,
             "#fb9f3a"
            ],
            [
             0.8888888888888888,
             "#fdca26"
            ],
            [
             1.0,
             "#f0f921"
            ]
           ],
           "sequentialminus": [
            [
             0.0,
             "#0d0887"
            ],
            [
             0.1111111111111111,
             "#46039f"
            ],
            [
             0.2222222222222222,
             "#7201a8"
            ],
            [
             0.3333333333333333,
             "#9c179e"
            ],
            [
             0.4444444444444444,
             "#bd3786"
            ],
            [
             0.5555555555555556,
             "#d8576b"
            ],
            [
             0.6666666666666666,
             "#ed7953"
            ],
            [
             0.7777777777777778,
             "#fb9f3a"
            ],
            [
             0.8888888888888888,
             "#fdca26"
            ],
            [
             1.0,
             "#f0f921"
            ]
           ],
           "diverging": [
            [
             0,
             "#8e0152"
            ],
            [
             0.1,
             "#c51b7d"
            ],
            [
             0.2,
             "#de77ae"
            ],
            [
             0.3,
             "#f1b6da"
            ],
            [
             0.4,
             "#fde0ef"
            ],
            [
             0.5,
             "#f7f7f7"
            ],
            [
             0.6,
             "#e6f5d0"
            ],
            [
             0.7,
             "#b8e186"
            ],
            [
             0.8,
             "#7fbc41"
            ],
            [
             0.9,
             "#4d9221"
            ],
            [
             1,
             "#276419"
            ]
           ]
          },
          "xaxis": {
           "gridcolor": "#283442",
           "linecolor": "#506784",
           "ticks": "",
           "title": {
            "standoff": 15
           },
           "zerolinecolor": "#283442",
           "automargin": true,
           "zerolinewidth": 2
          },
          "yaxis": {
           "gridcolor": "#283442",
           "linecolor": "#506784",
           "ticks": "",
           "title": {
            "standoff": 15
           },
           "zerolinecolor": "#283442",
           "automargin": true,
           "zerolinewidth": 2
          },
          "scene": {
           "xaxis": {
            "backgroundcolor": "rgb(17,17,17)",
            "gridcolor": "#506784",
            "linecolor": "#506784",
            "showbackground": true,
            "ticks": "",
            "zerolinecolor": "#C8D4E3",
            "gridwidth": 2
           },
           "yaxis": {
            "backgroundcolor": "rgb(17,17,17)",
            "gridcolor": "#506784",
            "linecolor": "#506784",
            "showbackground": true,
            "ticks": "",
            "zerolinecolor": "#C8D4E3",
            "gridwidth": 2
           },
           "zaxis": {
            "backgroundcolor": "rgb(17,17,17)",
            "gridcolor": "#506784",
            "linecolor": "#506784",
            "showbackground": true,
            "ticks": "",
            "zerolinecolor": "#C8D4E3",
            "gridwidth": 2
           }
          },
          "shapedefaults": {
           "line": {
            "color": "#f2f5fa"
           }
          },
          "annotationdefaults": {
           "arrowcolor": "#f2f5fa",
           "arrowhead": 0,
           "arrowwidth": 1
          },
          "geo": {
           "bgcolor": "rgb(17,17,17)",
           "landcolor": "rgb(17,17,17)",
           "subunitcolor": "#506784",
           "showland": true,
           "showlakes": true,
           "lakecolor": "rgb(17,17,17)"
          },
          "title": {
           "x": 0.05
          },
          "updatemenudefaults": {
           "bgcolor": "#506784",
           "borderwidth": 0
          },
          "sliderdefaults": {
           "bgcolor": "#C8D4E3",
           "borderwidth": 1,
           "bordercolor": "rgb(17,17,17)",
           "tickwidth": 0
          },
          "mapbox": {
           "style": "dark"
          }
         }
        },
        "yaxis": {
         "title": {
          "text": "%"
         },
         "range": [
          0,
          100
         ],
         "ticksuffix": "%"
        },
        "title": {
         "text": "Распределение целевого признака по resume_salary_bin"
        },
        "xaxis": {
         "title": {
          "text": "resume_age"
         }
        },
        "plot_bgcolor": "white"
       },
       "config": {
        "plotlyServerURL": "https://plot.ly"
       }
      }
     },
     "metadata": {},
     "output_type": "display_data",
     "jetTransient": {
      "display_id": null
     }
    }
   ],
   "execution_count": 41
  },
  {
   "metadata": {
    "ExecuteTime": {
     "end_time": "2025-10-26T05:12:07.280527Z",
     "start_time": "2025-10-25T17:31:19.894655Z"
    }
   },
   "cell_type": "markdown",
   "source": [
    "<div style=\"background-color: #98FB98; color: black; padding: 10px; border-radius: 5px;\">\n",
    "\n",
    "Линейной зависимости не наблюдается, разброс значений с ростом зарплаты, скорее, говорит о снижении кол-во наблюдений в датасете, чем о паттерне.\n",
    "\n",
    "</div>"
   ],
   "id": "5ff86a67c2531aa4"
  }
 ],
 "metadata": {
  "kernelspec": {
   "display_name": "Python 3 (ipykernel)",
   "language": "python",
   "name": "python3"
  },
  "language_info": {
   "codemirror_mode": {
    "name": "ipython",
    "version": 3
   },
   "file_extension": ".py",
   "mimetype": "text/x-python",
   "name": "python",
   "nbconvert_exporter": "python",
   "pygments_lexer": "ipython3",
   "version": "3.12.3"
  }
 },
 "nbformat": 4,
 "nbformat_minor": 5
}
